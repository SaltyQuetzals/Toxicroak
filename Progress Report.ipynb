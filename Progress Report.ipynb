{
 "cells": [
  {
   "cell_type": "code",
   "execution_count": 1,
   "metadata": {},
   "outputs": [],
   "source": [
    "from os import path\n",
    "\n",
    "from matplotlib import pyplot as plt\n",
    "import pandas as pd\n",
    "\n",
    "from sklearn.feature_extraction.text import TfidfVectorizer, CountVectorizer\n",
    "from sklearn.naive_bayes import ComplementNB\n",
    "from sklearn.linear_model import LogisticRegression\n",
    "from sklearn.pipeline import make_pipeline, make_union\n",
    "from sklearn.model_selection import train_test_split, GridSearchCV\n",
    "from sklearn.multiclass import OneVsRestClassifier\n",
    "from sklearn import metrics\n",
    "\n",
    "DATA_PATH = 'data/'\n",
    "LABEL_COLS = ['toxic', 'severe_toxic', 'obscene', 'threat', 'insult', 'identity_hate']\n",
    "CHUNK_SIZE = 1000"
   ]
  },
  {
   "cell_type": "code",
   "execution_count": null,
   "metadata": {},
   "outputs": [],
   "source": [
    "USE_PREPROCESSED = False"
   ]
  },
  {
   "cell_type": "code",
   "execution_count": 2,
   "metadata": {},
   "outputs": [],
   "source": [
    "def not_toxic(row):\n",
    "    return 1 if not any(row) else 0"
   ]
  },
  {
   "cell_type": "code",
   "execution_count": 3,
   "metadata": {},
   "outputs": [],
   "source": [
    "BAD_WORDS = []\n",
    "with open(DATA_PATH + 'bad_words.txt', 'r') as f:\n",
    "    BAD_WORDS = f.read().split('\\n')"
   ]
  },
  {
   "cell_type": "markdown",
   "metadata": {},
   "source": [
    "### training_data_path = DATA_PATH\n",
    "if USE_PREPROCESSED:\n",
    "    training_data_path + '/preprocessed/'\n",
    "else:\n",
    "    training_data_path + '/raw/'\n",
    "training_data_path += 'train.csv'"
   ]
  },
  {
   "cell_type": "code",
   "execution_count": 4,
   "metadata": {},
   "outputs": [],
   "source": [
    "df = pd.read_csv(training_data_path)\n",
    "X = df['comment_text']\n",
    "# df['not_toxic'] = df[LABEL_COLS].apply(not_toxic, axis=1)\n",
    "# LABEL_COLS.append('not_toxic')\n",
    "y = df[LABEL_COLS]"
   ]
  },
  {
   "cell_type": "code",
   "execution_count": 5,
   "metadata": {},
   "outputs": [
    {
     "name": "stdout",
     "output_type": "stream",
     "text": [
      "Number of training rows: 159571\n",
      "toxic            15294.0\n",
      "severe_toxic      1595.0\n",
      "obscene           8449.0\n",
      "threat             478.0\n",
      "insult            7877.0\n",
      "identity_hate     1405.0\n",
      "dtype: float64\n"
     ]
    }
   ],
   "source": [
    "print(f\"Number of training rows: {len(df)}\")\n",
    "print(y.sum())"
   ]
  },
  {
   "cell_type": "code",
   "execution_count": 6,
   "metadata": {},
   "outputs": [
    {
     "data": {
      "image/png": "[encoded data removed]",
      "text/plain": [
       "<Figure size 432x288 with 1 Axes>"
      ]
     },
     "metadata": {
      "needs_background": "light"
     },
     "output_type": "display_data"
    }
   ],
   "source": [
    "df['char_length'] = df['comment_text'].apply(lambda x: len(str(x)))\n",
    "df['char_length'].hist()\n",
    "plt.show()"
   ]
  },
  {
   "cell_type": "markdown",
   "metadata": {},
   "source": [
    "Most comments fall between 0 and 1000 characters in length. Perhaps characters should be considered as a feature."
   ]
  },
  {
   "cell_type": "code",
   "execution_count": 7,
   "metadata": {},
   "outputs": [
    {
     "data": {
      "text/plain": [
       "count    159571.000000\n",
       "mean        379.955255\n",
       "std         571.583826\n",
       "min           1.000000\n",
       "25%          90.000000\n",
       "50%         197.000000\n",
       "75%         421.000000\n",
       "max        6251.000000\n",
       "Name: char_length, dtype: float64"
      ]
     },
     "execution_count": 7,
     "metadata": {},
     "output_type": "execute_result"
    }
   ],
   "source": [
    "df['char_length'].describe()"
   ]
  },
  {
   "cell_type": "code",
   "execution_count": 8,
   "metadata": {},
   "outputs": [],
   "source": [
    "X_train, X_valid, y_train, y_valid = train_test_split(X, y, test_size=0.33)"
   ]
  },
  {
   "cell_type": "code",
   "execution_count": 9,
   "metadata": {},
   "outputs": [
    {
     "name": "stderr",
     "output_type": "stream",
     "text": [
      "/home/quontas/anaconda3/lib/python3.7/site-packages/sklearn/model_selection/_split.py:1943: FutureWarning: You should specify a value for 'cv' instead of relying on the default value. The default value will change from 3 to 5 in version 0.22.\n",
      "  warnings.warn(CV_WARNING, FutureWarning)\n",
      "[Parallel(n_jobs=1)]: Using backend SequentialBackend with 1 concurrent workers.\n"
     ]
    },
    {
     "name": "stdout",
     "output_type": "stream",
     "text": [
      "Fitting 3 folds for each of 64 candidates, totalling 192 fits\n",
      "[CV] featureunion__tfidfvectorizer__lowercase=True, featureunion__tfidfvectorizer__max_features=1000, featureunion__tfidfvectorizer__ngram_range=(1, 1), onevsrestclassifier__estimator__alpha=0.001 \n",
      "[CV]  featureunion__tfidfvectorizer__lowercase=True, featureunion__tfidfvectorizer__max_features=1000, featureunion__tfidfvectorizer__ngram_range=(1, 1), onevsrestclassifier__estimator__alpha=0.001, total=   7.8s\n",
      "[CV] featureunion__tfidfvectorizer__lowercase=True, featureunion__tfidfvectorizer__max_features=1000, featureunion__tfidfvectorizer__ngram_range=(1, 1), onevsrestclassifier__estimator__alpha=0.001 \n"
     ]
    },
    {
     "name": "stderr",
     "output_type": "stream",
     "text": [
      "[Parallel(n_jobs=1)]: Done   1 out of   1 | elapsed:   12.8s remaining:    0.0s\n"
     ]
    },
    {
     "name": "stdout",
     "output_type": "stream",
     "text": [
      "[CV]  featureunion__tfidfvectorizer__lowercase=True, featureunion__tfidfvectorizer__max_features=1000, featureunion__tfidfvectorizer__ngram_range=(1, 1), onevsrestclassifier__estimator__alpha=0.001, total=   8.0s\n",
      "[CV] featureunion__tfidfvectorizer__lowercase=True, featureunion__tfidfvectorizer__max_features=1000, featureunion__tfidfvectorizer__ngram_range=(1, 1), onevsrestclassifier__estimator__alpha=0.001 \n",
      "[CV]  featureunion__tfidfvectorizer__lowercase=True, featureunion__tfidfvectorizer__max_features=1000, featureunion__tfidfvectorizer__ngram_range=(1, 1), onevsrestclassifier__estimator__alpha=0.001, total=   7.3s\n",
      "[CV] featureunion__tfidfvectorizer__lowercase=True, featureunion__tfidfvectorizer__max_features=1000, featureunion__tfidfvectorizer__ngram_range=(1, 1), onevsrestclassifier__estimator__alpha=0.01 \n",
      "[CV]  featureunion__tfidfvectorizer__lowercase=True, featureunion__tfidfvectorizer__max_features=1000, featureunion__tfidfvectorizer__ngram_range=(1, 1), onevsrestclassifier__estimator__alpha=0.01, total=   7.4s\n",
      "[CV] featureunion__tfidfvectorizer__lowercase=True, featureunion__tfidfvectorizer__max_features=1000, featureunion__tfidfvectorizer__ngram_range=(1, 1), onevsrestclassifier__estimator__alpha=0.01 \n",
      "[CV]  featureunion__tfidfvectorizer__lowercase=True, featureunion__tfidfvectorizer__max_features=1000, featureunion__tfidfvectorizer__ngram_range=(1, 1), onevsrestclassifier__estimator__alpha=0.01, total=   7.3s\n",
      "[CV] featureunion__tfidfvectorizer__lowercase=True, featureunion__tfidfvectorizer__max_features=1000, featureunion__tfidfvectorizer__ngram_range=(1, 1), onevsrestclassifier__estimator__alpha=0.01 \n",
      "[CV]  featureunion__tfidfvectorizer__lowercase=True, featureunion__tfidfvectorizer__max_features=1000, featureunion__tfidfvectorizer__ngram_range=(1, 1), onevsrestclassifier__estimator__alpha=0.01, total=   7.3s\n",
      "[CV] featureunion__tfidfvectorizer__lowercase=True, featureunion__tfidfvectorizer__max_features=1000, featureunion__tfidfvectorizer__ngram_range=(1, 1), onevsrestclassifier__estimator__alpha=0.1 \n",
      "[CV]  featureunion__tfidfvectorizer__lowercase=True, featureunion__tfidfvectorizer__max_features=1000, featureunion__tfidfvectorizer__ngram_range=(1, 1), onevsrestclassifier__estimator__alpha=0.1, total=   7.3s\n",
      "[CV] featureunion__tfidfvectorizer__lowercase=True, featureunion__tfidfvectorizer__max_features=1000, featureunion__tfidfvectorizer__ngram_range=(1, 1), onevsrestclassifier__estimator__alpha=0.1 \n",
      "[CV]  featureunion__tfidfvectorizer__lowercase=True, featureunion__tfidfvectorizer__max_features=1000, featureunion__tfidfvectorizer__ngram_range=(1, 1), onevsrestclassifier__estimator__alpha=0.1, total=   7.3s\n",
      "[CV] featureunion__tfidfvectorizer__lowercase=True, featureunion__tfidfvectorizer__max_features=1000, featureunion__tfidfvectorizer__ngram_range=(1, 1), onevsrestclassifier__estimator__alpha=0.1 \n",
      "[CV]  featureunion__tfidfvectorizer__lowercase=True, featureunion__tfidfvectorizer__max_features=1000, featureunion__tfidfvectorizer__ngram_range=(1, 1), onevsrestclassifier__estimator__alpha=0.1, total=   7.6s\n",
      "[CV] featureunion__tfidfvectorizer__lowercase=True, featureunion__tfidfvectorizer__max_features=1000, featureunion__tfidfvectorizer__ngram_range=(1, 1), onevsrestclassifier__estimator__alpha=1.0 \n",
      "[CV]  featureunion__tfidfvectorizer__lowercase=True, featureunion__tfidfvectorizer__max_features=1000, featureunion__tfidfvectorizer__ngram_range=(1, 1), onevsrestclassifier__estimator__alpha=1.0, total=   7.8s\n",
      "[CV] featureunion__tfidfvectorizer__lowercase=True, featureunion__tfidfvectorizer__max_features=1000, featureunion__tfidfvectorizer__ngram_range=(1, 1), onevsrestclassifier__estimator__alpha=1.0 \n",
      "[CV]  featureunion__tfidfvectorizer__lowercase=True, featureunion__tfidfvectorizer__max_features=1000, featureunion__tfidfvectorizer__ngram_range=(1, 1), onevsrestclassifier__estimator__alpha=1.0, total=   8.2s\n",
      "[CV] featureunion__tfidfvectorizer__lowercase=True, featureunion__tfidfvectorizer__max_features=1000, featureunion__tfidfvectorizer__ngram_range=(1, 1), onevsrestclassifier__estimator__alpha=1.0 \n",
      "[CV]  featureunion__tfidfvectorizer__lowercase=True, featureunion__tfidfvectorizer__max_features=1000, featureunion__tfidfvectorizer__ngram_range=(1, 1), onevsrestclassifier__estimator__alpha=1.0, total=   7.9s\n",
      "[CV] featureunion__tfidfvectorizer__lowercase=True, featureunion__tfidfvectorizer__max_features=1000, featureunion__tfidfvectorizer__ngram_range=(1, 2), onevsrestclassifier__estimator__alpha=0.001 \n",
      "[CV]  featureunion__tfidfvectorizer__lowercase=True, featureunion__tfidfvectorizer__max_features=1000, featureunion__tfidfvectorizer__ngram_range=(1, 2), onevsrestclassifier__estimator__alpha=0.001, total=  14.0s\n",
      "[CV] featureunion__tfidfvectorizer__lowercase=True, featureunion__tfidfvectorizer__max_features=1000, featureunion__tfidfvectorizer__ngram_range=(1, 2), onevsrestclassifier__estimator__alpha=0.001 \n",
      "[CV]  featureunion__tfidfvectorizer__lowercase=True, featureunion__tfidfvectorizer__max_features=1000, featureunion__tfidfvectorizer__ngram_range=(1, 2), onevsrestclassifier__estimator__alpha=0.001, total=  15.4s\n",
      "[CV] featureunion__tfidfvectorizer__lowercase=True, featureunion__tfidfvectorizer__max_features=1000, featureunion__tfidfvectorizer__ngram_range=(1, 2), onevsrestclassifier__estimator__alpha=0.001 \n",
      "[CV]  featureunion__tfidfvectorizer__lowercase=True, featureunion__tfidfvectorizer__max_features=1000, featureunion__tfidfvectorizer__ngram_range=(1, 2), onevsrestclassifier__estimator__alpha=0.001, total=  15.4s\n",
      "[CV] featureunion__tfidfvectorizer__lowercase=True, featureunion__tfidfvectorizer__max_features=1000, featureunion__tfidfvectorizer__ngram_range=(1, 2), onevsrestclassifier__estimator__alpha=0.01 \n",
      "[CV]  featureunion__tfidfvectorizer__lowercase=True, featureunion__tfidfvectorizer__max_features=1000, featureunion__tfidfvectorizer__ngram_range=(1, 2), onevsrestclassifier__estimator__alpha=0.01, total=  15.5s\n",
      "[CV] featureunion__tfidfvectorizer__lowercase=True, featureunion__tfidfvectorizer__max_features=1000, featureunion__tfidfvectorizer__ngram_range=(1, 2), onevsrestclassifier__estimator__alpha=0.01 \n",
      "[CV]  featureunion__tfidfvectorizer__lowercase=True, featureunion__tfidfvectorizer__max_features=1000, featureunion__tfidfvectorizer__ngram_range=(1, 2), onevsrestclassifier__estimator__alpha=0.01, total=  15.4s\n",
      "[CV] featureunion__tfidfvectorizer__lowercase=True, featureunion__tfidfvectorizer__max_features=1000, featureunion__tfidfvectorizer__ngram_range=(1, 2), onevsrestclassifier__estimator__alpha=0.01 \n",
      "[CV]  featureunion__tfidfvectorizer__lowercase=True, featureunion__tfidfvectorizer__max_features=1000, featureunion__tfidfvectorizer__ngram_range=(1, 2), onevsrestclassifier__estimator__alpha=0.01, total=  15.6s\n",
      "[CV] featureunion__tfidfvectorizer__lowercase=True, featureunion__tfidfvectorizer__max_features=1000, featureunion__tfidfvectorizer__ngram_range=(1, 2), onevsrestclassifier__estimator__alpha=0.1 \n",
      "[CV]  featureunion__tfidfvectorizer__lowercase=True, featureunion__tfidfvectorizer__max_features=1000, featureunion__tfidfvectorizer__ngram_range=(1, 2), onevsrestclassifier__estimator__alpha=0.1, total=  15.3s\n",
      "[CV] featureunion__tfidfvectorizer__lowercase=True, featureunion__tfidfvectorizer__max_features=1000, featureunion__tfidfvectorizer__ngram_range=(1, 2), onevsrestclassifier__estimator__alpha=0.1 \n",
      "[CV]  featureunion__tfidfvectorizer__lowercase=True, featureunion__tfidfvectorizer__max_features=1000, featureunion__tfidfvectorizer__ngram_range=(1, 2), onevsrestclassifier__estimator__alpha=0.1, total=  15.7s\n",
      "[CV] featureunion__tfidfvectorizer__lowercase=True, featureunion__tfidfvectorizer__max_features=1000, featureunion__tfidfvectorizer__ngram_range=(1, 2), onevsrestclassifier__estimator__alpha=0.1 \n",
      "[CV]  featureunion__tfidfvectorizer__lowercase=True, featureunion__tfidfvectorizer__max_features=1000, featureunion__tfidfvectorizer__ngram_range=(1, 2), onevsrestclassifier__estimator__alpha=0.1, total=  15.9s\n",
      "[CV] featureunion__tfidfvectorizer__lowercase=True, featureunion__tfidfvectorizer__max_features=1000, featureunion__tfidfvectorizer__ngram_range=(1, 2), onevsrestclassifier__estimator__alpha=1.0 \n",
      "[CV]  featureunion__tfidfvectorizer__lowercase=True, featureunion__tfidfvectorizer__max_features=1000, featureunion__tfidfvectorizer__ngram_range=(1, 2), onevsrestclassifier__estimator__alpha=1.0, total=  15.6s\n",
      "[CV] featureunion__tfidfvectorizer__lowercase=True, featureunion__tfidfvectorizer__max_features=1000, featureunion__tfidfvectorizer__ngram_range=(1, 2), onevsrestclassifier__estimator__alpha=1.0 \n"
     ]
    },
    {
     "name": "stdout",
     "output_type": "stream",
     "text": [
      "[CV]  featureunion__tfidfvectorizer__lowercase=True, featureunion__tfidfvectorizer__max_features=1000, featureunion__tfidfvectorizer__ngram_range=(1, 2), onevsrestclassifier__estimator__alpha=1.0, total=  15.8s\n",
      "[CV] featureunion__tfidfvectorizer__lowercase=True, featureunion__tfidfvectorizer__max_features=1000, featureunion__tfidfvectorizer__ngram_range=(1, 2), onevsrestclassifier__estimator__alpha=1.0 \n",
      "[CV]  featureunion__tfidfvectorizer__lowercase=True, featureunion__tfidfvectorizer__max_features=1000, featureunion__tfidfvectorizer__ngram_range=(1, 2), onevsrestclassifier__estimator__alpha=1.0, total=  15.5s\n",
      "[CV] featureunion__tfidfvectorizer__lowercase=True, featureunion__tfidfvectorizer__max_features=5000, featureunion__tfidfvectorizer__ngram_range=(1, 1), onevsrestclassifier__estimator__alpha=0.001 \n",
      "[CV]  featureunion__tfidfvectorizer__lowercase=True, featureunion__tfidfvectorizer__max_features=5000, featureunion__tfidfvectorizer__ngram_range=(1, 1), onevsrestclassifier__estimator__alpha=0.001, total=   8.7s\n",
      "[CV] featureunion__tfidfvectorizer__lowercase=True, featureunion__tfidfvectorizer__max_features=5000, featureunion__tfidfvectorizer__ngram_range=(1, 1), onevsrestclassifier__estimator__alpha=0.001 \n",
      "[CV]  featureunion__tfidfvectorizer__lowercase=True, featureunion__tfidfvectorizer__max_features=5000, featureunion__tfidfvectorizer__ngram_range=(1, 1), onevsrestclassifier__estimator__alpha=0.001, total=   8.6s\n",
      "[CV] featureunion__tfidfvectorizer__lowercase=True, featureunion__tfidfvectorizer__max_features=5000, featureunion__tfidfvectorizer__ngram_range=(1, 1), onevsrestclassifier__estimator__alpha=0.001 \n",
      "[CV]  featureunion__tfidfvectorizer__lowercase=True, featureunion__tfidfvectorizer__max_features=5000, featureunion__tfidfvectorizer__ngram_range=(1, 1), onevsrestclassifier__estimator__alpha=0.001, total=   8.7s\n",
      "[CV] featureunion__tfidfvectorizer__lowercase=True, featureunion__tfidfvectorizer__max_features=5000, featureunion__tfidfvectorizer__ngram_range=(1, 1), onevsrestclassifier__estimator__alpha=0.01 \n",
      "[CV]  featureunion__tfidfvectorizer__lowercase=True, featureunion__tfidfvectorizer__max_features=5000, featureunion__tfidfvectorizer__ngram_range=(1, 1), onevsrestclassifier__estimator__alpha=0.01, total=   8.8s\n",
      "[CV] featureunion__tfidfvectorizer__lowercase=True, featureunion__tfidfvectorizer__max_features=5000, featureunion__tfidfvectorizer__ngram_range=(1, 1), onevsrestclassifier__estimator__alpha=0.01 \n",
      "[CV]  featureunion__tfidfvectorizer__lowercase=True, featureunion__tfidfvectorizer__max_features=5000, featureunion__tfidfvectorizer__ngram_range=(1, 1), onevsrestclassifier__estimator__alpha=0.01, total=   8.7s\n",
      "[CV] featureunion__tfidfvectorizer__lowercase=True, featureunion__tfidfvectorizer__max_features=5000, featureunion__tfidfvectorizer__ngram_range=(1, 1), onevsrestclassifier__estimator__alpha=0.01 \n",
      "[CV]  featureunion__tfidfvectorizer__lowercase=True, featureunion__tfidfvectorizer__max_features=5000, featureunion__tfidfvectorizer__ngram_range=(1, 1), onevsrestclassifier__estimator__alpha=0.01, total=   8.9s\n",
      "[CV] featureunion__tfidfvectorizer__lowercase=True, featureunion__tfidfvectorizer__max_features=5000, featureunion__tfidfvectorizer__ngram_range=(1, 1), onevsrestclassifier__estimator__alpha=0.1 \n",
      "[CV]  featureunion__tfidfvectorizer__lowercase=True, featureunion__tfidfvectorizer__max_features=5000, featureunion__tfidfvectorizer__ngram_range=(1, 1), onevsrestclassifier__estimator__alpha=0.1, total=   8.6s\n",
      "[CV] featureunion__tfidfvectorizer__lowercase=True, featureunion__tfidfvectorizer__max_features=5000, featureunion__tfidfvectorizer__ngram_range=(1, 1), onevsrestclassifier__estimator__alpha=0.1 \n",
      "[CV]  featureunion__tfidfvectorizer__lowercase=True, featureunion__tfidfvectorizer__max_features=5000, featureunion__tfidfvectorizer__ngram_range=(1, 1), onevsrestclassifier__estimator__alpha=0.1, total=   8.7s\n",
      "[CV] featureunion__tfidfvectorizer__lowercase=True, featureunion__tfidfvectorizer__max_features=5000, featureunion__tfidfvectorizer__ngram_range=(1, 1), onevsrestclassifier__estimator__alpha=0.1 \n",
      "[CV]  featureunion__tfidfvectorizer__lowercase=True, featureunion__tfidfvectorizer__max_features=5000, featureunion__tfidfvectorizer__ngram_range=(1, 1), onevsrestclassifier__estimator__alpha=0.1, total=   8.7s\n",
      "[CV] featureunion__tfidfvectorizer__lowercase=True, featureunion__tfidfvectorizer__max_features=5000, featureunion__tfidfvectorizer__ngram_range=(1, 1), onevsrestclassifier__estimator__alpha=1.0 \n",
      "[CV]  featureunion__tfidfvectorizer__lowercase=True, featureunion__tfidfvectorizer__max_features=5000, featureunion__tfidfvectorizer__ngram_range=(1, 1), onevsrestclassifier__estimator__alpha=1.0, total=   8.8s\n",
      "[CV] featureunion__tfidfvectorizer__lowercase=True, featureunion__tfidfvectorizer__max_features=5000, featureunion__tfidfvectorizer__ngram_range=(1, 1), onevsrestclassifier__estimator__alpha=1.0 \n",
      "[CV]  featureunion__tfidfvectorizer__lowercase=True, featureunion__tfidfvectorizer__max_features=5000, featureunion__tfidfvectorizer__ngram_range=(1, 1), onevsrestclassifier__estimator__alpha=1.0, total=   8.9s\n",
      "[CV] featureunion__tfidfvectorizer__lowercase=True, featureunion__tfidfvectorizer__max_features=5000, featureunion__tfidfvectorizer__ngram_range=(1, 1), onevsrestclassifier__estimator__alpha=1.0 \n",
      "[CV]  featureunion__tfidfvectorizer__lowercase=True, featureunion__tfidfvectorizer__max_features=5000, featureunion__tfidfvectorizer__ngram_range=(1, 1), onevsrestclassifier__estimator__alpha=1.0, total=   8.9s\n",
      "[CV] featureunion__tfidfvectorizer__lowercase=True, featureunion__tfidfvectorizer__max_features=5000, featureunion__tfidfvectorizer__ngram_range=(1, 2), onevsrestclassifier__estimator__alpha=0.001 \n",
      "[CV]  featureunion__tfidfvectorizer__lowercase=True, featureunion__tfidfvectorizer__max_features=5000, featureunion__tfidfvectorizer__ngram_range=(1, 2), onevsrestclassifier__estimator__alpha=0.001, total=  16.0s\n",
      "[CV] featureunion__tfidfvectorizer__lowercase=True, featureunion__tfidfvectorizer__max_features=5000, featureunion__tfidfvectorizer__ngram_range=(1, 2), onevsrestclassifier__estimator__alpha=0.001 \n",
      "[CV]  featureunion__tfidfvectorizer__lowercase=True, featureunion__tfidfvectorizer__max_features=5000, featureunion__tfidfvectorizer__ngram_range=(1, 2), onevsrestclassifier__estimator__alpha=0.001, total=  15.9s\n",
      "[CV] featureunion__tfidfvectorizer__lowercase=True, featureunion__tfidfvectorizer__max_features=5000, featureunion__tfidfvectorizer__ngram_range=(1, 2), onevsrestclassifier__estimator__alpha=0.001 \n",
      "[CV]  featureunion__tfidfvectorizer__lowercase=True, featureunion__tfidfvectorizer__max_features=5000, featureunion__tfidfvectorizer__ngram_range=(1, 2), onevsrestclassifier__estimator__alpha=0.001, total=  16.5s\n",
      "[CV] featureunion__tfidfvectorizer__lowercase=True, featureunion__tfidfvectorizer__max_features=5000, featureunion__tfidfvectorizer__ngram_range=(1, 2), onevsrestclassifier__estimator__alpha=0.01 \n",
      "[CV]  featureunion__tfidfvectorizer__lowercase=True, featureunion__tfidfvectorizer__max_features=5000, featureunion__tfidfvectorizer__ngram_range=(1, 2), onevsrestclassifier__estimator__alpha=0.01, total=  16.0s\n",
      "[CV] featureunion__tfidfvectorizer__lowercase=True, featureunion__tfidfvectorizer__max_features=5000, featureunion__tfidfvectorizer__ngram_range=(1, 2), onevsrestclassifier__estimator__alpha=0.01 \n",
      "[CV]  featureunion__tfidfvectorizer__lowercase=True, featureunion__tfidfvectorizer__max_features=5000, featureunion__tfidfvectorizer__ngram_range=(1, 2), onevsrestclassifier__estimator__alpha=0.01, total=  16.1s\n",
      "[CV] featureunion__tfidfvectorizer__lowercase=True, featureunion__tfidfvectorizer__max_features=5000, featureunion__tfidfvectorizer__ngram_range=(1, 2), onevsrestclassifier__estimator__alpha=0.01 \n",
      "[CV]  featureunion__tfidfvectorizer__lowercase=True, featureunion__tfidfvectorizer__max_features=5000, featureunion__tfidfvectorizer__ngram_range=(1, 2), onevsrestclassifier__estimator__alpha=0.01, total=  15.9s\n",
      "[CV] featureunion__tfidfvectorizer__lowercase=True, featureunion__tfidfvectorizer__max_features=5000, featureunion__tfidfvectorizer__ngram_range=(1, 2), onevsrestclassifier__estimator__alpha=0.1 \n",
      "[CV]  featureunion__tfidfvectorizer__lowercase=True, featureunion__tfidfvectorizer__max_features=5000, featureunion__tfidfvectorizer__ngram_range=(1, 2), onevsrestclassifier__estimator__alpha=0.1, total=  15.7s\n",
      "[CV] featureunion__tfidfvectorizer__lowercase=True, featureunion__tfidfvectorizer__max_features=5000, featureunion__tfidfvectorizer__ngram_range=(1, 2), onevsrestclassifier__estimator__alpha=0.1 \n"
     ]
    },
    {
     "name": "stdout",
     "output_type": "stream",
     "text": [
      "[CV]  featureunion__tfidfvectorizer__lowercase=True, featureunion__tfidfvectorizer__max_features=5000, featureunion__tfidfvectorizer__ngram_range=(1, 2), onevsrestclassifier__estimator__alpha=0.1, total=  15.5s\n",
      "[CV] featureunion__tfidfvectorizer__lowercase=True, featureunion__tfidfvectorizer__max_features=5000, featureunion__tfidfvectorizer__ngram_range=(1, 2), onevsrestclassifier__estimator__alpha=0.1 \n",
      "[CV]  featureunion__tfidfvectorizer__lowercase=True, featureunion__tfidfvectorizer__max_features=5000, featureunion__tfidfvectorizer__ngram_range=(1, 2), onevsrestclassifier__estimator__alpha=0.1, total=  16.2s\n",
      "[CV] featureunion__tfidfvectorizer__lowercase=True, featureunion__tfidfvectorizer__max_features=5000, featureunion__tfidfvectorizer__ngram_range=(1, 2), onevsrestclassifier__estimator__alpha=1.0 \n",
      "[CV]  featureunion__tfidfvectorizer__lowercase=True, featureunion__tfidfvectorizer__max_features=5000, featureunion__tfidfvectorizer__ngram_range=(1, 2), onevsrestclassifier__estimator__alpha=1.0, total=  15.7s\n",
      "[CV] featureunion__tfidfvectorizer__lowercase=True, featureunion__tfidfvectorizer__max_features=5000, featureunion__tfidfvectorizer__ngram_range=(1, 2), onevsrestclassifier__estimator__alpha=1.0 \n",
      "[CV]  featureunion__tfidfvectorizer__lowercase=True, featureunion__tfidfvectorizer__max_features=5000, featureunion__tfidfvectorizer__ngram_range=(1, 2), onevsrestclassifier__estimator__alpha=1.0, total=  16.2s\n",
      "[CV] featureunion__tfidfvectorizer__lowercase=True, featureunion__tfidfvectorizer__max_features=5000, featureunion__tfidfvectorizer__ngram_range=(1, 2), onevsrestclassifier__estimator__alpha=1.0 \n",
      "[CV]  featureunion__tfidfvectorizer__lowercase=True, featureunion__tfidfvectorizer__max_features=5000, featureunion__tfidfvectorizer__ngram_range=(1, 2), onevsrestclassifier__estimator__alpha=1.0, total=  16.0s\n",
      "[CV] featureunion__tfidfvectorizer__lowercase=True, featureunion__tfidfvectorizer__max_features=10000, featureunion__tfidfvectorizer__ngram_range=(1, 1), onevsrestclassifier__estimator__alpha=0.001 \n",
      "[CV]  featureunion__tfidfvectorizer__lowercase=True, featureunion__tfidfvectorizer__max_features=10000, featureunion__tfidfvectorizer__ngram_range=(1, 1), onevsrestclassifier__estimator__alpha=0.001, total=   8.8s\n",
      "[CV] featureunion__tfidfvectorizer__lowercase=True, featureunion__tfidfvectorizer__max_features=10000, featureunion__tfidfvectorizer__ngram_range=(1, 1), onevsrestclassifier__estimator__alpha=0.001 \n",
      "[CV]  featureunion__tfidfvectorizer__lowercase=True, featureunion__tfidfvectorizer__max_features=10000, featureunion__tfidfvectorizer__ngram_range=(1, 1), onevsrestclassifier__estimator__alpha=0.001, total=   8.7s\n",
      "[CV] featureunion__tfidfvectorizer__lowercase=True, featureunion__tfidfvectorizer__max_features=10000, featureunion__tfidfvectorizer__ngram_range=(1, 1), onevsrestclassifier__estimator__alpha=0.001 \n",
      "[CV]  featureunion__tfidfvectorizer__lowercase=True, featureunion__tfidfvectorizer__max_features=10000, featureunion__tfidfvectorizer__ngram_range=(1, 1), onevsrestclassifier__estimator__alpha=0.001, total=   8.7s\n",
      "[CV] featureunion__tfidfvectorizer__lowercase=True, featureunion__tfidfvectorizer__max_features=10000, featureunion__tfidfvectorizer__ngram_range=(1, 1), onevsrestclassifier__estimator__alpha=0.01 \n",
      "[CV]  featureunion__tfidfvectorizer__lowercase=True, featureunion__tfidfvectorizer__max_features=10000, featureunion__tfidfvectorizer__ngram_range=(1, 1), onevsrestclassifier__estimator__alpha=0.01, total=   8.7s\n",
      "[CV] featureunion__tfidfvectorizer__lowercase=True, featureunion__tfidfvectorizer__max_features=10000, featureunion__tfidfvectorizer__ngram_range=(1, 1), onevsrestclassifier__estimator__alpha=0.01 \n",
      "[CV]  featureunion__tfidfvectorizer__lowercase=True, featureunion__tfidfvectorizer__max_features=10000, featureunion__tfidfvectorizer__ngram_range=(1, 1), onevsrestclassifier__estimator__alpha=0.01, total=   8.6s\n",
      "[CV] featureunion__tfidfvectorizer__lowercase=True, featureunion__tfidfvectorizer__max_features=10000, featureunion__tfidfvectorizer__ngram_range=(1, 1), onevsrestclassifier__estimator__alpha=0.01 \n",
      "[CV]  featureunion__tfidfvectorizer__lowercase=True, featureunion__tfidfvectorizer__max_features=10000, featureunion__tfidfvectorizer__ngram_range=(1, 1), onevsrestclassifier__estimator__alpha=0.01, total=   8.8s\n",
      "[CV] featureunion__tfidfvectorizer__lowercase=True, featureunion__tfidfvectorizer__max_features=10000, featureunion__tfidfvectorizer__ngram_range=(1, 1), onevsrestclassifier__estimator__alpha=0.1 \n",
      "[CV]  featureunion__tfidfvectorizer__lowercase=True, featureunion__tfidfvectorizer__max_features=10000, featureunion__tfidfvectorizer__ngram_range=(1, 1), onevsrestclassifier__estimator__alpha=0.1, total=   8.7s\n",
      "[CV] featureunion__tfidfvectorizer__lowercase=True, featureunion__tfidfvectorizer__max_features=10000, featureunion__tfidfvectorizer__ngram_range=(1, 1), onevsrestclassifier__estimator__alpha=0.1 \n",
      "[CV]  featureunion__tfidfvectorizer__lowercase=True, featureunion__tfidfvectorizer__max_features=10000, featureunion__tfidfvectorizer__ngram_range=(1, 1), onevsrestclassifier__estimator__alpha=0.1, total=   8.6s\n",
      "[CV] featureunion__tfidfvectorizer__lowercase=True, featureunion__tfidfvectorizer__max_features=10000, featureunion__tfidfvectorizer__ngram_range=(1, 1), onevsrestclassifier__estimator__alpha=0.1 \n",
      "[CV]  featureunion__tfidfvectorizer__lowercase=True, featureunion__tfidfvectorizer__max_features=10000, featureunion__tfidfvectorizer__ngram_range=(1, 1), onevsrestclassifier__estimator__alpha=0.1, total=   8.7s\n",
      "[CV] featureunion__tfidfvectorizer__lowercase=True, featureunion__tfidfvectorizer__max_features=10000, featureunion__tfidfvectorizer__ngram_range=(1, 1), onevsrestclassifier__estimator__alpha=1.0 \n",
      "[CV]  featureunion__tfidfvectorizer__lowercase=True, featureunion__tfidfvectorizer__max_features=10000, featureunion__tfidfvectorizer__ngram_range=(1, 1), onevsrestclassifier__estimator__alpha=1.0, total=   8.9s\n",
      "[CV] featureunion__tfidfvectorizer__lowercase=True, featureunion__tfidfvectorizer__max_features=10000, featureunion__tfidfvectorizer__ngram_range=(1, 1), onevsrestclassifier__estimator__alpha=1.0 \n",
      "[CV]  featureunion__tfidfvectorizer__lowercase=True, featureunion__tfidfvectorizer__max_features=10000, featureunion__tfidfvectorizer__ngram_range=(1, 1), onevsrestclassifier__estimator__alpha=1.0, total=   8.9s\n",
      "[CV] featureunion__tfidfvectorizer__lowercase=True, featureunion__tfidfvectorizer__max_features=10000, featureunion__tfidfvectorizer__ngram_range=(1, 1), onevsrestclassifier__estimator__alpha=1.0 \n",
      "[CV]  featureunion__tfidfvectorizer__lowercase=True, featureunion__tfidfvectorizer__max_features=10000, featureunion__tfidfvectorizer__ngram_range=(1, 1), onevsrestclassifier__estimator__alpha=1.0, total=   8.9s\n",
      "[CV] featureunion__tfidfvectorizer__lowercase=True, featureunion__tfidfvectorizer__max_features=10000, featureunion__tfidfvectorizer__ngram_range=(1, 2), onevsrestclassifier__estimator__alpha=0.001 \n",
      "[CV]  featureunion__tfidfvectorizer__lowercase=True, featureunion__tfidfvectorizer__max_features=10000, featureunion__tfidfvectorizer__ngram_range=(1, 2), onevsrestclassifier__estimator__alpha=0.001, total=  16.2s\n",
      "[CV] featureunion__tfidfvectorizer__lowercase=True, featureunion__tfidfvectorizer__max_features=10000, featureunion__tfidfvectorizer__ngram_range=(1, 2), onevsrestclassifier__estimator__alpha=0.001 \n",
      "[CV]  featureunion__tfidfvectorizer__lowercase=True, featureunion__tfidfvectorizer__max_features=10000, featureunion__tfidfvectorizer__ngram_range=(1, 2), onevsrestclassifier__estimator__alpha=0.001, total=  16.2s\n",
      "[CV] featureunion__tfidfvectorizer__lowercase=True, featureunion__tfidfvectorizer__max_features=10000, featureunion__tfidfvectorizer__ngram_range=(1, 2), onevsrestclassifier__estimator__alpha=0.001 \n",
      "[CV]  featureunion__tfidfvectorizer__lowercase=True, featureunion__tfidfvectorizer__max_features=10000, featureunion__tfidfvectorizer__ngram_range=(1, 2), onevsrestclassifier__estimator__alpha=0.001, total=  15.8s\n",
      "[CV] featureunion__tfidfvectorizer__lowercase=True, featureunion__tfidfvectorizer__max_features=10000, featureunion__tfidfvectorizer__ngram_range=(1, 2), onevsrestclassifier__estimator__alpha=0.01 \n"
     ]
    },
    {
     "name": "stdout",
     "output_type": "stream",
     "text": [
      "[CV]  featureunion__tfidfvectorizer__lowercase=True, featureunion__tfidfvectorizer__max_features=10000, featureunion__tfidfvectorizer__ngram_range=(1, 2), onevsrestclassifier__estimator__alpha=0.01, total=  15.7s\n",
      "[CV] featureunion__tfidfvectorizer__lowercase=True, featureunion__tfidfvectorizer__max_features=10000, featureunion__tfidfvectorizer__ngram_range=(1, 2), onevsrestclassifier__estimator__alpha=0.01 \n",
      "[CV]  featureunion__tfidfvectorizer__lowercase=True, featureunion__tfidfvectorizer__max_features=10000, featureunion__tfidfvectorizer__ngram_range=(1, 2), onevsrestclassifier__estimator__alpha=0.01, total=  15.8s\n",
      "[CV] featureunion__tfidfvectorizer__lowercase=True, featureunion__tfidfvectorizer__max_features=10000, featureunion__tfidfvectorizer__ngram_range=(1, 2), onevsrestclassifier__estimator__alpha=0.01 \n",
      "[CV]  featureunion__tfidfvectorizer__lowercase=True, featureunion__tfidfvectorizer__max_features=10000, featureunion__tfidfvectorizer__ngram_range=(1, 2), onevsrestclassifier__estimator__alpha=0.01, total=  16.2s\n",
      "[CV] featureunion__tfidfvectorizer__lowercase=True, featureunion__tfidfvectorizer__max_features=10000, featureunion__tfidfvectorizer__ngram_range=(1, 2), onevsrestclassifier__estimator__alpha=0.1 \n",
      "[CV]  featureunion__tfidfvectorizer__lowercase=True, featureunion__tfidfvectorizer__max_features=10000, featureunion__tfidfvectorizer__ngram_range=(1, 2), onevsrestclassifier__estimator__alpha=0.1, total=  16.2s\n",
      "[CV] featureunion__tfidfvectorizer__lowercase=True, featureunion__tfidfvectorizer__max_features=10000, featureunion__tfidfvectorizer__ngram_range=(1, 2), onevsrestclassifier__estimator__alpha=0.1 \n",
      "[CV]  featureunion__tfidfvectorizer__lowercase=True, featureunion__tfidfvectorizer__max_features=10000, featureunion__tfidfvectorizer__ngram_range=(1, 2), onevsrestclassifier__estimator__alpha=0.1, total=  15.6s\n",
      "[CV] featureunion__tfidfvectorizer__lowercase=True, featureunion__tfidfvectorizer__max_features=10000, featureunion__tfidfvectorizer__ngram_range=(1, 2), onevsrestclassifier__estimator__alpha=0.1 \n",
      "[CV]  featureunion__tfidfvectorizer__lowercase=True, featureunion__tfidfvectorizer__max_features=10000, featureunion__tfidfvectorizer__ngram_range=(1, 2), onevsrestclassifier__estimator__alpha=0.1, total=  15.8s\n",
      "[CV] featureunion__tfidfvectorizer__lowercase=True, featureunion__tfidfvectorizer__max_features=10000, featureunion__tfidfvectorizer__ngram_range=(1, 2), onevsrestclassifier__estimator__alpha=1.0 \n",
      "[CV]  featureunion__tfidfvectorizer__lowercase=True, featureunion__tfidfvectorizer__max_features=10000, featureunion__tfidfvectorizer__ngram_range=(1, 2), onevsrestclassifier__estimator__alpha=1.0, total=  15.9s\n",
      "[CV] featureunion__tfidfvectorizer__lowercase=True, featureunion__tfidfvectorizer__max_features=10000, featureunion__tfidfvectorizer__ngram_range=(1, 2), onevsrestclassifier__estimator__alpha=1.0 \n",
      "[CV]  featureunion__tfidfvectorizer__lowercase=True, featureunion__tfidfvectorizer__max_features=10000, featureunion__tfidfvectorizer__ngram_range=(1, 2), onevsrestclassifier__estimator__alpha=1.0, total=  16.2s\n",
      "[CV] featureunion__tfidfvectorizer__lowercase=True, featureunion__tfidfvectorizer__max_features=10000, featureunion__tfidfvectorizer__ngram_range=(1, 2), onevsrestclassifier__estimator__alpha=1.0 \n",
      "[CV]  featureunion__tfidfvectorizer__lowercase=True, featureunion__tfidfvectorizer__max_features=10000, featureunion__tfidfvectorizer__ngram_range=(1, 2), onevsrestclassifier__estimator__alpha=1.0, total=  16.1s\n",
      "[CV] featureunion__tfidfvectorizer__lowercase=True, featureunion__tfidfvectorizer__max_features=None, featureunion__tfidfvectorizer__ngram_range=(1, 1), onevsrestclassifier__estimator__alpha=0.001 \n",
      "[CV]  featureunion__tfidfvectorizer__lowercase=True, featureunion__tfidfvectorizer__max_features=None, featureunion__tfidfvectorizer__ngram_range=(1, 1), onevsrestclassifier__estimator__alpha=0.001, total=   8.9s\n",
      "[CV] featureunion__tfidfvectorizer__lowercase=True, featureunion__tfidfvectorizer__max_features=None, featureunion__tfidfvectorizer__ngram_range=(1, 1), onevsrestclassifier__estimator__alpha=0.001 \n",
      "[CV]  featureunion__tfidfvectorizer__lowercase=True, featureunion__tfidfvectorizer__max_features=None, featureunion__tfidfvectorizer__ngram_range=(1, 1), onevsrestclassifier__estimator__alpha=0.001, total=   9.0s\n",
      "[CV] featureunion__tfidfvectorizer__lowercase=True, featureunion__tfidfvectorizer__max_features=None, featureunion__tfidfvectorizer__ngram_range=(1, 1), onevsrestclassifier__estimator__alpha=0.001 \n",
      "[CV]  featureunion__tfidfvectorizer__lowercase=True, featureunion__tfidfvectorizer__max_features=None, featureunion__tfidfvectorizer__ngram_range=(1, 1), onevsrestclassifier__estimator__alpha=0.001, total=   8.9s\n",
      "[CV] featureunion__tfidfvectorizer__lowercase=True, featureunion__tfidfvectorizer__max_features=None, featureunion__tfidfvectorizer__ngram_range=(1, 1), onevsrestclassifier__estimator__alpha=0.01 \n",
      "[CV]  featureunion__tfidfvectorizer__lowercase=True, featureunion__tfidfvectorizer__max_features=None, featureunion__tfidfvectorizer__ngram_range=(1, 1), onevsrestclassifier__estimator__alpha=0.01, total=   9.0s\n",
      "[CV] featureunion__tfidfvectorizer__lowercase=True, featureunion__tfidfvectorizer__max_features=None, featureunion__tfidfvectorizer__ngram_range=(1, 1), onevsrestclassifier__estimator__alpha=0.01 \n",
      "[CV]  featureunion__tfidfvectorizer__lowercase=True, featureunion__tfidfvectorizer__max_features=None, featureunion__tfidfvectorizer__ngram_range=(1, 1), onevsrestclassifier__estimator__alpha=0.01, total=   9.1s\n",
      "[CV] featureunion__tfidfvectorizer__lowercase=True, featureunion__tfidfvectorizer__max_features=None, featureunion__tfidfvectorizer__ngram_range=(1, 1), onevsrestclassifier__estimator__alpha=0.01 \n",
      "[CV]  featureunion__tfidfvectorizer__lowercase=True, featureunion__tfidfvectorizer__max_features=None, featureunion__tfidfvectorizer__ngram_range=(1, 1), onevsrestclassifier__estimator__alpha=0.01, total=   8.9s\n",
      "[CV] featureunion__tfidfvectorizer__lowercase=True, featureunion__tfidfvectorizer__max_features=None, featureunion__tfidfvectorizer__ngram_range=(1, 1), onevsrestclassifier__estimator__alpha=0.1 \n",
      "[CV]  featureunion__tfidfvectorizer__lowercase=True, featureunion__tfidfvectorizer__max_features=None, featureunion__tfidfvectorizer__ngram_range=(1, 1), onevsrestclassifier__estimator__alpha=0.1, total=   9.1s\n",
      "[CV] featureunion__tfidfvectorizer__lowercase=True, featureunion__tfidfvectorizer__max_features=None, featureunion__tfidfvectorizer__ngram_range=(1, 1), onevsrestclassifier__estimator__alpha=0.1 \n",
      "[CV]  featureunion__tfidfvectorizer__lowercase=True, featureunion__tfidfvectorizer__max_features=None, featureunion__tfidfvectorizer__ngram_range=(1, 1), onevsrestclassifier__estimator__alpha=0.1, total=   9.0s\n",
      "[CV] featureunion__tfidfvectorizer__lowercase=True, featureunion__tfidfvectorizer__max_features=None, featureunion__tfidfvectorizer__ngram_range=(1, 1), onevsrestclassifier__estimator__alpha=0.1 \n",
      "[CV]  featureunion__tfidfvectorizer__lowercase=True, featureunion__tfidfvectorizer__max_features=None, featureunion__tfidfvectorizer__ngram_range=(1, 1), onevsrestclassifier__estimator__alpha=0.1, total=   9.0s\n",
      "[CV] featureunion__tfidfvectorizer__lowercase=True, featureunion__tfidfvectorizer__max_features=None, featureunion__tfidfvectorizer__ngram_range=(1, 1), onevsrestclassifier__estimator__alpha=1.0 \n",
      "[CV]  featureunion__tfidfvectorizer__lowercase=True, featureunion__tfidfvectorizer__max_features=None, featureunion__tfidfvectorizer__ngram_range=(1, 1), onevsrestclassifier__estimator__alpha=1.0, total=   9.0s\n",
      "[CV] featureunion__tfidfvectorizer__lowercase=True, featureunion__tfidfvectorizer__max_features=None, featureunion__tfidfvectorizer__ngram_range=(1, 1), onevsrestclassifier__estimator__alpha=1.0 \n",
      "[CV]  featureunion__tfidfvectorizer__lowercase=True, featureunion__tfidfvectorizer__max_features=None, featureunion__tfidfvectorizer__ngram_range=(1, 1), onevsrestclassifier__estimator__alpha=1.0, total=   8.9s\n",
      "[CV] featureunion__tfidfvectorizer__lowercase=True, featureunion__tfidfvectorizer__max_features=None, featureunion__tfidfvectorizer__ngram_range=(1, 1), onevsrestclassifier__estimator__alpha=1.0 \n",
      "[CV]  featureunion__tfidfvectorizer__lowercase=True, featureunion__tfidfvectorizer__max_features=None, featureunion__tfidfvectorizer__ngram_range=(1, 1), onevsrestclassifier__estimator__alpha=1.0, total=   9.0s\n",
      "[CV] featureunion__tfidfvectorizer__lowercase=True, featureunion__tfidfvectorizer__max_features=None, featureunion__tfidfvectorizer__ngram_range=(1, 2), onevsrestclassifier__estimator__alpha=0.001 \n"
     ]
    },
    {
     "name": "stdout",
     "output_type": "stream",
     "text": [
      "[CV]  featureunion__tfidfvectorizer__lowercase=True, featureunion__tfidfvectorizer__max_features=None, featureunion__tfidfvectorizer__ngram_range=(1, 2), onevsrestclassifier__estimator__alpha=0.001, total=  18.9s\n",
      "[CV] featureunion__tfidfvectorizer__lowercase=True, featureunion__tfidfvectorizer__max_features=None, featureunion__tfidfvectorizer__ngram_range=(1, 2), onevsrestclassifier__estimator__alpha=0.001 \n",
      "[CV]  featureunion__tfidfvectorizer__lowercase=True, featureunion__tfidfvectorizer__max_features=None, featureunion__tfidfvectorizer__ngram_range=(1, 2), onevsrestclassifier__estimator__alpha=0.001, total=  19.1s\n",
      "[CV] featureunion__tfidfvectorizer__lowercase=True, featureunion__tfidfvectorizer__max_features=None, featureunion__tfidfvectorizer__ngram_range=(1, 2), onevsrestclassifier__estimator__alpha=0.001 \n",
      "[CV]  featureunion__tfidfvectorizer__lowercase=True, featureunion__tfidfvectorizer__max_features=None, featureunion__tfidfvectorizer__ngram_range=(1, 2), onevsrestclassifier__estimator__alpha=0.001, total=  20.4s\n",
      "[CV] featureunion__tfidfvectorizer__lowercase=True, featureunion__tfidfvectorizer__max_features=None, featureunion__tfidfvectorizer__ngram_range=(1, 2), onevsrestclassifier__estimator__alpha=0.01 \n",
      "[CV]  featureunion__tfidfvectorizer__lowercase=True, featureunion__tfidfvectorizer__max_features=None, featureunion__tfidfvectorizer__ngram_range=(1, 2), onevsrestclassifier__estimator__alpha=0.01, total=  19.2s\n",
      "[CV] featureunion__tfidfvectorizer__lowercase=True, featureunion__tfidfvectorizer__max_features=None, featureunion__tfidfvectorizer__ngram_range=(1, 2), onevsrestclassifier__estimator__alpha=0.01 \n",
      "[CV]  featureunion__tfidfvectorizer__lowercase=True, featureunion__tfidfvectorizer__max_features=None, featureunion__tfidfvectorizer__ngram_range=(1, 2), onevsrestclassifier__estimator__alpha=0.01, total=  20.6s\n",
      "[CV] featureunion__tfidfvectorizer__lowercase=True, featureunion__tfidfvectorizer__max_features=None, featureunion__tfidfvectorizer__ngram_range=(1, 2), onevsrestclassifier__estimator__alpha=0.01 \n",
      "[CV]  featureunion__tfidfvectorizer__lowercase=True, featureunion__tfidfvectorizer__max_features=None, featureunion__tfidfvectorizer__ngram_range=(1, 2), onevsrestclassifier__estimator__alpha=0.01, total=  19.7s\n",
      "[CV] featureunion__tfidfvectorizer__lowercase=True, featureunion__tfidfvectorizer__max_features=None, featureunion__tfidfvectorizer__ngram_range=(1, 2), onevsrestclassifier__estimator__alpha=0.1 \n",
      "[CV]  featureunion__tfidfvectorizer__lowercase=True, featureunion__tfidfvectorizer__max_features=None, featureunion__tfidfvectorizer__ngram_range=(1, 2), onevsrestclassifier__estimator__alpha=0.1, total=  20.0s\n",
      "[CV] featureunion__tfidfvectorizer__lowercase=True, featureunion__tfidfvectorizer__max_features=None, featureunion__tfidfvectorizer__ngram_range=(1, 2), onevsrestclassifier__estimator__alpha=0.1 \n",
      "[CV]  featureunion__tfidfvectorizer__lowercase=True, featureunion__tfidfvectorizer__max_features=None, featureunion__tfidfvectorizer__ngram_range=(1, 2), onevsrestclassifier__estimator__alpha=0.1, total=  20.1s\n",
      "[CV] featureunion__tfidfvectorizer__lowercase=True, featureunion__tfidfvectorizer__max_features=None, featureunion__tfidfvectorizer__ngram_range=(1, 2), onevsrestclassifier__estimator__alpha=0.1 \n",
      "[CV]  featureunion__tfidfvectorizer__lowercase=True, featureunion__tfidfvectorizer__max_features=None, featureunion__tfidfvectorizer__ngram_range=(1, 2), onevsrestclassifier__estimator__alpha=0.1, total=  19.9s\n",
      "[CV] featureunion__tfidfvectorizer__lowercase=True, featureunion__tfidfvectorizer__max_features=None, featureunion__tfidfvectorizer__ngram_range=(1, 2), onevsrestclassifier__estimator__alpha=1.0 \n",
      "[CV]  featureunion__tfidfvectorizer__lowercase=True, featureunion__tfidfvectorizer__max_features=None, featureunion__tfidfvectorizer__ngram_range=(1, 2), onevsrestclassifier__estimator__alpha=1.0, total=  20.6s\n",
      "[CV] featureunion__tfidfvectorizer__lowercase=True, featureunion__tfidfvectorizer__max_features=None, featureunion__tfidfvectorizer__ngram_range=(1, 2), onevsrestclassifier__estimator__alpha=1.0 \n",
      "[CV]  featureunion__tfidfvectorizer__lowercase=True, featureunion__tfidfvectorizer__max_features=None, featureunion__tfidfvectorizer__ngram_range=(1, 2), onevsrestclassifier__estimator__alpha=1.0, total=  19.9s\n",
      "[CV] featureunion__tfidfvectorizer__lowercase=True, featureunion__tfidfvectorizer__max_features=None, featureunion__tfidfvectorizer__ngram_range=(1, 2), onevsrestclassifier__estimator__alpha=1.0 \n",
      "[CV]  featureunion__tfidfvectorizer__lowercase=True, featureunion__tfidfvectorizer__max_features=None, featureunion__tfidfvectorizer__ngram_range=(1, 2), onevsrestclassifier__estimator__alpha=1.0, total=  19.6s\n",
      "[CV] featureunion__tfidfvectorizer__lowercase=False, featureunion__tfidfvectorizer__max_features=1000, featureunion__tfidfvectorizer__ngram_range=(1, 1), onevsrestclassifier__estimator__alpha=0.001 \n",
      "[CV]  featureunion__tfidfvectorizer__lowercase=False, featureunion__tfidfvectorizer__max_features=1000, featureunion__tfidfvectorizer__ngram_range=(1, 1), onevsrestclassifier__estimator__alpha=0.001, total=   9.0s\n",
      "[CV] featureunion__tfidfvectorizer__lowercase=False, featureunion__tfidfvectorizer__max_features=1000, featureunion__tfidfvectorizer__ngram_range=(1, 1), onevsrestclassifier__estimator__alpha=0.001 \n",
      "[CV]  featureunion__tfidfvectorizer__lowercase=False, featureunion__tfidfvectorizer__max_features=1000, featureunion__tfidfvectorizer__ngram_range=(1, 1), onevsrestclassifier__estimator__alpha=0.001, total=   8.8s\n",
      "[CV] featureunion__tfidfvectorizer__lowercase=False, featureunion__tfidfvectorizer__max_features=1000, featureunion__tfidfvectorizer__ngram_range=(1, 1), onevsrestclassifier__estimator__alpha=0.001 \n",
      "[CV]  featureunion__tfidfvectorizer__lowercase=False, featureunion__tfidfvectorizer__max_features=1000, featureunion__tfidfvectorizer__ngram_range=(1, 1), onevsrestclassifier__estimator__alpha=0.001, total=   9.0s\n",
      "[CV] featureunion__tfidfvectorizer__lowercase=False, featureunion__tfidfvectorizer__max_features=1000, featureunion__tfidfvectorizer__ngram_range=(1, 1), onevsrestclassifier__estimator__alpha=0.01 \n",
      "[CV]  featureunion__tfidfvectorizer__lowercase=False, featureunion__tfidfvectorizer__max_features=1000, featureunion__tfidfvectorizer__ngram_range=(1, 1), onevsrestclassifier__estimator__alpha=0.01, total=   8.9s\n",
      "[CV] featureunion__tfidfvectorizer__lowercase=False, featureunion__tfidfvectorizer__max_features=1000, featureunion__tfidfvectorizer__ngram_range=(1, 1), onevsrestclassifier__estimator__alpha=0.01 \n",
      "[CV]  featureunion__tfidfvectorizer__lowercase=False, featureunion__tfidfvectorizer__max_features=1000, featureunion__tfidfvectorizer__ngram_range=(1, 1), onevsrestclassifier__estimator__alpha=0.01, total=   8.8s\n",
      "[CV] featureunion__tfidfvectorizer__lowercase=False, featureunion__tfidfvectorizer__max_features=1000, featureunion__tfidfvectorizer__ngram_range=(1, 1), onevsrestclassifier__estimator__alpha=0.01 \n",
      "[CV]  featureunion__tfidfvectorizer__lowercase=False, featureunion__tfidfvectorizer__max_features=1000, featureunion__tfidfvectorizer__ngram_range=(1, 1), onevsrestclassifier__estimator__alpha=0.01, total=   8.9s\n",
      "[CV] featureunion__tfidfvectorizer__lowercase=False, featureunion__tfidfvectorizer__max_features=1000, featureunion__tfidfvectorizer__ngram_range=(1, 1), onevsrestclassifier__estimator__alpha=0.1 \n",
      "[CV]  featureunion__tfidfvectorizer__lowercase=False, featureunion__tfidfvectorizer__max_features=1000, featureunion__tfidfvectorizer__ngram_range=(1, 1), onevsrestclassifier__estimator__alpha=0.1, total=   9.0s\n",
      "[CV] featureunion__tfidfvectorizer__lowercase=False, featureunion__tfidfvectorizer__max_features=1000, featureunion__tfidfvectorizer__ngram_range=(1, 1), onevsrestclassifier__estimator__alpha=0.1 \n",
      "[CV]  featureunion__tfidfvectorizer__lowercase=False, featureunion__tfidfvectorizer__max_features=1000, featureunion__tfidfvectorizer__ngram_range=(1, 1), onevsrestclassifier__estimator__alpha=0.1, total=   8.8s\n",
      "[CV] featureunion__tfidfvectorizer__lowercase=False, featureunion__tfidfvectorizer__max_features=1000, featureunion__tfidfvectorizer__ngram_range=(1, 1), onevsrestclassifier__estimator__alpha=0.1 \n",
      "[CV]  featureunion__tfidfvectorizer__lowercase=False, featureunion__tfidfvectorizer__max_features=1000, featureunion__tfidfvectorizer__ngram_range=(1, 1), onevsrestclassifier__estimator__alpha=0.1, total=   8.6s\n",
      "[CV] featureunion__tfidfvectorizer__lowercase=False, featureunion__tfidfvectorizer__max_features=1000, featureunion__tfidfvectorizer__ngram_range=(1, 1), onevsrestclassifier__estimator__alpha=1.0 \n"
     ]
    },
    {
     "name": "stdout",
     "output_type": "stream",
     "text": [
      "[CV]  featureunion__tfidfvectorizer__lowercase=False, featureunion__tfidfvectorizer__max_features=1000, featureunion__tfidfvectorizer__ngram_range=(1, 1), onevsrestclassifier__estimator__alpha=1.0, total=   8.7s\n",
      "[CV] featureunion__tfidfvectorizer__lowercase=False, featureunion__tfidfvectorizer__max_features=1000, featureunion__tfidfvectorizer__ngram_range=(1, 1), onevsrestclassifier__estimator__alpha=1.0 \n",
      "[CV]  featureunion__tfidfvectorizer__lowercase=False, featureunion__tfidfvectorizer__max_features=1000, featureunion__tfidfvectorizer__ngram_range=(1, 1), onevsrestclassifier__estimator__alpha=1.0, total=   8.5s\n",
      "[CV] featureunion__tfidfvectorizer__lowercase=False, featureunion__tfidfvectorizer__max_features=1000, featureunion__tfidfvectorizer__ngram_range=(1, 1), onevsrestclassifier__estimator__alpha=1.0 \n",
      "[CV]  featureunion__tfidfvectorizer__lowercase=False, featureunion__tfidfvectorizer__max_features=1000, featureunion__tfidfvectorizer__ngram_range=(1, 1), onevsrestclassifier__estimator__alpha=1.0, total=   8.4s\n",
      "[CV] featureunion__tfidfvectorizer__lowercase=False, featureunion__tfidfvectorizer__max_features=1000, featureunion__tfidfvectorizer__ngram_range=(1, 2), onevsrestclassifier__estimator__alpha=0.001 \n",
      "[CV]  featureunion__tfidfvectorizer__lowercase=False, featureunion__tfidfvectorizer__max_features=1000, featureunion__tfidfvectorizer__ngram_range=(1, 2), onevsrestclassifier__estimator__alpha=0.001, total=  16.2s\n",
      "[CV] featureunion__tfidfvectorizer__lowercase=False, featureunion__tfidfvectorizer__max_features=1000, featureunion__tfidfvectorizer__ngram_range=(1, 2), onevsrestclassifier__estimator__alpha=0.001 \n",
      "[CV]  featureunion__tfidfvectorizer__lowercase=False, featureunion__tfidfvectorizer__max_features=1000, featureunion__tfidfvectorizer__ngram_range=(1, 2), onevsrestclassifier__estimator__alpha=0.001, total=  16.0s\n",
      "[CV] featureunion__tfidfvectorizer__lowercase=False, featureunion__tfidfvectorizer__max_features=1000, featureunion__tfidfvectorizer__ngram_range=(1, 2), onevsrestclassifier__estimator__alpha=0.001 \n",
      "[CV]  featureunion__tfidfvectorizer__lowercase=False, featureunion__tfidfvectorizer__max_features=1000, featureunion__tfidfvectorizer__ngram_range=(1, 2), onevsrestclassifier__estimator__alpha=0.001, total=  15.9s\n",
      "[CV] featureunion__tfidfvectorizer__lowercase=False, featureunion__tfidfvectorizer__max_features=1000, featureunion__tfidfvectorizer__ngram_range=(1, 2), onevsrestclassifier__estimator__alpha=0.01 \n",
      "[CV]  featureunion__tfidfvectorizer__lowercase=False, featureunion__tfidfvectorizer__max_features=1000, featureunion__tfidfvectorizer__ngram_range=(1, 2), onevsrestclassifier__estimator__alpha=0.01, total=  16.1s\n",
      "[CV] featureunion__tfidfvectorizer__lowercase=False, featureunion__tfidfvectorizer__max_features=1000, featureunion__tfidfvectorizer__ngram_range=(1, 2), onevsrestclassifier__estimator__alpha=0.01 \n",
      "[CV]  featureunion__tfidfvectorizer__lowercase=False, featureunion__tfidfvectorizer__max_features=1000, featureunion__tfidfvectorizer__ngram_range=(1, 2), onevsrestclassifier__estimator__alpha=0.01, total=  16.6s\n",
      "[CV] featureunion__tfidfvectorizer__lowercase=False, featureunion__tfidfvectorizer__max_features=1000, featureunion__tfidfvectorizer__ngram_range=(1, 2), onevsrestclassifier__estimator__alpha=0.01 \n",
      "[CV]  featureunion__tfidfvectorizer__lowercase=False, featureunion__tfidfvectorizer__max_features=1000, featureunion__tfidfvectorizer__ngram_range=(1, 2), onevsrestclassifier__estimator__alpha=0.01, total=  16.1s\n",
      "[CV] featureunion__tfidfvectorizer__lowercase=False, featureunion__tfidfvectorizer__max_features=1000, featureunion__tfidfvectorizer__ngram_range=(1, 2), onevsrestclassifier__estimator__alpha=0.1 \n",
      "[CV]  featureunion__tfidfvectorizer__lowercase=False, featureunion__tfidfvectorizer__max_features=1000, featureunion__tfidfvectorizer__ngram_range=(1, 2), onevsrestclassifier__estimator__alpha=0.1, total=  15.8s\n",
      "[CV] featureunion__tfidfvectorizer__lowercase=False, featureunion__tfidfvectorizer__max_features=1000, featureunion__tfidfvectorizer__ngram_range=(1, 2), onevsrestclassifier__estimator__alpha=0.1 \n",
      "[CV]  featureunion__tfidfvectorizer__lowercase=False, featureunion__tfidfvectorizer__max_features=1000, featureunion__tfidfvectorizer__ngram_range=(1, 2), onevsrestclassifier__estimator__alpha=0.1, total=  15.8s\n",
      "[CV] featureunion__tfidfvectorizer__lowercase=False, featureunion__tfidfvectorizer__max_features=1000, featureunion__tfidfvectorizer__ngram_range=(1, 2), onevsrestclassifier__estimator__alpha=0.1 \n",
      "[CV]  featureunion__tfidfvectorizer__lowercase=False, featureunion__tfidfvectorizer__max_features=1000, featureunion__tfidfvectorizer__ngram_range=(1, 2), onevsrestclassifier__estimator__alpha=0.1, total=  16.0s\n",
      "[CV] featureunion__tfidfvectorizer__lowercase=False, featureunion__tfidfvectorizer__max_features=1000, featureunion__tfidfvectorizer__ngram_range=(1, 2), onevsrestclassifier__estimator__alpha=1.0 \n",
      "[CV]  featureunion__tfidfvectorizer__lowercase=False, featureunion__tfidfvectorizer__max_features=1000, featureunion__tfidfvectorizer__ngram_range=(1, 2), onevsrestclassifier__estimator__alpha=1.0, total=  16.1s\n",
      "[CV] featureunion__tfidfvectorizer__lowercase=False, featureunion__tfidfvectorizer__max_features=1000, featureunion__tfidfvectorizer__ngram_range=(1, 2), onevsrestclassifier__estimator__alpha=1.0 \n",
      "[CV]  featureunion__tfidfvectorizer__lowercase=False, featureunion__tfidfvectorizer__max_features=1000, featureunion__tfidfvectorizer__ngram_range=(1, 2), onevsrestclassifier__estimator__alpha=1.0, total=  15.9s\n",
      "[CV] featureunion__tfidfvectorizer__lowercase=False, featureunion__tfidfvectorizer__max_features=1000, featureunion__tfidfvectorizer__ngram_range=(1, 2), onevsrestclassifier__estimator__alpha=1.0 \n",
      "[CV]  featureunion__tfidfvectorizer__lowercase=False, featureunion__tfidfvectorizer__max_features=1000, featureunion__tfidfvectorizer__ngram_range=(1, 2), onevsrestclassifier__estimator__alpha=1.0, total=  15.8s\n",
      "[CV] featureunion__tfidfvectorizer__lowercase=False, featureunion__tfidfvectorizer__max_features=5000, featureunion__tfidfvectorizer__ngram_range=(1, 1), onevsrestclassifier__estimator__alpha=0.001 \n",
      "[CV]  featureunion__tfidfvectorizer__lowercase=False, featureunion__tfidfvectorizer__max_features=5000, featureunion__tfidfvectorizer__ngram_range=(1, 1), onevsrestclassifier__estimator__alpha=0.001, total=   8.7s\n",
      "[CV] featureunion__tfidfvectorizer__lowercase=False, featureunion__tfidfvectorizer__max_features=5000, featureunion__tfidfvectorizer__ngram_range=(1, 1), onevsrestclassifier__estimator__alpha=0.001 \n",
      "[CV]  featureunion__tfidfvectorizer__lowercase=False, featureunion__tfidfvectorizer__max_features=5000, featureunion__tfidfvectorizer__ngram_range=(1, 1), onevsrestclassifier__estimator__alpha=0.001, total=   8.6s\n",
      "[CV] featureunion__tfidfvectorizer__lowercase=False, featureunion__tfidfvectorizer__max_features=5000, featureunion__tfidfvectorizer__ngram_range=(1, 1), onevsrestclassifier__estimator__alpha=0.001 \n",
      "[CV]  featureunion__tfidfvectorizer__lowercase=False, featureunion__tfidfvectorizer__max_features=5000, featureunion__tfidfvectorizer__ngram_range=(1, 1), onevsrestclassifier__estimator__alpha=0.001, total=   9.2s\n",
      "[CV] featureunion__tfidfvectorizer__lowercase=False, featureunion__tfidfvectorizer__max_features=5000, featureunion__tfidfvectorizer__ngram_range=(1, 1), onevsrestclassifier__estimator__alpha=0.01 \n",
      "[CV]  featureunion__tfidfvectorizer__lowercase=False, featureunion__tfidfvectorizer__max_features=5000, featureunion__tfidfvectorizer__ngram_range=(1, 1), onevsrestclassifier__estimator__alpha=0.01, total=   8.9s\n",
      "[CV] featureunion__tfidfvectorizer__lowercase=False, featureunion__tfidfvectorizer__max_features=5000, featureunion__tfidfvectorizer__ngram_range=(1, 1), onevsrestclassifier__estimator__alpha=0.01 \n",
      "[CV]  featureunion__tfidfvectorizer__lowercase=False, featureunion__tfidfvectorizer__max_features=5000, featureunion__tfidfvectorizer__ngram_range=(1, 1), onevsrestclassifier__estimator__alpha=0.01, total=   8.8s\n",
      "[CV] featureunion__tfidfvectorizer__lowercase=False, featureunion__tfidfvectorizer__max_features=5000, featureunion__tfidfvectorizer__ngram_range=(1, 1), onevsrestclassifier__estimator__alpha=0.01 \n"
     ]
    },
    {
     "name": "stdout",
     "output_type": "stream",
     "text": [
      "[CV]  featureunion__tfidfvectorizer__lowercase=False, featureunion__tfidfvectorizer__max_features=5000, featureunion__tfidfvectorizer__ngram_range=(1, 1), onevsrestclassifier__estimator__alpha=0.01, total=   9.0s\n",
      "[CV] featureunion__tfidfvectorizer__lowercase=False, featureunion__tfidfvectorizer__max_features=5000, featureunion__tfidfvectorizer__ngram_range=(1, 1), onevsrestclassifier__estimator__alpha=0.1 \n",
      "[CV]  featureunion__tfidfvectorizer__lowercase=False, featureunion__tfidfvectorizer__max_features=5000, featureunion__tfidfvectorizer__ngram_range=(1, 1), onevsrestclassifier__estimator__alpha=0.1, total=   9.0s\n",
      "[CV] featureunion__tfidfvectorizer__lowercase=False, featureunion__tfidfvectorizer__max_features=5000, featureunion__tfidfvectorizer__ngram_range=(1, 1), onevsrestclassifier__estimator__alpha=0.1 \n",
      "[CV]  featureunion__tfidfvectorizer__lowercase=False, featureunion__tfidfvectorizer__max_features=5000, featureunion__tfidfvectorizer__ngram_range=(1, 1), onevsrestclassifier__estimator__alpha=0.1, total=   8.7s\n",
      "[CV] featureunion__tfidfvectorizer__lowercase=False, featureunion__tfidfvectorizer__max_features=5000, featureunion__tfidfvectorizer__ngram_range=(1, 1), onevsrestclassifier__estimator__alpha=0.1 \n",
      "[CV]  featureunion__tfidfvectorizer__lowercase=False, featureunion__tfidfvectorizer__max_features=5000, featureunion__tfidfvectorizer__ngram_range=(1, 1), onevsrestclassifier__estimator__alpha=0.1, total=   9.2s\n",
      "[CV] featureunion__tfidfvectorizer__lowercase=False, featureunion__tfidfvectorizer__max_features=5000, featureunion__tfidfvectorizer__ngram_range=(1, 1), onevsrestclassifier__estimator__alpha=1.0 \n",
      "[CV]  featureunion__tfidfvectorizer__lowercase=False, featureunion__tfidfvectorizer__max_features=5000, featureunion__tfidfvectorizer__ngram_range=(1, 1), onevsrestclassifier__estimator__alpha=1.0, total=   8.7s\n",
      "[CV] featureunion__tfidfvectorizer__lowercase=False, featureunion__tfidfvectorizer__max_features=5000, featureunion__tfidfvectorizer__ngram_range=(1, 1), onevsrestclassifier__estimator__alpha=1.0 \n",
      "[CV]  featureunion__tfidfvectorizer__lowercase=False, featureunion__tfidfvectorizer__max_features=5000, featureunion__tfidfvectorizer__ngram_range=(1, 1), onevsrestclassifier__estimator__alpha=1.0, total=   8.6s\n",
      "[CV] featureunion__tfidfvectorizer__lowercase=False, featureunion__tfidfvectorizer__max_features=5000, featureunion__tfidfvectorizer__ngram_range=(1, 1), onevsrestclassifier__estimator__alpha=1.0 \n",
      "[CV]  featureunion__tfidfvectorizer__lowercase=False, featureunion__tfidfvectorizer__max_features=5000, featureunion__tfidfvectorizer__ngram_range=(1, 1), onevsrestclassifier__estimator__alpha=1.0, total=   8.8s\n",
      "[CV] featureunion__tfidfvectorizer__lowercase=False, featureunion__tfidfvectorizer__max_features=5000, featureunion__tfidfvectorizer__ngram_range=(1, 2), onevsrestclassifier__estimator__alpha=0.001 \n",
      "[CV]  featureunion__tfidfvectorizer__lowercase=False, featureunion__tfidfvectorizer__max_features=5000, featureunion__tfidfvectorizer__ngram_range=(1, 2), onevsrestclassifier__estimator__alpha=0.001, total=  15.8s\n",
      "[CV] featureunion__tfidfvectorizer__lowercase=False, featureunion__tfidfvectorizer__max_features=5000, featureunion__tfidfvectorizer__ngram_range=(1, 2), onevsrestclassifier__estimator__alpha=0.001 \n",
      "[CV]  featureunion__tfidfvectorizer__lowercase=False, featureunion__tfidfvectorizer__max_features=5000, featureunion__tfidfvectorizer__ngram_range=(1, 2), onevsrestclassifier__estimator__alpha=0.001, total=  16.6s\n",
      "[CV] featureunion__tfidfvectorizer__lowercase=False, featureunion__tfidfvectorizer__max_features=5000, featureunion__tfidfvectorizer__ngram_range=(1, 2), onevsrestclassifier__estimator__alpha=0.001 \n",
      "[CV]  featureunion__tfidfvectorizer__lowercase=False, featureunion__tfidfvectorizer__max_features=5000, featureunion__tfidfvectorizer__ngram_range=(1, 2), onevsrestclassifier__estimator__alpha=0.001, total=  16.6s\n",
      "[CV] featureunion__tfidfvectorizer__lowercase=False, featureunion__tfidfvectorizer__max_features=5000, featureunion__tfidfvectorizer__ngram_range=(1, 2), onevsrestclassifier__estimator__alpha=0.01 \n",
      "[CV]  featureunion__tfidfvectorizer__lowercase=False, featureunion__tfidfvectorizer__max_features=5000, featureunion__tfidfvectorizer__ngram_range=(1, 2), onevsrestclassifier__estimator__alpha=0.01, total=  16.4s\n",
      "[CV] featureunion__tfidfvectorizer__lowercase=False, featureunion__tfidfvectorizer__max_features=5000, featureunion__tfidfvectorizer__ngram_range=(1, 2), onevsrestclassifier__estimator__alpha=0.01 \n",
      "[CV]  featureunion__tfidfvectorizer__lowercase=False, featureunion__tfidfvectorizer__max_features=5000, featureunion__tfidfvectorizer__ngram_range=(1, 2), onevsrestclassifier__estimator__alpha=0.01, total=  15.8s\n",
      "[CV] featureunion__tfidfvectorizer__lowercase=False, featureunion__tfidfvectorizer__max_features=5000, featureunion__tfidfvectorizer__ngram_range=(1, 2), onevsrestclassifier__estimator__alpha=0.01 \n",
      "[CV]  featureunion__tfidfvectorizer__lowercase=False, featureunion__tfidfvectorizer__max_features=5000, featureunion__tfidfvectorizer__ngram_range=(1, 2), onevsrestclassifier__estimator__alpha=0.01, total=  16.4s\n",
      "[CV] featureunion__tfidfvectorizer__lowercase=False, featureunion__tfidfvectorizer__max_features=5000, featureunion__tfidfvectorizer__ngram_range=(1, 2), onevsrestclassifier__estimator__alpha=0.1 \n",
      "[CV]  featureunion__tfidfvectorizer__lowercase=False, featureunion__tfidfvectorizer__max_features=5000, featureunion__tfidfvectorizer__ngram_range=(1, 2), onevsrestclassifier__estimator__alpha=0.1, total=  16.4s\n",
      "[CV] featureunion__tfidfvectorizer__lowercase=False, featureunion__tfidfvectorizer__max_features=5000, featureunion__tfidfvectorizer__ngram_range=(1, 2), onevsrestclassifier__estimator__alpha=0.1 \n",
      "[CV]  featureunion__tfidfvectorizer__lowercase=False, featureunion__tfidfvectorizer__max_features=5000, featureunion__tfidfvectorizer__ngram_range=(1, 2), onevsrestclassifier__estimator__alpha=0.1, total=  16.1s\n",
      "[CV] featureunion__tfidfvectorizer__lowercase=False, featureunion__tfidfvectorizer__max_features=5000, featureunion__tfidfvectorizer__ngram_range=(1, 2), onevsrestclassifier__estimator__alpha=0.1 \n",
      "[CV]  featureunion__tfidfvectorizer__lowercase=False, featureunion__tfidfvectorizer__max_features=5000, featureunion__tfidfvectorizer__ngram_range=(1, 2), onevsrestclassifier__estimator__alpha=0.1, total=  16.3s\n",
      "[CV] featureunion__tfidfvectorizer__lowercase=False, featureunion__tfidfvectorizer__max_features=5000, featureunion__tfidfvectorizer__ngram_range=(1, 2), onevsrestclassifier__estimator__alpha=1.0 \n",
      "[CV]  featureunion__tfidfvectorizer__lowercase=False, featureunion__tfidfvectorizer__max_features=5000, featureunion__tfidfvectorizer__ngram_range=(1, 2), onevsrestclassifier__estimator__alpha=1.0, total=  16.1s\n",
      "[CV] featureunion__tfidfvectorizer__lowercase=False, featureunion__tfidfvectorizer__max_features=5000, featureunion__tfidfvectorizer__ngram_range=(1, 2), onevsrestclassifier__estimator__alpha=1.0 \n",
      "[CV]  featureunion__tfidfvectorizer__lowercase=False, featureunion__tfidfvectorizer__max_features=5000, featureunion__tfidfvectorizer__ngram_range=(1, 2), onevsrestclassifier__estimator__alpha=1.0, total=  15.9s\n",
      "[CV] featureunion__tfidfvectorizer__lowercase=False, featureunion__tfidfvectorizer__max_features=5000, featureunion__tfidfvectorizer__ngram_range=(1, 2), onevsrestclassifier__estimator__alpha=1.0 \n",
      "[CV]  featureunion__tfidfvectorizer__lowercase=False, featureunion__tfidfvectorizer__max_features=5000, featureunion__tfidfvectorizer__ngram_range=(1, 2), onevsrestclassifier__estimator__alpha=1.0, total=  16.2s\n",
      "[CV] featureunion__tfidfvectorizer__lowercase=False, featureunion__tfidfvectorizer__max_features=10000, featureunion__tfidfvectorizer__ngram_range=(1, 1), onevsrestclassifier__estimator__alpha=0.001 \n",
      "[CV]  featureunion__tfidfvectorizer__lowercase=False, featureunion__tfidfvectorizer__max_features=10000, featureunion__tfidfvectorizer__ngram_range=(1, 1), onevsrestclassifier__estimator__alpha=0.001, total=   8.7s\n",
      "[CV] featureunion__tfidfvectorizer__lowercase=False, featureunion__tfidfvectorizer__max_features=10000, featureunion__tfidfvectorizer__ngram_range=(1, 1), onevsrestclassifier__estimator__alpha=0.001 \n"
     ]
    },
    {
     "name": "stdout",
     "output_type": "stream",
     "text": [
      "[CV]  featureunion__tfidfvectorizer__lowercase=False, featureunion__tfidfvectorizer__max_features=10000, featureunion__tfidfvectorizer__ngram_range=(1, 1), onevsrestclassifier__estimator__alpha=0.001, total=   8.7s\n",
      "[CV] featureunion__tfidfvectorizer__lowercase=False, featureunion__tfidfvectorizer__max_features=10000, featureunion__tfidfvectorizer__ngram_range=(1, 1), onevsrestclassifier__estimator__alpha=0.001 \n",
      "[CV]  featureunion__tfidfvectorizer__lowercase=False, featureunion__tfidfvectorizer__max_features=10000, featureunion__tfidfvectorizer__ngram_range=(1, 1), onevsrestclassifier__estimator__alpha=0.001, total=   8.6s\n",
      "[CV] featureunion__tfidfvectorizer__lowercase=False, featureunion__tfidfvectorizer__max_features=10000, featureunion__tfidfvectorizer__ngram_range=(1, 1), onevsrestclassifier__estimator__alpha=0.01 \n",
      "[CV]  featureunion__tfidfvectorizer__lowercase=False, featureunion__tfidfvectorizer__max_features=10000, featureunion__tfidfvectorizer__ngram_range=(1, 1), onevsrestclassifier__estimator__alpha=0.01, total=   9.0s\n",
      "[CV] featureunion__tfidfvectorizer__lowercase=False, featureunion__tfidfvectorizer__max_features=10000, featureunion__tfidfvectorizer__ngram_range=(1, 1), onevsrestclassifier__estimator__alpha=0.01 \n",
      "[CV]  featureunion__tfidfvectorizer__lowercase=False, featureunion__tfidfvectorizer__max_features=10000, featureunion__tfidfvectorizer__ngram_range=(1, 1), onevsrestclassifier__estimator__alpha=0.01, total=   8.7s\n",
      "[CV] featureunion__tfidfvectorizer__lowercase=False, featureunion__tfidfvectorizer__max_features=10000, featureunion__tfidfvectorizer__ngram_range=(1, 1), onevsrestclassifier__estimator__alpha=0.01 \n",
      "[CV]  featureunion__tfidfvectorizer__lowercase=False, featureunion__tfidfvectorizer__max_features=10000, featureunion__tfidfvectorizer__ngram_range=(1, 1), onevsrestclassifier__estimator__alpha=0.01, total=   8.7s\n",
      "[CV] featureunion__tfidfvectorizer__lowercase=False, featureunion__tfidfvectorizer__max_features=10000, featureunion__tfidfvectorizer__ngram_range=(1, 1), onevsrestclassifier__estimator__alpha=0.1 \n",
      "[CV]  featureunion__tfidfvectorizer__lowercase=False, featureunion__tfidfvectorizer__max_features=10000, featureunion__tfidfvectorizer__ngram_range=(1, 1), onevsrestclassifier__estimator__alpha=0.1, total=   9.0s\n",
      "[CV] featureunion__tfidfvectorizer__lowercase=False, featureunion__tfidfvectorizer__max_features=10000, featureunion__tfidfvectorizer__ngram_range=(1, 1), onevsrestclassifier__estimator__alpha=0.1 \n",
      "[CV]  featureunion__tfidfvectorizer__lowercase=False, featureunion__tfidfvectorizer__max_features=10000, featureunion__tfidfvectorizer__ngram_range=(1, 1), onevsrestclassifier__estimator__alpha=0.1, total=   8.9s\n",
      "[CV] featureunion__tfidfvectorizer__lowercase=False, featureunion__tfidfvectorizer__max_features=10000, featureunion__tfidfvectorizer__ngram_range=(1, 1), onevsrestclassifier__estimator__alpha=0.1 \n",
      "[CV]  featureunion__tfidfvectorizer__lowercase=False, featureunion__tfidfvectorizer__max_features=10000, featureunion__tfidfvectorizer__ngram_range=(1, 1), onevsrestclassifier__estimator__alpha=0.1, total=   8.7s\n",
      "[CV] featureunion__tfidfvectorizer__lowercase=False, featureunion__tfidfvectorizer__max_features=10000, featureunion__tfidfvectorizer__ngram_range=(1, 1), onevsrestclassifier__estimator__alpha=1.0 \n",
      "[CV]  featureunion__tfidfvectorizer__lowercase=False, featureunion__tfidfvectorizer__max_features=10000, featureunion__tfidfvectorizer__ngram_range=(1, 1), onevsrestclassifier__estimator__alpha=1.0, total=   8.9s\n",
      "[CV] featureunion__tfidfvectorizer__lowercase=False, featureunion__tfidfvectorizer__max_features=10000, featureunion__tfidfvectorizer__ngram_range=(1, 1), onevsrestclassifier__estimator__alpha=1.0 \n",
      "[CV]  featureunion__tfidfvectorizer__lowercase=False, featureunion__tfidfvectorizer__max_features=10000, featureunion__tfidfvectorizer__ngram_range=(1, 1), onevsrestclassifier__estimator__alpha=1.0, total=   8.7s\n",
      "[CV] featureunion__tfidfvectorizer__lowercase=False, featureunion__tfidfvectorizer__max_features=10000, featureunion__tfidfvectorizer__ngram_range=(1, 1), onevsrestclassifier__estimator__alpha=1.0 \n",
      "[CV]  featureunion__tfidfvectorizer__lowercase=False, featureunion__tfidfvectorizer__max_features=10000, featureunion__tfidfvectorizer__ngram_range=(1, 1), onevsrestclassifier__estimator__alpha=1.0, total=   8.5s\n",
      "[CV] featureunion__tfidfvectorizer__lowercase=False, featureunion__tfidfvectorizer__max_features=10000, featureunion__tfidfvectorizer__ngram_range=(1, 2), onevsrestclassifier__estimator__alpha=0.001 \n",
      "[CV]  featureunion__tfidfvectorizer__lowercase=False, featureunion__tfidfvectorizer__max_features=10000, featureunion__tfidfvectorizer__ngram_range=(1, 2), onevsrestclassifier__estimator__alpha=0.001, total=  15.7s\n",
      "[CV] featureunion__tfidfvectorizer__lowercase=False, featureunion__tfidfvectorizer__max_features=10000, featureunion__tfidfvectorizer__ngram_range=(1, 2), onevsrestclassifier__estimator__alpha=0.001 \n",
      "[CV]  featureunion__tfidfvectorizer__lowercase=False, featureunion__tfidfvectorizer__max_features=10000, featureunion__tfidfvectorizer__ngram_range=(1, 2), onevsrestclassifier__estimator__alpha=0.001, total=  15.8s\n",
      "[CV] featureunion__tfidfvectorizer__lowercase=False, featureunion__tfidfvectorizer__max_features=10000, featureunion__tfidfvectorizer__ngram_range=(1, 2), onevsrestclassifier__estimator__alpha=0.001 \n",
      "[CV]  featureunion__tfidfvectorizer__lowercase=False, featureunion__tfidfvectorizer__max_features=10000, featureunion__tfidfvectorizer__ngram_range=(1, 2), onevsrestclassifier__estimator__alpha=0.001, total=  16.2s\n",
      "[CV] featureunion__tfidfvectorizer__lowercase=False, featureunion__tfidfvectorizer__max_features=10000, featureunion__tfidfvectorizer__ngram_range=(1, 2), onevsrestclassifier__estimator__alpha=0.01 \n",
      "[CV]  featureunion__tfidfvectorizer__lowercase=False, featureunion__tfidfvectorizer__max_features=10000, featureunion__tfidfvectorizer__ngram_range=(1, 2), onevsrestclassifier__estimator__alpha=0.01, total=  15.7s\n",
      "[CV] featureunion__tfidfvectorizer__lowercase=False, featureunion__tfidfvectorizer__max_features=10000, featureunion__tfidfvectorizer__ngram_range=(1, 2), onevsrestclassifier__estimator__alpha=0.01 \n",
      "[CV]  featureunion__tfidfvectorizer__lowercase=False, featureunion__tfidfvectorizer__max_features=10000, featureunion__tfidfvectorizer__ngram_range=(1, 2), onevsrestclassifier__estimator__alpha=0.01, total=  15.8s\n",
      "[CV] featureunion__tfidfvectorizer__lowercase=False, featureunion__tfidfvectorizer__max_features=10000, featureunion__tfidfvectorizer__ngram_range=(1, 2), onevsrestclassifier__estimator__alpha=0.01 \n",
      "[CV]  featureunion__tfidfvectorizer__lowercase=False, featureunion__tfidfvectorizer__max_features=10000, featureunion__tfidfvectorizer__ngram_range=(1, 2), onevsrestclassifier__estimator__alpha=0.01, total=  15.8s\n",
      "[CV] featureunion__tfidfvectorizer__lowercase=False, featureunion__tfidfvectorizer__max_features=10000, featureunion__tfidfvectorizer__ngram_range=(1, 2), onevsrestclassifier__estimator__alpha=0.1 \n",
      "[CV]  featureunion__tfidfvectorizer__lowercase=False, featureunion__tfidfvectorizer__max_features=10000, featureunion__tfidfvectorizer__ngram_range=(1, 2), onevsrestclassifier__estimator__alpha=0.1, total=  16.4s\n",
      "[CV] featureunion__tfidfvectorizer__lowercase=False, featureunion__tfidfvectorizer__max_features=10000, featureunion__tfidfvectorizer__ngram_range=(1, 2), onevsrestclassifier__estimator__alpha=0.1 \n",
      "[CV]  featureunion__tfidfvectorizer__lowercase=False, featureunion__tfidfvectorizer__max_features=10000, featureunion__tfidfvectorizer__ngram_range=(1, 2), onevsrestclassifier__estimator__alpha=0.1, total=  16.1s\n",
      "[CV] featureunion__tfidfvectorizer__lowercase=False, featureunion__tfidfvectorizer__max_features=10000, featureunion__tfidfvectorizer__ngram_range=(1, 2), onevsrestclassifier__estimator__alpha=0.1 \n",
      "[CV]  featureunion__tfidfvectorizer__lowercase=False, featureunion__tfidfvectorizer__max_features=10000, featureunion__tfidfvectorizer__ngram_range=(1, 2), onevsrestclassifier__estimator__alpha=0.1, total=  14.9s\n",
      "[CV] featureunion__tfidfvectorizer__lowercase=False, featureunion__tfidfvectorizer__max_features=10000, featureunion__tfidfvectorizer__ngram_range=(1, 2), onevsrestclassifier__estimator__alpha=1.0 \n"
     ]
    },
    {
     "name": "stdout",
     "output_type": "stream",
     "text": [
      "[CV]  featureunion__tfidfvectorizer__lowercase=False, featureunion__tfidfvectorizer__max_features=10000, featureunion__tfidfvectorizer__ngram_range=(1, 2), onevsrestclassifier__estimator__alpha=1.0, total=  15.9s\n",
      "[CV] featureunion__tfidfvectorizer__lowercase=False, featureunion__tfidfvectorizer__max_features=10000, featureunion__tfidfvectorizer__ngram_range=(1, 2), onevsrestclassifier__estimator__alpha=1.0 \n",
      "[CV]  featureunion__tfidfvectorizer__lowercase=False, featureunion__tfidfvectorizer__max_features=10000, featureunion__tfidfvectorizer__ngram_range=(1, 2), onevsrestclassifier__estimator__alpha=1.0, total=  15.4s\n",
      "[CV] featureunion__tfidfvectorizer__lowercase=False, featureunion__tfidfvectorizer__max_features=10000, featureunion__tfidfvectorizer__ngram_range=(1, 2), onevsrestclassifier__estimator__alpha=1.0 \n",
      "[CV]  featureunion__tfidfvectorizer__lowercase=False, featureunion__tfidfvectorizer__max_features=10000, featureunion__tfidfvectorizer__ngram_range=(1, 2), onevsrestclassifier__estimator__alpha=1.0, total=  20.7s\n",
      "[CV] featureunion__tfidfvectorizer__lowercase=False, featureunion__tfidfvectorizer__max_features=None, featureunion__tfidfvectorizer__ngram_range=(1, 1), onevsrestclassifier__estimator__alpha=0.001 \n",
      "[CV]  featureunion__tfidfvectorizer__lowercase=False, featureunion__tfidfvectorizer__max_features=None, featureunion__tfidfvectorizer__ngram_range=(1, 1), onevsrestclassifier__estimator__alpha=0.001, total=  10.5s\n",
      "[CV] featureunion__tfidfvectorizer__lowercase=False, featureunion__tfidfvectorizer__max_features=None, featureunion__tfidfvectorizer__ngram_range=(1, 1), onevsrestclassifier__estimator__alpha=0.001 \n",
      "[CV]  featureunion__tfidfvectorizer__lowercase=False, featureunion__tfidfvectorizer__max_features=None, featureunion__tfidfvectorizer__ngram_range=(1, 1), onevsrestclassifier__estimator__alpha=0.001, total=  10.4s\n",
      "[CV] featureunion__tfidfvectorizer__lowercase=False, featureunion__tfidfvectorizer__max_features=None, featureunion__tfidfvectorizer__ngram_range=(1, 1), onevsrestclassifier__estimator__alpha=0.001 \n",
      "[CV]  featureunion__tfidfvectorizer__lowercase=False, featureunion__tfidfvectorizer__max_features=None, featureunion__tfidfvectorizer__ngram_range=(1, 1), onevsrestclassifier__estimator__alpha=0.001, total=  11.3s\n",
      "[CV] featureunion__tfidfvectorizer__lowercase=False, featureunion__tfidfvectorizer__max_features=None, featureunion__tfidfvectorizer__ngram_range=(1, 1), onevsrestclassifier__estimator__alpha=0.01 \n",
      "[CV]  featureunion__tfidfvectorizer__lowercase=False, featureunion__tfidfvectorizer__max_features=None, featureunion__tfidfvectorizer__ngram_range=(1, 1), onevsrestclassifier__estimator__alpha=0.01, total=  11.4s\n",
      "[CV] featureunion__tfidfvectorizer__lowercase=False, featureunion__tfidfvectorizer__max_features=None, featureunion__tfidfvectorizer__ngram_range=(1, 1), onevsrestclassifier__estimator__alpha=0.01 \n",
      "[CV]  featureunion__tfidfvectorizer__lowercase=False, featureunion__tfidfvectorizer__max_features=None, featureunion__tfidfvectorizer__ngram_range=(1, 1), onevsrestclassifier__estimator__alpha=0.01, total=  10.6s\n",
      "[CV] featureunion__tfidfvectorizer__lowercase=False, featureunion__tfidfvectorizer__max_features=None, featureunion__tfidfvectorizer__ngram_range=(1, 1), onevsrestclassifier__estimator__alpha=0.01 \n",
      "[CV]  featureunion__tfidfvectorizer__lowercase=False, featureunion__tfidfvectorizer__max_features=None, featureunion__tfidfvectorizer__ngram_range=(1, 1), onevsrestclassifier__estimator__alpha=0.01, total=  11.5s\n",
      "[CV] featureunion__tfidfvectorizer__lowercase=False, featureunion__tfidfvectorizer__max_features=None, featureunion__tfidfvectorizer__ngram_range=(1, 1), onevsrestclassifier__estimator__alpha=0.1 \n",
      "[CV]  featureunion__tfidfvectorizer__lowercase=False, featureunion__tfidfvectorizer__max_features=None, featureunion__tfidfvectorizer__ngram_range=(1, 1), onevsrestclassifier__estimator__alpha=0.1, total=  11.3s\n",
      "[CV] featureunion__tfidfvectorizer__lowercase=False, featureunion__tfidfvectorizer__max_features=None, featureunion__tfidfvectorizer__ngram_range=(1, 1), onevsrestclassifier__estimator__alpha=0.1 \n",
      "[CV]  featureunion__tfidfvectorizer__lowercase=False, featureunion__tfidfvectorizer__max_features=None, featureunion__tfidfvectorizer__ngram_range=(1, 1), onevsrestclassifier__estimator__alpha=0.1, total=  10.4s\n",
      "[CV] featureunion__tfidfvectorizer__lowercase=False, featureunion__tfidfvectorizer__max_features=None, featureunion__tfidfvectorizer__ngram_range=(1, 1), onevsrestclassifier__estimator__alpha=0.1 \n",
      "[CV]  featureunion__tfidfvectorizer__lowercase=False, featureunion__tfidfvectorizer__max_features=None, featureunion__tfidfvectorizer__ngram_range=(1, 1), onevsrestclassifier__estimator__alpha=0.1, total=  10.9s\n",
      "[CV] featureunion__tfidfvectorizer__lowercase=False, featureunion__tfidfvectorizer__max_features=None, featureunion__tfidfvectorizer__ngram_range=(1, 1), onevsrestclassifier__estimator__alpha=1.0 \n",
      "[CV]  featureunion__tfidfvectorizer__lowercase=False, featureunion__tfidfvectorizer__max_features=None, featureunion__tfidfvectorizer__ngram_range=(1, 1), onevsrestclassifier__estimator__alpha=1.0, total=  11.0s\n",
      "[CV] featureunion__tfidfvectorizer__lowercase=False, featureunion__tfidfvectorizer__max_features=None, featureunion__tfidfvectorizer__ngram_range=(1, 1), onevsrestclassifier__estimator__alpha=1.0 \n",
      "[CV]  featureunion__tfidfvectorizer__lowercase=False, featureunion__tfidfvectorizer__max_features=None, featureunion__tfidfvectorizer__ngram_range=(1, 1), onevsrestclassifier__estimator__alpha=1.0, total=  10.6s\n",
      "[CV] featureunion__tfidfvectorizer__lowercase=False, featureunion__tfidfvectorizer__max_features=None, featureunion__tfidfvectorizer__ngram_range=(1, 1), onevsrestclassifier__estimator__alpha=1.0 \n",
      "[CV]  featureunion__tfidfvectorizer__lowercase=False, featureunion__tfidfvectorizer__max_features=None, featureunion__tfidfvectorizer__ngram_range=(1, 1), onevsrestclassifier__estimator__alpha=1.0, total=  11.6s\n",
      "[CV] featureunion__tfidfvectorizer__lowercase=False, featureunion__tfidfvectorizer__max_features=None, featureunion__tfidfvectorizer__ngram_range=(1, 2), onevsrestclassifier__estimator__alpha=0.001 \n",
      "[CV]  featureunion__tfidfvectorizer__lowercase=False, featureunion__tfidfvectorizer__max_features=None, featureunion__tfidfvectorizer__ngram_range=(1, 2), onevsrestclassifier__estimator__alpha=0.001, total=  27.6s\n",
      "[CV] featureunion__tfidfvectorizer__lowercase=False, featureunion__tfidfvectorizer__max_features=None, featureunion__tfidfvectorizer__ngram_range=(1, 2), onevsrestclassifier__estimator__alpha=0.001 \n",
      "[CV]  featureunion__tfidfvectorizer__lowercase=False, featureunion__tfidfvectorizer__max_features=None, featureunion__tfidfvectorizer__ngram_range=(1, 2), onevsrestclassifier__estimator__alpha=0.001, total=  28.2s\n",
      "[CV] featureunion__tfidfvectorizer__lowercase=False, featureunion__tfidfvectorizer__max_features=None, featureunion__tfidfvectorizer__ngram_range=(1, 2), onevsrestclassifier__estimator__alpha=0.001 \n",
      "[CV]  featureunion__tfidfvectorizer__lowercase=False, featureunion__tfidfvectorizer__max_features=None, featureunion__tfidfvectorizer__ngram_range=(1, 2), onevsrestclassifier__estimator__alpha=0.001, total=  26.0s\n",
      "[CV] featureunion__tfidfvectorizer__lowercase=False, featureunion__tfidfvectorizer__max_features=None, featureunion__tfidfvectorizer__ngram_range=(1, 2), onevsrestclassifier__estimator__alpha=0.01 \n",
      "[CV]  featureunion__tfidfvectorizer__lowercase=False, featureunion__tfidfvectorizer__max_features=None, featureunion__tfidfvectorizer__ngram_range=(1, 2), onevsrestclassifier__estimator__alpha=0.01, total=  27.9s\n",
      "[CV] featureunion__tfidfvectorizer__lowercase=False, featureunion__tfidfvectorizer__max_features=None, featureunion__tfidfvectorizer__ngram_range=(1, 2), onevsrestclassifier__estimator__alpha=0.01 \n",
      "[CV]  featureunion__tfidfvectorizer__lowercase=False, featureunion__tfidfvectorizer__max_features=None, featureunion__tfidfvectorizer__ngram_range=(1, 2), onevsrestclassifier__estimator__alpha=0.01, total=  25.8s\n",
      "[CV] featureunion__tfidfvectorizer__lowercase=False, featureunion__tfidfvectorizer__max_features=None, featureunion__tfidfvectorizer__ngram_range=(1, 2), onevsrestclassifier__estimator__alpha=0.01 \n"
     ]
    },
    {
     "name": "stdout",
     "output_type": "stream",
     "text": [
      "[CV]  featureunion__tfidfvectorizer__lowercase=False, featureunion__tfidfvectorizer__max_features=None, featureunion__tfidfvectorizer__ngram_range=(1, 2), onevsrestclassifier__estimator__alpha=0.01, total=  28.3s\n",
      "[CV] featureunion__tfidfvectorizer__lowercase=False, featureunion__tfidfvectorizer__max_features=None, featureunion__tfidfvectorizer__ngram_range=(1, 2), onevsrestclassifier__estimator__alpha=0.1 \n",
      "[CV]  featureunion__tfidfvectorizer__lowercase=False, featureunion__tfidfvectorizer__max_features=None, featureunion__tfidfvectorizer__ngram_range=(1, 2), onevsrestclassifier__estimator__alpha=0.1, total=  28.3s\n",
      "[CV] featureunion__tfidfvectorizer__lowercase=False, featureunion__tfidfvectorizer__max_features=None, featureunion__tfidfvectorizer__ngram_range=(1, 2), onevsrestclassifier__estimator__alpha=0.1 \n",
      "[CV]  featureunion__tfidfvectorizer__lowercase=False, featureunion__tfidfvectorizer__max_features=None, featureunion__tfidfvectorizer__ngram_range=(1, 2), onevsrestclassifier__estimator__alpha=0.1, total=  29.4s\n",
      "[CV] featureunion__tfidfvectorizer__lowercase=False, featureunion__tfidfvectorizer__max_features=None, featureunion__tfidfvectorizer__ngram_range=(1, 2), onevsrestclassifier__estimator__alpha=0.1 \n",
      "[CV]  featureunion__tfidfvectorizer__lowercase=False, featureunion__tfidfvectorizer__max_features=None, featureunion__tfidfvectorizer__ngram_range=(1, 2), onevsrestclassifier__estimator__alpha=0.1, total=  25.5s\n",
      "[CV] featureunion__tfidfvectorizer__lowercase=False, featureunion__tfidfvectorizer__max_features=None, featureunion__tfidfvectorizer__ngram_range=(1, 2), onevsrestclassifier__estimator__alpha=1.0 \n",
      "[CV]  featureunion__tfidfvectorizer__lowercase=False, featureunion__tfidfvectorizer__max_features=None, featureunion__tfidfvectorizer__ngram_range=(1, 2), onevsrestclassifier__estimator__alpha=1.0, total=  25.0s\n",
      "[CV] featureunion__tfidfvectorizer__lowercase=False, featureunion__tfidfvectorizer__max_features=None, featureunion__tfidfvectorizer__ngram_range=(1, 2), onevsrestclassifier__estimator__alpha=1.0 \n",
      "[CV]  featureunion__tfidfvectorizer__lowercase=False, featureunion__tfidfvectorizer__max_features=None, featureunion__tfidfvectorizer__ngram_range=(1, 2), onevsrestclassifier__estimator__alpha=1.0, total=  22.7s\n",
      "[CV] featureunion__tfidfvectorizer__lowercase=False, featureunion__tfidfvectorizer__max_features=None, featureunion__tfidfvectorizer__ngram_range=(1, 2), onevsrestclassifier__estimator__alpha=1.0 \n",
      "[CV]  featureunion__tfidfvectorizer__lowercase=False, featureunion__tfidfvectorizer__max_features=None, featureunion__tfidfvectorizer__ngram_range=(1, 2), onevsrestclassifier__estimator__alpha=1.0, total=  18.3s\n"
     ]
    },
    {
     "name": "stderr",
     "output_type": "stream",
     "text": [
      "[Parallel(n_jobs=1)]: Done 192 out of 192 | elapsed: 64.8min finished\n"
     ]
    }
   ],
   "source": [
    "clf = OneVsRestClassifier(ComplementNB())\n",
    "\n",
    "tfidf = TfidfVectorizer(lowercase=True, stop_words='english')\n",
    "bad_word_counter = CountVectorizer(vocabulary=BAD_WORDS)\n",
    "\n",
    "union = make_union(tfidf, bad_word_counter)\n",
    "\n",
    "pipeline = make_pipeline(union, clf)\n",
    "\n",
    "optimizer = pipeline\n",
    "parameters = {\n",
    "    'featureunion__tfidfvectorizer__lowercase': [True, False],\n",
    "    'onevsrestclassifier__estimator__alpha': [0.001, 0.01, 0.1, 1.0],\n",
    "    'featureunion__tfidfvectorizer__ngram_range': [(1, 1), (1, 2)],\n",
    "    'featureunion__tfidfvectorizer__max_features': [1000, 5000, 10000, None]\n",
    "}\n",
    "\n",
    "optimizer = GridSearchCV(pipeline, parameters, scoring='f1_weighted', verbose=2)\n",
    "optimizer.fit(X_train, y_train)\n",
    "y_predictions = optimizer.predict(X_valid)\n",
    "\n",
    "best_estimator_ = optimizer.best_estimator_"
   ]
  },
  {
   "cell_type": "code",
   "execution_count": 10,
   "metadata": {},
   "outputs": [
    {
     "name": "stdout",
     "output_type": "stream",
     "text": [
      "Hamming loss (lower is better): 0.035378567766193816\n",
      "Jaccard similarity (higher is better): 0.9199823392012761\n",
      "\n",
      "               precision    recall  f1-score   support\n",
      "\n",
      "        toxic       0.77      0.70      0.74      5057\n",
      " severe_toxic       0.26      0.83      0.40       531\n",
      "      obscene       0.72      0.84      0.78      2843\n",
      "       threat       0.05      0.72      0.10       163\n",
      "       insult       0.60      0.75      0.67      2662\n",
      "identity_hate       0.16      0.68      0.25       471\n",
      "\n",
      "    micro avg       0.52      0.75      0.61     11727\n",
      "    macro avg       0.43      0.76      0.49     11727\n",
      " weighted avg       0.67      0.75      0.69     11727\n",
      "  samples avg       0.05      0.07      0.05     11727\n",
      "\n"
     ]
    },
    {
     "name": "stderr",
     "output_type": "stream",
     "text": [
      "/home/quontas/anaconda3/lib/python3.7/site-packages/sklearn/metrics/classification.py:1143: UndefinedMetricWarning: Precision and F-score are ill-defined and being set to 0.0 in samples with no predicted labels.\n",
      "  'precision', 'predicted', average, warn_for)\n",
      "/home/quontas/anaconda3/lib/python3.7/site-packages/sklearn/metrics/classification.py:1145: UndefinedMetricWarning: Recall and F-score are ill-defined and being set to 0.0 in samples with no true labels.\n",
      "  'recall', 'true', average, warn_for)\n"
     ]
    }
   ],
   "source": [
    "hamming_loss = metrics.hamming_loss(y_valid, y_predictions, labels=LABEL_COLS)\n",
    "jaccard = metrics.jaccard_similarity_score(y_valid, y_predictions)\n",
    "print(f'Hamming loss (lower is better): {hamming_loss}')\n",
    "print(f'Jaccard similarity (higher is better): {jaccard}')\n",
    "print()\n",
    "print(metrics.classification_report(y_valid, y_predictions, target_names=LABEL_COLS))"
   ]
  }
 ],
 "metadata": {
  "kernelspec": {
   "display_name": "Python 3",
   "language": "python",
   "name": "python3"
  },
  "language_info": {
   "codemirror_mode": {
    "name": "ipython",
    "version": 3
   },
   "file_extension": ".py",
   "mimetype": "text/x-python",
   "name": "python",
   "nbconvert_exporter": "python",
   "pygments_lexer": "ipython3",
   "version": "3.7.0"
  },
  "nbTranslate": {
   "displayLangs": [
    "*"
   ],
   "hotkey": "alt-t",
   "langInMainMenu": true,
   "sourceLang": "en",
   "targetLang": "fr",
   "useGoogleTranslate": true
  },
  "varInspector": {
   "cols": {
    "lenName": 16,
    "lenType": 16,
    "lenVar": 40
   },
   "kernels_config": {
    "python": {
     "delete_cmd_postfix": "",
     "delete_cmd_prefix": "del ",
     "library": "var_list.py",
     "varRefreshCmd": "print(var_dic_list())"
    },
    "r": {
     "delete_cmd_postfix": ") ",
     "delete_cmd_prefix": "rm(",
     "library": "var_list.r",
     "varRefreshCmd": "cat(var_dic_list()) "
    }
   },
   "types_to_exclude": [
    "module",
    "function",
    "builtin_function_or_method",
    "instance",
    "_Feature"
   ],
   "window_display": false
  }
 },
 "nbformat": 4,
 "nbformat_minor": 2
}
