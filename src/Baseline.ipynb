{
 "cells": [
  {
   "cell_type": "code",
   "execution_count": 1,
   "metadata": {},
   "outputs": [],
   "source": [
    "import pandas as pd\n",
    "import numpy as np\n",
    "from collections import defaultdict\n",
    "\n",
    "from constants import LABEL_COLS\n",
    "from functions import load_bad_words, build_data_path, print_report\n",
    "from sklearn.model_selection import train_test_split\n",
    "from random import random"
   ]
  },
  {
   "cell_type": "code",
   "execution_count": 2,
   "metadata": {},
   "outputs": [],
   "source": [
    "training_data_path = build_data_path('train.csv')"
   ]
  },
  {
   "cell_type": "code",
   "execution_count": 3,
   "metadata": {},
   "outputs": [],
   "source": [
    "df = pd.read_csv(training_data_path)\n",
    "X = df['comment_text']\n",
    "y = df[LABEL_COLS]"
   ]
  },
  {
   "cell_type": "code",
   "execution_count": 4,
   "metadata": {},
   "outputs": [],
   "source": [
    "X_train, X_valid, y_train, y_valid = train_test_split(X, y, test_size=0.33)\n",
    "\n",
    "label_counts = y_train.sum()\n",
    "\n",
    "total = label_counts.sum()\n",
    "\n",
    "label_freqs = defaultdict(lambda: 0)\n",
    "for key in label_counts.index:\n",
    "    label_freqs[key] = label_counts[key]/total"
   ]
  },
  {
   "cell_type": "code",
   "execution_count": 5,
   "metadata": {},
   "outputs": [],
   "source": [
    "def predict(X_values):\n",
    "    predictions = [[], []]\n",
    "    for example in X_values:\n",
    "        prediction = []\n",
    "        for key in LABEL_COLS:\n",
    "            rand_value = random()\n",
    "            frequency = label_freqs[key]\n",
    "            prediction.append(1 if rand_value < frequency else 0)\n",
    "        predictions[0].append(prediction)\n",
    "        predictions[1].append([1]*len(LABEL_COLS))    \n",
    "    return np.array(predictions)"
   ]
  },
  {
   "cell_type": "code",
   "execution_count": 6,
   "metadata": {},
   "outputs": [
    {
     "name": "stdout",
     "output_type": "stream",
     "text": [
      "RANDOM ASSIGNMENT\n",
      "VALIDATION RESULTS:\n",
      "\n",
      "               precision    recall  f1-score   support\n",
      "\n",
      "        toxic       0.10      0.44      0.16      5159\n",
      " severe_toxic       0.01      0.03      0.01       584\n",
      "      obscene       0.05      0.24      0.09      2855\n",
      "       threat       0.00      0.01      0.00       147\n",
      "       insult       0.05      0.22      0.08      2725\n",
      "identity_hate       0.01      0.03      0.01       471\n",
      "\n",
      "  avg / total       0.07      0.30      0.11     11941\n",
      "\n",
      "\n",
      "ALWAYS TRUE ASSIGNMENT\n",
      "VALIDATION RESULTS:\n",
      "\n",
      "               precision    recall  f1-score   support\n",
      "\n",
      "        toxic       0.10      1.00      0.18      5159\n",
      " severe_toxic       0.01      1.00      0.02       584\n",
      "      obscene       0.05      1.00      0.10      2855\n",
      "       threat       0.00      1.00      0.01       147\n",
      "       insult       0.05      1.00      0.10      2725\n",
      "identity_hate       0.01      1.00      0.02       471\n",
      "\n",
      "  avg / total       0.07      1.00      0.13     11941\n",
      "\n",
      "\n"
     ]
    }
   ],
   "source": [
    "random_predictions, always_true = predict(X_valid)\n",
    "\n",
    "print('RANDOM ASSIGNMENT')\n",
    "print_report(y_valid, random_predictions)\n",
    "print()\n",
    "\n",
    "print('ALWAYS TRUE ASSIGNMENT')\n",
    "print_report(y_valid, always_true)\n",
    "print()"
   ]
  }
 ],
 "metadata": {
  "kernelspec": {
   "display_name": "Python 3",
   "language": "python",
   "name": "python3"
  },
  "language_info": {
   "codemirror_mode": {
    "name": "ipython",
    "version": 3
   },
   "file_extension": ".py",
   "mimetype": "text/x-python",
   "name": "python",
   "nbconvert_exporter": "python",
   "pygments_lexer": "ipython3",
   "version": "3.6.6"
  },
  "nbTranslate": {
   "displayLangs": [
    "*"
   ],
   "hotkey": "alt-t",
   "langInMainMenu": true,
   "sourceLang": "en",
   "targetLang": "fr",
   "useGoogleTranslate": true
  },
  "varInspector": {
   "cols": {
    "lenName": 16,
    "lenType": 16,
    "lenVar": 40
   },
   "kernels_config": {
    "python": {
     "delete_cmd_postfix": "",
     "delete_cmd_prefix": "del ",
     "library": "var_list.py",
     "varRefreshCmd": "print(var_dic_list())"
    },
    "r": {
     "delete_cmd_postfix": ") ",
     "delete_cmd_prefix": "rm(",
     "library": "var_list.r",
     "varRefreshCmd": "cat(var_dic_list()) "
    }
   },
   "types_to_exclude": [
    "module",
    "function",
    "builtin_function_or_method",
    "instance",
    "_Feature"
   ],
   "window_display": false
  }
 },
 "nbformat": 4,
 "nbformat_minor": 2
}
