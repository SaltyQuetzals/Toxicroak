{
 "cells": [
  {
   "cell_type": "markdown",
   "metadata": {},
   "source": [
    "__Note__: The data being viewed is obscene and explicit, simply by virtue of the dataset. It in no way, shape, or form represents the viewpoints of the authors."
   ]
  },
  {
   "cell_type": "code",
   "execution_count": 1,
   "metadata": {},
   "outputs": [
    {
     "name": "stdout",
     "output_type": "stream",
     "text": [
      "[nltk_data] Downloading package stopwords to\n",
      "[nltk_data]     /home/quontas/nltk_data...\n",
      "[nltk_data]   Package stopwords is already up-to-date!\n"
     ]
    }
   ],
   "source": [
    "from collections import Counter\n",
    "\n",
    "import pandas as pd\n",
    "from matplotlib import pyplot as plt\n",
    "import nltk\n",
    "nltk.download('stopwords')\n",
    "\n",
    "from nltk.corpus import stopwords\n",
    "\n",
    "from functions import build_data_path, load_bad_words\n",
    "from constants import LABEL_COLS\n",
    "\n",
    "STOP_WORDS = set(stopwords.words('english')) "
   ]
  },
  {
   "cell_type": "code",
   "execution_count": 2,
   "metadata": {},
   "outputs": [],
   "source": [
    "training_data_path = build_data_path('train.csv')"
   ]
  },
  {
   "cell_type": "code",
   "execution_count": 3,
   "metadata": {},
   "outputs": [],
   "source": [
    "def toxic(row):\n",
    "    return 1 if any(row) else 0"
   ]
  },
  {
   "cell_type": "code",
   "execution_count": 4,
   "metadata": {},
   "outputs": [],
   "source": [
    "df = pd.read_csv(training_data_path)\n",
    "X = df['comment_text']\n",
    "df['is_toxic'] = df[LABEL_COLS].apply(toxic, axis=1)\n",
    "LABEL_COLS.append('is_toxic')\n",
    "y = df[LABEL_COLS]"
   ]
  },
  {
   "cell_type": "code",
   "execution_count": 5,
   "metadata": {},
   "outputs": [
    {
     "data": {
      "text/plain": [
       "[('fuck', 7873),\n",
       " ('nigger', 3193),\n",
       " ('fucking', 3178),\n",
       " ('shit', 2671),\n",
       " ('faggot', 1670),\n",
       " ('ass', 1627),\n",
       " ('wanker', 985),\n",
       " ('cunt', 971),\n",
       " ('balls', 926),\n",
       " ('fag', 920),\n",
       " ('dick', 913),\n",
       " ('sex', 895),\n",
       " ('bitch', 845),\n",
       " ('cock', 786),\n",
       " ('dickhead', 675),\n",
       " ('fucker', 666),\n",
       " ('damn', 645),\n",
       " ('bastard', 562),\n",
       " ('homo', 537),\n",
       " ('hell', 509),\n",
       " ('penis', 425),\n",
       " ('pussy', 388),\n",
       " ('anal', 368),\n",
       " ('cocks', 325),\n",
       " ('cocksucking', 290),\n",
       " ('asshole', 280),\n",
       " ('fuckin', 268),\n",
       " ('crap', 251),\n",
       " ('bloody', 245),\n",
       " ('bum', 229),\n",
       " ('nazi', 183),\n",
       " ('shitfuck', 182),\n",
       " ('fucked', 140),\n",
       " ('piss', 134),\n",
       " ('bitches', 115),\n",
       " ('knob', 107),\n",
       " ('twat', 95),\n",
       " ('whore', 92),\n",
       " ('butt', 91),\n",
       " ('chink', 91),\n",
       " ('motherfucking', 67),\n",
       " ('motherfucker', 64),\n",
       " ('prick', 61),\n",
       " ('semen', 61),\n",
       " ('pissed', 60),\n",
       " ('goddamn', 57),\n",
       " ('nigga', 53),\n",
       " ('assholes', 52),\n",
       " ('porn', 51),\n",
       " ('retard', 49)]"
      ]
     },
     "execution_count": 5,
     "metadata": {},
     "output_type": "execute_result"
    }
   ],
   "source": [
    "words = []\n",
    "BAD_WORDS = load_bad_words()\n",
    "for index, row in df.iterrows():\n",
    "    if toxic(row[LABEL_COLS]):\n",
    "        words += [w for w in row['comment_text'].lower().split(' ') if w not in STOP_WORDS]\n",
    "counter = Counter(words)\n",
    "\n",
    "bad_word_counts = {w: counter[w] for w in BAD_WORDS}\n",
    "\n",
    "bad_word_counter = Counter(**bad_word_counts)\n",
    "\n",
    "bad_word_counter.most_common(50)"
   ]
  },
  {
   "cell_type": "markdown",
   "metadata": {},
   "source": [
    "It's clear that the list of obscene words we use (obtained from [here](https://www.freewebheaders.com/bad-words-list-and-page-moderation-words-list-for-facebook/)) is present in the toxic comments, so it likely will be a useful feature."
   ]
  },
  {
   "cell_type": "code",
   "execution_count": 6,
   "metadata": {},
   "outputs": [
    {
     "name": "stdout",
     "output_type": "stream",
     "text": [
      "Number of training rows: 159571\n",
      "toxic            15294\n",
      "severe_toxic      1595\n",
      "obscene           8449\n",
      "threat             478\n",
      "insult            7877\n",
      "identity_hate     1405\n",
      "is_toxic         16225\n",
      "dtype: int64\n"
     ]
    }
   ],
   "source": [
    "print(f\"Number of training rows: {len(df)}\")\n",
    "print(y.sum())"
   ]
  },
  {
   "cell_type": "markdown",
   "metadata": {},
   "source": [
    "There is a clear imbalance between the number of non-toxic and toxic comments. And within those toxic comments, there's imbalances in the frequencies with which categories appear more often. These imbalances will need to be accounted for in our models."
   ]
  },
  {
   "cell_type": "code",
   "execution_count": 7,
   "metadata": {},
   "outputs": [
    {
     "data": {
      "image/png": "[encoded data removed]",
      "text/plain": [
       "<Figure size 432x288 with 1 Axes>"
      ]
     },
     "metadata": {
      "needs_background": "light"
     },
     "output_type": "display_data"
    },
    {
     "data": {
      "text/plain": [
       "count    159571.000000\n",
       "mean        394.073221\n",
       "std         590.720282\n",
       "min           6.000000\n",
       "25%          96.000000\n",
       "50%         205.000000\n",
       "75%         435.000000\n",
       "max        5000.000000\n",
       "Name: char_length, dtype: float64"
      ]
     },
     "execution_count": 7,
     "metadata": {},
     "output_type": "execute_result"
    }
   ],
   "source": [
    "df['char_length'] = df['comment_text'].apply(lambda x: len(str(x)))\n",
    "df['char_length'].hist()\n",
    "plt.title('Comment Character Lengths')\n",
    "plt.xlabel('Number of Characters')\n",
    "plt.ylabel('Number of Comments')\n",
    "plt.show()\n",
    "df['char_length'].describe()"
   ]
  },
  {
   "cell_type": "markdown",
   "metadata": {},
   "source": [
    "It seems as though most comments are between 0 and 1000 characters in length. If we use embeddings, it might be in our best interest to do character-level embeddings instead of word embeddings."
   ]
  }
 ],
 "metadata": {
  "kernelspec": {
   "display_name": "Python 3",
   "language": "python",
   "name": "python3"
  },
  "language_info": {
   "codemirror_mode": {
    "name": "ipython",
    "version": 3
   },
   "file_extension": ".py",
   "mimetype": "text/x-python",
   "name": "python",
   "nbconvert_exporter": "python",
   "pygments_lexer": "ipython3",
   "version": "3.7.0"
  }
 },
 "nbformat": 4,
 "nbformat_minor": 2
}
