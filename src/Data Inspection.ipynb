{
 "cells": [
  {
   "cell_type": "markdown",
   "metadata": {},
   "source": [
    "__Note__: The data being viewed is obscene and explicit, simply by virtue of the dataset. It in no way, shape, or form represents the viewpoints of the authors."
   ]
  },
  {
   "cell_type": "code",
   "execution_count": 1,
   "metadata": {},
   "outputs": [
    {
     "name": "stdout",
     "output_type": "stream",
     "text": [
      "[nltk_data] Downloading package stopwords to\n",
      "[nltk_data]     /home/quontas/nltk_data...\n",
      "[nltk_data]   Package stopwords is already up-to-date!\n"
     ]
    }
   ],
   "source": [
    "from collections import Counter\n",
    "\n",
    "import pandas as pd\n",
    "from matplotlib import pyplot as plt\n",
    "import nltk\n",
    "nltk.download('stopwords')\n",
    "\n",
    "from nltk.corpus import stopwords\n",
    "\n",
    "from functions import build_data_path, load_bad_words\n",
    "from constants import LABEL_COLS\n",
    "\n",
    "STOP_WORDS = set(stopwords.words('english')) "
   ]
  },
  {
   "cell_type": "code",
   "execution_count": 2,
   "metadata": {},
   "outputs": [],
   "source": [
    "training_data_path = build_data_path('train.csv')"
   ]
  },
  {
   "cell_type": "code",
   "execution_count": 3,
   "metadata": {},
   "outputs": [],
   "source": [
    "def toxic(row):\n",
    "    return 1 if any(row) else 0"
   ]
  },
  {
   "cell_type": "code",
   "execution_count": 4,
   "metadata": {},
   "outputs": [
    {
     "data": {
      "text/plain": [
       "<matplotlib.axes._subplots.AxesSubplot at 0x7fb0ae027ef0>"
      ]
     },
     "execution_count": 4,
     "metadata": {},
     "output_type": "execute_result"
    },
    {
     "data": {
      "image/png": "[encoded data removed]",
      "text/plain": [
       "<Figure size 432x288 with 1 Axes>"
      ]
     },
     "metadata": {},
     "output_type": "display_data"
    }
   ],
   "source": [
    "df = pd.read_csv(training_data_path)\n",
    "X = df['comment_text']\n",
    "y = df[LABEL_COLS]\n",
    "\n",
    "y.sum().plot(kind='pie')"
   ]
  },
  {
   "cell_type": "code",
   "execution_count": 5,
   "metadata": {},
   "outputs": [
    {
     "data": {
      "text/plain": [
       "[('', 20520),\n",
       " ('fuck', 7873),\n",
       " ('nigger', 3193),\n",
       " ('fucking', 3178),\n",
       " ('suck', 2844),\n",
       " ('shit', 2671),\n",
       " ('moron', 1700),\n",
       " ('faggot', 1670),\n",
       " ('gay', 1666),\n",
       " ('ass', 1627),\n",
       " ('stupid', 1236),\n",
       " ('sucks', 1136),\n",
       " ('wanker', 985),\n",
       " ('cunt', 971),\n",
       " ('balls', 926),\n",
       " ('fag', 920),\n",
       " ('dick', 913),\n",
       " ('sex', 895),\n",
       " ('bitch', 845),\n",
       " ('nipple', 823),\n",
       " ('cock', 786),\n",
       " ('kill', 782),\n",
       " ('dickhead', 675),\n",
       " ('fucker', 666),\n",
       " ('faggots', 661),\n",
       " ('damn', 645),\n",
       " ('rape', 598),\n",
       " ('bastard', 562),\n",
       " ('homo', 537),\n",
       " ('hell', 509),\n",
       " ('penis', 425),\n",
       " ('god', 421),\n",
       " ('pussy', 388),\n",
       " ('anal', 368),\n",
       " ('cocks', 325),\n",
       " ('retarded', 306),\n",
       " ('cocksucking', 290),\n",
       " ('asshole', 280),\n",
       " ('fuckin', 268),\n",
       " ('crap', 251),\n",
       " ('bloody', 245),\n",
       " ('dirty', 231),\n",
       " ('bum', 229),\n",
       " ('cuntbag', 224),\n",
       " ('vomit', 221),\n",
       " ('fack', 204),\n",
       " ('nazi', 183),\n",
       " ('shitfuck', 182),\n",
       " ('bullshit', 176),\n",
       " ('ugly', 168)]"
      ]
     },
     "execution_count": 5,
     "metadata": {},
     "output_type": "execute_result"
    }
   ],
   "source": [
    "words = []\n",
    "BAD_WORDS = load_bad_words()\n",
    "for index, row in df.iterrows():\n",
    "    if toxic(row[LABEL_COLS]):\n",
    "        words += [w for w in row['comment_text'].lower().split(' ') if w not in STOP_WORDS]\n",
    "counter = Counter(words)\n",
    "\n",
    "bad_word_counts = {w: counter[w] for w in BAD_WORDS}\n",
    "\n",
    "bad_word_counter = Counter(**bad_word_counts)\n",
    "\n",
    "bad_word_counter.most_common(50)"
   ]
  },
  {
   "cell_type": "markdown",
   "metadata": {},
   "source": [
    "It's clear that the list of obscene words we use (obtained from [here](https://www.freewebheaders.com/bad-words-list-and-page-moderation-words-list-for-facebook/)) is present in the toxic comments, so it likely will be a useful feature."
   ]
  },
  {
   "cell_type": "code",
   "execution_count": 6,
   "metadata": {},
   "outputs": [
    {
     "name": "stdout",
     "output_type": "stream",
     "text": [
      "Number of training rows: 159571\n"
     ]
    }
   ],
   "source": [
    "print(f\"Number of training rows: {len(df)}\")"
   ]
  },
  {
   "cell_type": "markdown",
   "metadata": {},
   "source": [
    "There is a clear imbalance between the number of non-toxic and toxic comments. And within those toxic comments, there's imbalances in the frequencies with which categories appear more often. These imbalances will need to be accounted for in our models."
   ]
  },
  {
   "cell_type": "code",
   "execution_count": 7,
   "metadata": {},
   "outputs": [
    {
     "data": {
      "image/png": "[encoded data removed]",
      "text/plain": [
       "<Figure size 432x288 with 1 Axes>"
      ]
     },
     "metadata": {
      "needs_background": "light"
     },
     "output_type": "display_data"
    },
    {
     "data": {
      "text/plain": [
       "count    159571.000000\n",
       "mean        394.073221\n",
       "std         590.720282\n",
       "min           6.000000\n",
       "25%          96.000000\n",
       "50%         205.000000\n",
       "75%         435.000000\n",
       "max        5000.000000\n",
       "Name: char_length, dtype: float64"
      ]
     },
     "execution_count": 7,
     "metadata": {},
     "output_type": "execute_result"
    }
   ],
   "source": [
    "df['char_length'] = df['comment_text'].apply(lambda x: len(str(x)))\n",
    "df['char_length'].hist()\n",
    "plt.title('Comment Character Lengths')\n",
    "plt.xlabel('Number of Characters')\n",
    "plt.ylabel('Number of Comments')\n",
    "plt.show()\n",
    "df['char_length'].describe()"
   ]
  },
  {
   "cell_type": "markdown",
   "metadata": {},
   "source": [
    "It seems as though most comments are between 0 and 1000 characters in length. If we use embeddings, it might be in our best interest to do character-level embeddings instead of word embeddings."
   ]
  }
 ],
 "metadata": {
  "kernelspec": {
   "display_name": "Python 3",
   "language": "python",
   "name": "python3"
  },
  "language_info": {
   "codemirror_mode": {
    "name": "ipython",
    "version": 3
   },
   "file_extension": ".py",
   "mimetype": "text/x-python",
   "name": "python",
   "nbconvert_exporter": "python",
   "pygments_lexer": "ipython3",
   "version": "3.7.0"
  },
  "nbTranslate": {
   "displayLangs": [
    "*"
   ],
   "hotkey": "alt-t",
   "langInMainMenu": true,
   "sourceLang": "en",
   "targetLang": "fr",
   "useGoogleTranslate": true
  },
  "varInspector": {
   "cols": {
    "lenName": 16,
    "lenType": 16,
    "lenVar": 40
   },
   "kernels_config": {
    "python": {
     "delete_cmd_postfix": "",
     "delete_cmd_prefix": "del ",
     "library": "var_list.py",
     "varRefreshCmd": "print(var_dic_list())"
    },
    "r": {
     "delete_cmd_postfix": ") ",
     "delete_cmd_prefix": "rm(",
     "library": "var_list.r",
     "varRefreshCmd": "cat(var_dic_list()) "
    }
   },
   "types_to_exclude": [
    "module",
    "function",
    "builtin_function_or_method",
    "instance",
    "_Feature"
   ],
   "window_display": false
  }
 },
 "nbformat": 4,
 "nbformat_minor": 2
}
