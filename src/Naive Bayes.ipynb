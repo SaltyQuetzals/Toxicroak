{
 "cells": [
  {
   "cell_type": "code",
   "execution_count": null,
   "metadata": {},
   "outputs": [],
   "source": [
    "from os import path\n",
    "\n",
    "from matplotlib import pyplot as plt\n",
    "import pandas as pd\n",
    "import numpy as np\n",
    "\n",
    "from sklearn.feature_extraction.text import TfidfVectorizer, CountVectorizer\n",
    "from sklearn.naive_bayes import ComplementNB, BernoulliNB, MultinomialNB\n",
    "from sklearn.pipeline import make_pipeline, make_union\n",
    "from sklearn.model_selection import train_test_split, RandomizedSearchCV, GridSearchCV\n",
    "from sklearn.multiclass import OneVsRestClassifier\n",
    "from sklearn import metrics\n",
    "\n",
    "from functions import load_bad_words, load_ethnic_slurs, build_data_path, print_report, run_on_test_data\n",
    "from constants import LABEL_COLS"
   ]
  },
  {
   "cell_type": "code",
   "execution_count": null,
   "metadata": {},
   "outputs": [],
   "source": [
    "BAD_WORDS = set(load_bad_words())\n",
    "ETHNIC_SLURS = set(load_ethnic_slurs())"
   ]
  },
  {
   "cell_type": "code",
   "execution_count": null,
   "metadata": {},
   "outputs": [],
   "source": [
    "training_data_path = build_data_path('augmented_train.csv')"
   ]
  },
  {
   "cell_type": "code",
   "execution_count": null,
   "metadata": {},
   "outputs": [],
   "source": [
    "df = pd.read_csv(training_data_path)\n",
    "\n",
    "X = df['comment_text']\n",
    "y = df[LABEL_COLS]"
   ]
  },
  {
   "cell_type": "code",
   "execution_count": null,
   "metadata": {},
   "outputs": [],
   "source": [
    "X_train, X_valid, y_train, y_valid = train_test_split(X, y, test_size=0.33)"
   ]
  },
  {
   "cell_type": "code",
   "execution_count": null,
   "metadata": {},
   "outputs": [],
   "source": [
    "clf = OneVsRestClassifier(ComplementNB())\n",
    "\n",
    "tfidf = TfidfVectorizer()\n",
    "bad_word_counter = CountVectorizer(vocabulary=BAD_WORDS)\n",
    "slur_counter = CountVectorizer(vocabulary=ETHNIC_SLURS)\n",
    "union = make_union(tfidf, bad_word_counter, slur_counter)\n",
    "\n",
    "pipeline = make_pipeline(union, clf)\n",
    "\n",
    "optimizer = pipeline\n",
    "\n",
    "print('Would you like to perform an exhaustive search? NOTE: This will take several hours.')\n",
    "autotune_hyperparameters = input('Please enter \"yes\" or \"no\".')\n",
    "\n",
    "# Auto-tune hyperparameters\n",
    "while autotune_hyperparameters.lower() not in ['yes', 'no']:\n",
    "    autotune_hyperparameters = input('Please enter \"yes\" or \"no\".')\n",
    "if autotune_hyperparameters == 'yes':\n",
    "    parameters = {\n",
    "        'featureunion__tfidfvectorizer__lowercase': [True, False],\n",
    "        'onevsrestclassifier__estimator__alpha': [0.001, 0.01, 0.1, 1.0],\n",
    "        'onevsrestclassifier__estimator__norm': [True, False],\n",
    "        'featureunion__tfidfvectorizer__max_features': [1000, 5000, 10000, None]\n",
    "    }\n",
    "    optimizer = GridSearchCV(pipeline, parameters, scoring='roc_auc', verbose=3)\n",
    "\n",
    "optimizer.fit(X_train, y_train)\n",
    "y_predictions = optimizer.predict(X_valid)\n",
    "\n",
    "# best_estimator_ = optimizer.best_estimator_"
   ]
  },
  {
   "cell_type": "code",
   "execution_count": null,
   "metadata": {},
   "outputs": [],
   "source": [
    "print_report(y_valid, y_predictions)"
   ]
  },
  {
   "cell_type": "code",
   "execution_count": null,
   "metadata": {},
   "outputs": [],
   "source": [
    "# run_on_test_data(optimizer)"
   ]
  }
 ],
 "metadata": {
  "kernelspec": {
   "display_name": "Python 3",
   "language": "python",
   "name": "python3"
  },
  "language_info": {
   "codemirror_mode": {
    "name": "ipython",
    "version": 3
   },
   "file_extension": ".py",
   "mimetype": "text/x-python",
   "name": "python",
   "nbconvert_exporter": "python",
   "pygments_lexer": "ipython3",
   "version": "3.7.0"
  },
  "nbTranslate": {
   "displayLangs": [
    "*"
   ],
   "hotkey": "alt-t",
   "langInMainMenu": true,
   "sourceLang": "en",
   "targetLang": "fr",
   "useGoogleTranslate": true
  },
  "varInspector": {
   "cols": {
    "lenName": 16,
    "lenType": 16,
    "lenVar": 40
   },
   "kernels_config": {
    "python": {
     "delete_cmd_postfix": "",
     "delete_cmd_prefix": "del ",
     "library": "var_list.py",
     "varRefreshCmd": "print(var_dic_list())"
    },
    "r": {
     "delete_cmd_postfix": ") ",
     "delete_cmd_prefix": "rm(",
     "library": "var_list.r",
     "varRefreshCmd": "cat(var_dic_list()) "
    }
   },
   "types_to_exclude": [
    "module",
    "function",
    "builtin_function_or_method",
    "instance",
    "_Feature"
   ],
   "window_display": false
  }
 },
 "nbformat": 4,
 "nbformat_minor": 2
}
