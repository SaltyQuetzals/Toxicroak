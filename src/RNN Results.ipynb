{
 "cells": [
  {
   "cell_type": "code",
   "execution_count": null,
   "metadata": {},
   "outputs": [],
   "source": [
    "import os\n",
    "import matplotlib.pyplot as plt\n",
    "import pandas as pd\n",
    "import numpy as np\n",
    "from sklearn.metrics import classification_report, f1_score, roc_auc_score\n",
    "from constants import LABEL_COLS"
   ]
  },
  {
   "cell_type": "code",
   "execution_count": null,
   "metadata": {},
   "outputs": [],
   "source": [
    "f1_scores = []\n",
    "for cutoff in np.linspace(0, 1, num=50):\n",
    "    results_df = pd.read_csv('../data/predicted_labels.csv')\n",
    "\n",
    "    binary_labels = []\n",
    "    for key in LABEL_COLS:\n",
    "        binary_key = f'binary_{key}'\n",
    "        results_df[binary_key] = (results_df[key] >= cutoff).astype(int)\n",
    "\n",
    "        binary_labels.append(binary_key)\n",
    "    results_df.drop(LABEL_COLS, axis=1, inplace=True)\n",
    "    data_df = pd.read_csv('../data/raw/test.csv')\n",
    "\n",
    "    label_df = pd.read_csv('../data/raw/test_labels.csv')\n",
    "\n",
    "    test_df = data_df.set_index('id').join(label_df.set_index('id'))\n",
    "    master_df = test_df.join(results_df.set_index('id'))\n",
    "    CONDITIONS = [f'{label} != -1' for label in LABEL_COLS]\n",
    "    QUERY_STRING = ' & '.join(CONDITIONS)\n",
    "    master_df = master_df.query(QUERY_STRING)\n",
    "    y_test = master_df[LABEL_COLS]\n",
    "    predictions = master_df[binary_labels]\n",
    "\n",
    "    f1_scores.append((cutoff, roc_auc_score(y_test, predictions, average='macro')))"
   ]
  },
  {
   "cell_type": "code",
   "execution_count": null,
   "metadata": {},
   "outputs": [],
   "source": [
    "cutoff, _ = max(f1_scores, key=lambda x: x[1])\n",
    "results_df = pd.read_csv('../data/predicted_labels.csv')\n",
    "\n",
    "binary_labels = []\n",
    "for key in LABEL_COLS:\n",
    "    binary_key = f'binary_{key}'\n",
    "    results_df[binary_key] = (results_df[key] >= cutoff).astype(int)\n",
    "\n",
    "    binary_labels.append(binary_key)\n",
    "results_df.drop(LABEL_COLS, axis=1, inplace=True)\n",
    "data_df = pd.read_csv('../data/raw/test.csv')\n",
    "\n",
    "label_df = pd.read_csv('../data/raw/test_labels.csv')\n",
    "\n",
    "test_df = data_df.set_index('id').join(label_df.set_index('id'))\n",
    "master_df = test_df.join(results_df.set_index('id'))\n",
    "CONDITIONS = [f'{label} != -1' for label in LABEL_COLS]\n",
    "QUERY_STRING = ' & '.join(CONDITIONS)\n",
    "master_df = master_df.query(QUERY_STRING)\n",
    "y_test = master_df[LABEL_COLS]\n",
    "predictions = master_df[binary_labels]\n",
    "\n",
    "print(roc_auc_score(y_test, predictions))"
   ]
  }
 ],
 "metadata": {
  "kernelspec": {
   "display_name": "Python 3",
   "language": "python",
   "name": "python3"
  },
  "language_info": {
   "codemirror_mode": {
    "name": "ipython",
    "version": 3
   },
   "file_extension": ".py",
   "mimetype": "text/x-python",
   "name": "python",
   "nbconvert_exporter": "python",
   "pygments_lexer": "ipython3",
   "version": "3.7.0"
  }
 },
 "nbformat": 4,
 "nbformat_minor": 2
}
