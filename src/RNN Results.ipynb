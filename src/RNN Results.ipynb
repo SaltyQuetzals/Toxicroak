{
 "cells": [
  {
   "cell_type": "code",
   "execution_count": 1,
   "metadata": {},
   "outputs": [],
   "source": [
    "import os\n",
    "import matplotlib.pyplot as plt\n",
    "import pandas as pd\n",
    "import numpy as np\n",
    "from sklearn.metrics import classification_report, f1_score, roc_auc_score\n",
    "from constants import LABEL_COLS"
   ]
  },
  {
   "cell_type": "code",
   "execution_count": 2,
   "metadata": {},
   "outputs": [
    {
     "name": "stderr",
     "output_type": "stream",
     "text": [
      "/home/quontas/anaconda3/lib/python3.7/site-packages/sklearn/metrics/classification.py:1143: UndefinedMetricWarning: F-score is ill-defined and being set to 0.0 in labels with no predicted samples.\n",
      "  'precision', 'predicted', average, warn_for)\n"
     ]
    }
   ],
   "source": [
    "f1_scores = []\n",
    "for cutoff in np.linspace(0, 1, num=50):\n",
    "    results_df = pd.read_csv('../data/predicted_labels.csv')\n",
    "\n",
    "    binary_labels = []\n",
    "    for key in LABEL_COLS:\n",
    "        binary_key = f'binary_{key}'\n",
    "        results_df[binary_key] = (results_df[key] >= cutoff).astype(int)\n",
    "\n",
    "        binary_labels.append(binary_key)\n",
    "    results_df.drop(LABEL_COLS, axis=1, inplace=True)\n",
    "    data_df = pd.read_csv('../data/raw/test.csv')\n",
    "\n",
    "    label_df = pd.read_csv('../data/raw/test_labels.csv')\n",
    "\n",
    "    test_df = data_df.set_index('id').join(label_df.set_index('id'))\n",
    "    master_df = test_df.join(results_df.set_index('id'))\n",
    "    CONDITIONS = [f'{label} != -1' for label in LABEL_COLS]\n",
    "    QUERY_STRING = ' & '.join(CONDITIONS)\n",
    "    master_df = master_df.query(QUERY_STRING)\n",
    "    y_test = master_df[LABEL_COLS]\n",
    "    predictions = master_df[binary_labels]\n",
    "\n",
    "    f1_scores.append((cutoff, f1_score(y_test, predictions, average='weighted')))"
   ]
  },
  {
   "cell_type": "code",
   "execution_count": 5,
   "metadata": {},
   "outputs": [
    {
     "name": "stdout",
     "output_type": "stream",
     "text": [
      "               precision    recall  f1-score   support\n",
      "\n",
      "        toxic       0.55      0.84      0.67      6090\n",
      " severe_toxic       0.43      0.05      0.09       367\n",
      "      obscene       0.63      0.76      0.69      3691\n",
      "       threat       0.00      0.00      0.00       211\n",
      "       insult       0.66      0.67      0.66      3427\n",
      "identity_hate       0.74      0.36      0.48       712\n",
      "\n",
      "    micro avg       0.60      0.72      0.65     14498\n",
      "    macro avg       0.50      0.44      0.43     14498\n",
      " weighted avg       0.60      0.72      0.64     14498\n",
      "  samples avg       0.07      0.07      0.07     14498\n",
      "\n"
     ]
    },
    {
     "name": "stderr",
     "output_type": "stream",
     "text": [
      "/home/quontas/anaconda3/lib/python3.7/site-packages/sklearn/metrics/classification.py:1143: UndefinedMetricWarning: Precision and F-score are ill-defined and being set to 0.0 in labels with no predicted samples.\n",
      "  'precision', 'predicted', average, warn_for)\n",
      "/home/quontas/anaconda3/lib/python3.7/site-packages/sklearn/metrics/classification.py:1143: UndefinedMetricWarning: Precision and F-score are ill-defined and being set to 0.0 in samples with no predicted labels.\n",
      "  'precision', 'predicted', average, warn_for)\n",
      "/home/quontas/anaconda3/lib/python3.7/site-packages/sklearn/metrics/classification.py:1145: UndefinedMetricWarning: Recall and F-score are ill-defined and being set to 0.0 in samples with no true labels.\n",
      "  'recall', 'true', average, warn_for)\n"
     ]
    }
   ],
   "source": [
    "cutoff, _ = max(f1_scores, key=lambda x: x[1])\n",
    "results_df = pd.read_csv('../data/predicted_labels.csv')\n",
    "\n",
    "binary_labels = []\n",
    "for key in LABEL_COLS:\n",
    "    binary_key = f'binary_{key}'\n",
    "    results_df[binary_key] = (results_df[key] >= cutoff).astype(int)\n",
    "\n",
    "    binary_labels.append(binary_key)\n",
    "results_df.drop(LABEL_COLS, axis=1, inplace=True)\n",
    "data_df = pd.read_csv('../data/raw/test.csv')\n",
    "\n",
    "label_df = pd.read_csv('../data/raw/test_labels.csv')\n",
    "\n",
    "test_df = data_df.set_index('id').join(label_df.set_index('id'))\n",
    "master_df = test_df.join(results_df.set_index('id'))\n",
    "CONDITIONS = [f'{label} != -1' for label in LABEL_COLS]\n",
    "QUERY_STRING = ' & '.join(CONDITIONS)\n",
    "master_df = master_df.query(QUERY_STRING)\n",
    "y_test = master_df[LABEL_COLS]\n",
    "predictions = master_df[binary_labels]\n",
    "\n",
    "print(classification_report(y_test, predictions, target_names=LABEL_COLS))"
   ]
  }
 ],
 "metadata": {
  "kernelspec": {
   "display_name": "Python 3",
   "language": "python",
   "name": "python3"
  },
  "language_info": {
   "codemirror_mode": {
    "name": "ipython",
    "version": 3
   },
   "file_extension": ".py",
   "mimetype": "text/x-python",
   "name": "python",
   "nbconvert_exporter": "python",
   "pygments_lexer": "ipython3",
   "version": "3.7.0"
  },
  "nbTranslate": {
   "displayLangs": [
    "*"
   ],
   "hotkey": "alt-t",
   "langInMainMenu": true,
   "sourceLang": "en",
   "targetLang": "fr",
   "useGoogleTranslate": true
  },
  "varInspector": {
   "cols": {
    "lenName": 16,
    "lenType": 16,
    "lenVar": 40
   },
   "kernels_config": {
    "python": {
     "delete_cmd_postfix": "",
     "delete_cmd_prefix": "del ",
     "library": "var_list.py",
     "varRefreshCmd": "print(var_dic_list())"
    },
    "r": {
     "delete_cmd_postfix": ") ",
     "delete_cmd_prefix": "rm(",
     "library": "var_list.r",
     "varRefreshCmd": "cat(var_dic_list()) "
    }
   },
   "types_to_exclude": [
    "module",
    "function",
    "builtin_function_or_method",
    "instance",
    "_Feature"
   ],
   "window_display": false
  }
 },
 "nbformat": 4,
 "nbformat_minor": 2
}
