{
 "cells": [
  {
   "cell_type": "code",
   "execution_count": null,
   "metadata": {},
   "outputs": [],
   "source": [
    "from os import path\n",
    "\n",
    "from matplotlib import pyplot as plt\n",
    "import pandas as pd\n",
    "\n",
    "from sklearn.feature_extraction.text import TfidfVectorizer, CountVectorizer\n",
    "from sklearn.ensemble import RandomForestClassifier\n",
    "from sklearn.pipeline import make_pipeline, make_union\n",
    "from sklearn.model_selection import train_test_split, GridSearchCV\n",
    "from sklearn import metrics\n",
    "\n",
    "from functions import load_bad_words, build_data_path, print_report\n",
    "from constants import LABEL_COLS"
   ]
  },
  {
   "cell_type": "code",
   "execution_count": null,
   "metadata": {},
   "outputs": [],
   "source": [
    "BAD_WORDS = load_bad_words()\n",
    "training_data_path = build_data_path('train.csv')"
   ]
  },
  {
   "cell_type": "code",
   "execution_count": null,
   "metadata": {},
   "outputs": [],
   "source": [
    "df = pd.read_csv(training_data_path)\n",
    "X = df['comment_text']\n",
    "y = df[LABEL_COLS]"
   ]
  },
  {
   "cell_type": "code",
   "execution_count": null,
   "metadata": {},
   "outputs": [],
   "source": [
    "X_train, X_valid, y_train, y_valid = train_test_split(X, y, test_size=0.4)"
   ]
  },
  {
   "cell_type": "code",
   "execution_count": null,
   "metadata": {
    "scrolled": true
   },
   "outputs": [],
   "source": [
    "clf = RandomForestClassifier()\n",
    "\n",
    "tfidf = TfidfVectorizer(lowercase=True, stop_words='english')\n",
    "bad_word_counter = CountVectorizer(vocabulary=BAD_WORDS)\n",
    "\n",
    "union = make_union(tfidf, bad_word_counter)\n",
    "\n",
    "pipeline = make_pipeline(union, clf)\n",
    "\n",
    "optimizer = pipeline\n",
    "\n",
    "print('Would you like to perform an exhaustive search? NOTE: This will take several hours.')\n",
    "autotune_hyperparameters = input('Please enter \"yes\" or \"no\".')\n",
    "\n",
    "\n",
    "# Auto-tune hyperparameters\n",
    "while autotune_hyperparameters.lower() not in ['yes', 'no']:\n",
    "    autotune_hyperparameters = input('Please enter \"yes\" or \"no\".')\n",
    "if autotune_hyperparameters == 'yes':\n",
    "    parameters = {\n",
    "        'featureunion__tfidfvectorizer__lowercase': [True, False],\n",
    "        'featureunion__tfidfvectorizer__max_features': [1000, 5000, 10000, None],\n",
    "        'featureunion__countvectorizer__binary': [True, False],\n",
    "        'randomforestclassifier__n_estimators': [10, 50, 100, 150],\n",
    "        'randomforestclassifier__class_weight': [None, 'balanced'],\n",
    "    }\n",
    "    optimizer = GridSearchCV(pipeline, parameters, scoring='f1_macro', verbose=3)\n",
    "\n",
    "optimizer.fit(X_train, y_train)"
   ]
  },
  {
   "cell_type": "code",
   "execution_count": null,
   "metadata": {},
   "outputs": [],
   "source": [
    "y_predictions = optimizer.predict(X_valid)\n",
    "print(y_predictions.shape, y_valid.shape)\n",
    "# best_estimator_ = optimizer.best_estimator_"
   ]
  },
  {
   "cell_type": "code",
   "execution_count": null,
   "metadata": {},
   "outputs": [],
   "source": [
    "metrics.roc_auc_score(y_valid, y_predictions)"
   ]
  },
  {
   "cell_type": "code",
   "execution_count": null,
   "metadata": {},
   "outputs": [],
   "source": [
    "test_data = build_data_path('test.csv')\n",
    "\n",
    "data_df = pd.read_csv(test_data)\n",
    "\n",
    "test_labels = build_data_path('test_labels.csv')\n",
    "label_df = pd.read_csv(test_labels)\n",
    "\n",
    "test_df = data_df.set_index('id').join(label_df.set_index('id'))\n",
    "CONDITIONS = [f'{label} != -1' for label in LABEL_COLS]\n",
    "QUERY_STRING = ' & '.join(CONDITIONS)\n",
    "test_df = test_df.query(QUERY_STRING)\n",
    "X_test = test_df['comment_text']\n",
    "y_test = test_df[LABEL_COLS]\n",
    "\n",
    "y_predictions = optimizer.predict(X_test)\n",
    "\n",
    "print_report(y_test, y_predictions, data_type='TESTING')"
   ]
  }
 ],
 "metadata": {
  "kernelspec": {
   "display_name": "Python 3",
   "language": "python",
   "name": "python3"
  },
  "language_info": {
   "codemirror_mode": {
    "name": "ipython",
    "version": 3
   },
   "file_extension": ".py",
   "mimetype": "text/x-python",
   "name": "python",
   "nbconvert_exporter": "python",
   "pygments_lexer": "ipython3",
   "version": "3.7.0"
  },
  "nbTranslate": {
   "displayLangs": [
    "*"
   ],
   "hotkey": "alt-t",
   "langInMainMenu": true,
   "sourceLang": "en",
   "targetLang": "fr",
   "useGoogleTranslate": true
  },
  "varInspector": {
   "cols": {
    "lenName": 16,
    "lenType": 16,
    "lenVar": 40
   },
   "kernels_config": {
    "python": {
     "delete_cmd_postfix": "",
     "delete_cmd_prefix": "del ",
     "library": "var_list.py",
     "varRefreshCmd": "print(var_dic_list())"
    },
    "r": {
     "delete_cmd_postfix": ") ",
     "delete_cmd_prefix": "rm(",
     "library": "var_list.r",
     "varRefreshCmd": "cat(var_dic_list()) "
    }
   },
   "types_to_exclude": [
    "module",
    "function",
    "builtin_function_or_method",
    "instance",
    "_Feature"
   ],
   "window_display": false
  }
 },
 "nbformat": 4,
 "nbformat_minor": 2
}
