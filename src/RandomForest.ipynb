{
 "cells": [
  {
   "cell_type": "code",
   "execution_count": 1,
   "metadata": {},
   "outputs": [],
   "source": [
    "from os import path\n",
    "\n",
    "from matplotlib import pyplot as plt\n",
    "import pandas as pd\n",
    "\n",
    "from sklearn.feature_extraction.text import TfidfVectorizer, CountVectorizer\n",
    "from sklearn.ensemble import RandomForestClassifier\n",
    "from sklearn.pipeline import make_pipeline, make_union\n",
    "from sklearn.model_selection import train_test_split, GridSearchCV\n",
    "from sklearn.utils.class_weight import compute_sample_weight\n",
    "from sklearn import metrics\n",
    "\n",
    "from functions import load_bad_words, build_data_path, print_report\n",
    "from constants import LABEL_COLS"
   ]
  },
  {
   "cell_type": "code",
   "execution_count": 2,
   "metadata": {},
   "outputs": [],
   "source": [
    "BAD_WORDS = load_bad_words()\n",
    "training_data_path = build_data_path('train.csv')"
   ]
  },
  {
   "cell_type": "code",
   "execution_count": 3,
   "metadata": {},
   "outputs": [],
   "source": [
    "df = pd.read_csv(training_data_path)\n",
    "X = df['comment_text']\n",
    "y = df[LABEL_COLS]"
   ]
  },
  {
   "cell_type": "code",
   "execution_count": 4,
   "metadata": {},
   "outputs": [],
   "source": [
    "X_train, X_valid, y_train, y_valid = train_test_split(X, y, test_size=0.4)"
   ]
  },
  {
   "cell_type": "code",
   "execution_count": 5,
   "metadata": {
    "scrolled": true
   },
   "outputs": [
    {
     "name": "stdout",
     "output_type": "stream",
     "text": [
      "Would you like to perform an exhaustive search? NOTE: This will take several hours.\n",
      "Please enter \"yes\" or \"no\".yes\n"
     ]
    },
    {
     "name": "stderr",
     "output_type": "stream",
     "text": [
      "/home/quontas/anaconda3/lib/python3.7/site-packages/sklearn/model_selection/_split.py:1943: FutureWarning: You should specify a value for 'cv' instead of relying on the default value. The default value will change from 3 to 5 in version 0.22.\n",
      "  warnings.warn(CV_WARNING, FutureWarning)\n",
      "[Parallel(n_jobs=1)]: Using backend SequentialBackend with 1 concurrent workers.\n"
     ]
    },
    {
     "name": "stdout",
     "output_type": "stream",
     "text": [
      "Fitting 3 folds for each of 32 candidates, totalling 96 fits\n",
      "[CV] featureunion__countvectorizer__binary=True, featureunion__tfidfvectorizer__lowercase=True, featureunion__tfidfvectorizer__max_features=1000, randomforestclassifier__class_weight=None \n"
     ]
    },
    {
     "name": "stderr",
     "output_type": "stream",
     "text": [
      "/home/quontas/anaconda3/lib/python3.7/site-packages/sklearn/ensemble/forest.py:248: FutureWarning: The default value of n_estimators will change from 10 in version 0.20 to 100 in 0.22.\n",
      "  \"10 in version 0.20 to 100 in 0.22.\", FutureWarning)\n"
     ]
    },
    {
     "name": "stdout",
     "output_type": "stream",
     "text": [
      "[CV]  featureunion__countvectorizer__binary=True, featureunion__tfidfvectorizer__lowercase=True, featureunion__tfidfvectorizer__max_features=1000, randomforestclassifier__class_weight=None, score=0.6460078991624626, total=  46.1s\n",
      "[CV] featureunion__countvectorizer__binary=True, featureunion__tfidfvectorizer__lowercase=True, featureunion__tfidfvectorizer__max_features=1000, randomforestclassifier__class_weight=None \n"
     ]
    },
    {
     "name": "stderr",
     "output_type": "stream",
     "text": [
      "[Parallel(n_jobs=1)]: Done   1 out of   1 | elapsed:   54.4s remaining:    0.0s\n",
      "/home/quontas/anaconda3/lib/python3.7/site-packages/sklearn/ensemble/forest.py:248: FutureWarning: The default value of n_estimators will change from 10 in version 0.20 to 100 in 0.22.\n",
      "  \"10 in version 0.20 to 100 in 0.22.\", FutureWarning)\n"
     ]
    },
    {
     "name": "stdout",
     "output_type": "stream",
     "text": [
      "[CV]  featureunion__countvectorizer__binary=True, featureunion__tfidfvectorizer__lowercase=True, featureunion__tfidfvectorizer__max_features=1000, randomforestclassifier__class_weight=None, score=0.6506001728559206, total=  44.7s\n",
      "[CV] featureunion__countvectorizer__binary=True, featureunion__tfidfvectorizer__lowercase=True, featureunion__tfidfvectorizer__max_features=1000, randomforestclassifier__class_weight=None \n"
     ]
    },
    {
     "name": "stderr",
     "output_type": "stream",
     "text": [
      "[Parallel(n_jobs=1)]: Done   2 out of   2 | elapsed:  1.8min remaining:    0.0s\n",
      "/home/quontas/anaconda3/lib/python3.7/site-packages/sklearn/ensemble/forest.py:248: FutureWarning: The default value of n_estimators will change from 10 in version 0.20 to 100 in 0.22.\n",
      "  \"10 in version 0.20 to 100 in 0.22.\", FutureWarning)\n"
     ]
    },
    {
     "name": "stdout",
     "output_type": "stream",
     "text": [
      "[CV]  featureunion__countvectorizer__binary=True, featureunion__tfidfvectorizer__lowercase=True, featureunion__tfidfvectorizer__max_features=1000, randomforestclassifier__class_weight=None, score=0.6311374354019982, total=  25.7s\n",
      "[CV] featureunion__countvectorizer__binary=True, featureunion__tfidfvectorizer__lowercase=True, featureunion__tfidfvectorizer__max_features=1000, randomforestclassifier__class_weight=balanced \n"
     ]
    },
    {
     "name": "stderr",
     "output_type": "stream",
     "text": [
      "/home/quontas/anaconda3/lib/python3.7/site-packages/sklearn/ensemble/forest.py:248: FutureWarning: The default value of n_estimators will change from 10 in version 0.20 to 100 in 0.22.\n",
      "  \"10 in version 0.20 to 100 in 0.22.\", FutureWarning)\n"
     ]
    },
    {
     "name": "stdout",
     "output_type": "stream",
     "text": [
      "[CV]  featureunion__countvectorizer__binary=True, featureunion__tfidfvectorizer__lowercase=True, featureunion__tfidfvectorizer__max_features=1000, randomforestclassifier__class_weight=balanced, score=0.4728377905142838, total=  34.7s\n",
      "[CV] featureunion__countvectorizer__binary=True, featureunion__tfidfvectorizer__lowercase=True, featureunion__tfidfvectorizer__max_features=1000, randomforestclassifier__class_weight=balanced \n"
     ]
    },
    {
     "name": "stderr",
     "output_type": "stream",
     "text": [
      "/home/quontas/anaconda3/lib/python3.7/site-packages/sklearn/ensemble/forest.py:248: FutureWarning: The default value of n_estimators will change from 10 in version 0.20 to 100 in 0.22.\n",
      "  \"10 in version 0.20 to 100 in 0.22.\", FutureWarning)\n"
     ]
    },
    {
     "name": "stdout",
     "output_type": "stream",
     "text": [
      "[CV]  featureunion__countvectorizer__binary=True, featureunion__tfidfvectorizer__lowercase=True, featureunion__tfidfvectorizer__max_features=1000, randomforestclassifier__class_weight=balanced, score=0.44830982031858835, total=  24.7s\n",
      "[CV] featureunion__countvectorizer__binary=True, featureunion__tfidfvectorizer__lowercase=True, featureunion__tfidfvectorizer__max_features=1000, randomforestclassifier__class_weight=balanced \n"
     ]
    },
    {
     "name": "stderr",
     "output_type": "stream",
     "text": [
      "/home/quontas/anaconda3/lib/python3.7/site-packages/sklearn/ensemble/forest.py:248: FutureWarning: The default value of n_estimators will change from 10 in version 0.20 to 100 in 0.22.\n",
      "  \"10 in version 0.20 to 100 in 0.22.\", FutureWarning)\n"
     ]
    },
    {
     "name": "stdout",
     "output_type": "stream",
     "text": [
      "[CV]  featureunion__countvectorizer__binary=True, featureunion__tfidfvectorizer__lowercase=True, featureunion__tfidfvectorizer__max_features=1000, randomforestclassifier__class_weight=balanced, score=0.45730706000105903, total=  25.1s\n",
      "[CV] featureunion__countvectorizer__binary=True, featureunion__tfidfvectorizer__lowercase=True, featureunion__tfidfvectorizer__max_features=5000, randomforestclassifier__class_weight=None \n"
     ]
    },
    {
     "name": "stderr",
     "output_type": "stream",
     "text": [
      "/home/quontas/anaconda3/lib/python3.7/site-packages/sklearn/ensemble/forest.py:248: FutureWarning: The default value of n_estimators will change from 10 in version 0.20 to 100 in 0.22.\n",
      "  \"10 in version 0.20 to 100 in 0.22.\", FutureWarning)\n"
     ]
    },
    {
     "name": "stdout",
     "output_type": "stream",
     "text": [
      "[CV]  featureunion__countvectorizer__binary=True, featureunion__tfidfvectorizer__lowercase=True, featureunion__tfidfvectorizer__max_features=5000, randomforestclassifier__class_weight=None, score=0.655983981531818, total=  38.7s\n",
      "[CV] featureunion__countvectorizer__binary=True, featureunion__tfidfvectorizer__lowercase=True, featureunion__tfidfvectorizer__max_features=5000, randomforestclassifier__class_weight=None \n"
     ]
    },
    {
     "name": "stderr",
     "output_type": "stream",
     "text": [
      "/home/quontas/anaconda3/lib/python3.7/site-packages/sklearn/ensemble/forest.py:248: FutureWarning: The default value of n_estimators will change from 10 in version 0.20 to 100 in 0.22.\n",
      "  \"10 in version 0.20 to 100 in 0.22.\", FutureWarning)\n"
     ]
    },
    {
     "name": "stdout",
     "output_type": "stream",
     "text": [
      "[CV]  featureunion__countvectorizer__binary=True, featureunion__tfidfvectorizer__lowercase=True, featureunion__tfidfvectorizer__max_features=5000, randomforestclassifier__class_weight=None, score=0.6613924877782911, total=  35.3s\n",
      "[CV] featureunion__countvectorizer__binary=True, featureunion__tfidfvectorizer__lowercase=True, featureunion__tfidfvectorizer__max_features=5000, randomforestclassifier__class_weight=None \n"
     ]
    },
    {
     "name": "stderr",
     "output_type": "stream",
     "text": [
      "/home/quontas/anaconda3/lib/python3.7/site-packages/sklearn/ensemble/forest.py:248: FutureWarning: The default value of n_estimators will change from 10 in version 0.20 to 100 in 0.22.\n",
      "  \"10 in version 0.20 to 100 in 0.22.\", FutureWarning)\n"
     ]
    },
    {
     "name": "stdout",
     "output_type": "stream",
     "text": [
      "[CV]  featureunion__countvectorizer__binary=True, featureunion__tfidfvectorizer__lowercase=True, featureunion__tfidfvectorizer__max_features=5000, randomforestclassifier__class_weight=None, score=0.6479209124234612, total=  42.4s\n",
      "[CV] featureunion__countvectorizer__binary=True, featureunion__tfidfvectorizer__lowercase=True, featureunion__tfidfvectorizer__max_features=5000, randomforestclassifier__class_weight=balanced \n"
     ]
    },
    {
     "name": "stderr",
     "output_type": "stream",
     "text": [
      "/home/quontas/anaconda3/lib/python3.7/site-packages/sklearn/ensemble/forest.py:248: FutureWarning: The default value of n_estimators will change from 10 in version 0.20 to 100 in 0.22.\n",
      "  \"10 in version 0.20 to 100 in 0.22.\", FutureWarning)\n"
     ]
    },
    {
     "name": "stdout",
     "output_type": "stream",
     "text": [
      "[CV]  featureunion__countvectorizer__binary=True, featureunion__tfidfvectorizer__lowercase=True, featureunion__tfidfvectorizer__max_features=5000, randomforestclassifier__class_weight=balanced, score=0.4838635412509964, total=  58.8s\n",
      "[CV] featureunion__countvectorizer__binary=True, featureunion__tfidfvectorizer__lowercase=True, featureunion__tfidfvectorizer__max_features=5000, randomforestclassifier__class_weight=balanced \n"
     ]
    },
    {
     "name": "stderr",
     "output_type": "stream",
     "text": [
      "/home/quontas/anaconda3/lib/python3.7/site-packages/sklearn/ensemble/forest.py:248: FutureWarning: The default value of n_estimators will change from 10 in version 0.20 to 100 in 0.22.\n",
      "  \"10 in version 0.20 to 100 in 0.22.\", FutureWarning)\n"
     ]
    },
    {
     "name": "stdout",
     "output_type": "stream",
     "text": [
      "[CV]  featureunion__countvectorizer__binary=True, featureunion__tfidfvectorizer__lowercase=True, featureunion__tfidfvectorizer__max_features=5000, randomforestclassifier__class_weight=balanced, score=0.4458064191072223, total=  32.4s\n",
      "[CV] featureunion__countvectorizer__binary=True, featureunion__tfidfvectorizer__lowercase=True, featureunion__tfidfvectorizer__max_features=5000, randomforestclassifier__class_weight=balanced \n"
     ]
    },
    {
     "name": "stderr",
     "output_type": "stream",
     "text": [
      "/home/quontas/anaconda3/lib/python3.7/site-packages/sklearn/ensemble/forest.py:248: FutureWarning: The default value of n_estimators will change from 10 in version 0.20 to 100 in 0.22.\n",
      "  \"10 in version 0.20 to 100 in 0.22.\", FutureWarning)\n"
     ]
    },
    {
     "name": "stdout",
     "output_type": "stream",
     "text": [
      "[CV]  featureunion__countvectorizer__binary=True, featureunion__tfidfvectorizer__lowercase=True, featureunion__tfidfvectorizer__max_features=5000, randomforestclassifier__class_weight=balanced, score=0.46279529706788747, total=  31.3s\n",
      "[CV] featureunion__countvectorizer__binary=True, featureunion__tfidfvectorizer__lowercase=True, featureunion__tfidfvectorizer__max_features=10000, randomforestclassifier__class_weight=None \n"
     ]
    },
    {
     "name": "stderr",
     "output_type": "stream",
     "text": [
      "/home/quontas/anaconda3/lib/python3.7/site-packages/sklearn/ensemble/forest.py:248: FutureWarning: The default value of n_estimators will change from 10 in version 0.20 to 100 in 0.22.\n",
      "  \"10 in version 0.20 to 100 in 0.22.\", FutureWarning)\n"
     ]
    },
    {
     "name": "stdout",
     "output_type": "stream",
     "text": [
      "[CV]  featureunion__countvectorizer__binary=True, featureunion__tfidfvectorizer__lowercase=True, featureunion__tfidfvectorizer__max_features=10000, randomforestclassifier__class_weight=None, score=0.6549282591154602, total=  44.5s\n",
      "[CV] featureunion__countvectorizer__binary=True, featureunion__tfidfvectorizer__lowercase=True, featureunion__tfidfvectorizer__max_features=10000, randomforestclassifier__class_weight=None \n"
     ]
    },
    {
     "name": "stderr",
     "output_type": "stream",
     "text": [
      "/home/quontas/anaconda3/lib/python3.7/site-packages/sklearn/ensemble/forest.py:248: FutureWarning: The default value of n_estimators will change from 10 in version 0.20 to 100 in 0.22.\n",
      "  \"10 in version 0.20 to 100 in 0.22.\", FutureWarning)\n"
     ]
    },
    {
     "name": "stdout",
     "output_type": "stream",
     "text": [
      "[CV]  featureunion__countvectorizer__binary=True, featureunion__tfidfvectorizer__lowercase=True, featureunion__tfidfvectorizer__max_features=10000, randomforestclassifier__class_weight=None, score=0.6644291711474666, total=  43.1s\n",
      "[CV] featureunion__countvectorizer__binary=True, featureunion__tfidfvectorizer__lowercase=True, featureunion__tfidfvectorizer__max_features=10000, randomforestclassifier__class_weight=None \n"
     ]
    },
    {
     "name": "stderr",
     "output_type": "stream",
     "text": [
      "/home/quontas/anaconda3/lib/python3.7/site-packages/sklearn/ensemble/forest.py:248: FutureWarning: The default value of n_estimators will change from 10 in version 0.20 to 100 in 0.22.\n",
      "  \"10 in version 0.20 to 100 in 0.22.\", FutureWarning)\n"
     ]
    },
    {
     "name": "stdout",
     "output_type": "stream",
     "text": [
      "[CV]  featureunion__countvectorizer__binary=True, featureunion__tfidfvectorizer__lowercase=True, featureunion__tfidfvectorizer__max_features=10000, randomforestclassifier__class_weight=None, score=0.6461615395587061, total=  45.9s\n",
      "[CV] featureunion__countvectorizer__binary=True, featureunion__tfidfvectorizer__lowercase=True, featureunion__tfidfvectorizer__max_features=10000, randomforestclassifier__class_weight=balanced \n"
     ]
    },
    {
     "name": "stderr",
     "output_type": "stream",
     "text": [
      "/home/quontas/anaconda3/lib/python3.7/site-packages/sklearn/ensemble/forest.py:248: FutureWarning: The default value of n_estimators will change from 10 in version 0.20 to 100 in 0.22.\n",
      "  \"10 in version 0.20 to 100 in 0.22.\", FutureWarning)\n"
     ]
    },
    {
     "name": "stdout",
     "output_type": "stream",
     "text": [
      "[CV]  featureunion__countvectorizer__binary=True, featureunion__tfidfvectorizer__lowercase=True, featureunion__tfidfvectorizer__max_features=10000, randomforestclassifier__class_weight=balanced, score=0.46646375029933745, total=  37.0s\n",
      "[CV] featureunion__countvectorizer__binary=True, featureunion__tfidfvectorizer__lowercase=True, featureunion__tfidfvectorizer__max_features=10000, randomforestclassifier__class_weight=balanced \n"
     ]
    },
    {
     "name": "stderr",
     "output_type": "stream",
     "text": [
      "/home/quontas/anaconda3/lib/python3.7/site-packages/sklearn/ensemble/forest.py:248: FutureWarning: The default value of n_estimators will change from 10 in version 0.20 to 100 in 0.22.\n",
      "  \"10 in version 0.20 to 100 in 0.22.\", FutureWarning)\n"
     ]
    },
    {
     "name": "stdout",
     "output_type": "stream",
     "text": [
      "[CV]  featureunion__countvectorizer__binary=True, featureunion__tfidfvectorizer__lowercase=True, featureunion__tfidfvectorizer__max_features=10000, randomforestclassifier__class_weight=balanced, score=0.45743840859483376, total=  31.8s\n",
      "[CV] featureunion__countvectorizer__binary=True, featureunion__tfidfvectorizer__lowercase=True, featureunion__tfidfvectorizer__max_features=10000, randomforestclassifier__class_weight=balanced \n"
     ]
    },
    {
     "name": "stderr",
     "output_type": "stream",
     "text": [
      "/home/quontas/anaconda3/lib/python3.7/site-packages/sklearn/ensemble/forest.py:248: FutureWarning: The default value of n_estimators will change from 10 in version 0.20 to 100 in 0.22.\n",
      "  \"10 in version 0.20 to 100 in 0.22.\", FutureWarning)\n"
     ]
    },
    {
     "name": "stdout",
     "output_type": "stream",
     "text": [
      "[CV]  featureunion__countvectorizer__binary=True, featureunion__tfidfvectorizer__lowercase=True, featureunion__tfidfvectorizer__max_features=10000, randomforestclassifier__class_weight=balanced, score=0.46070940798058757, total=  37.7s\n",
      "[CV] featureunion__countvectorizer__binary=True, featureunion__tfidfvectorizer__lowercase=True, featureunion__tfidfvectorizer__max_features=None, randomforestclassifier__class_weight=None \n"
     ]
    },
    {
     "name": "stderr",
     "output_type": "stream",
     "text": [
      "/home/quontas/anaconda3/lib/python3.7/site-packages/sklearn/ensemble/forest.py:248: FutureWarning: The default value of n_estimators will change from 10 in version 0.20 to 100 in 0.22.\n",
      "  \"10 in version 0.20 to 100 in 0.22.\", FutureWarning)\n"
     ]
    },
    {
     "name": "stdout",
     "output_type": "stream",
     "text": [
      "[CV]  featureunion__countvectorizer__binary=True, featureunion__tfidfvectorizer__lowercase=True, featureunion__tfidfvectorizer__max_features=None, randomforestclassifier__class_weight=None, score=0.641985438363726, total=  58.9s\n",
      "[CV] featureunion__countvectorizer__binary=True, featureunion__tfidfvectorizer__lowercase=True, featureunion__tfidfvectorizer__max_features=None, randomforestclassifier__class_weight=None \n"
     ]
    },
    {
     "name": "stderr",
     "output_type": "stream",
     "text": [
      "/home/quontas/anaconda3/lib/python3.7/site-packages/sklearn/ensemble/forest.py:248: FutureWarning: The default value of n_estimators will change from 10 in version 0.20 to 100 in 0.22.\n",
      "  \"10 in version 0.20 to 100 in 0.22.\", FutureWarning)\n"
     ]
    },
    {
     "name": "stdout",
     "output_type": "stream",
     "text": [
      "[CV]  featureunion__countvectorizer__binary=True, featureunion__tfidfvectorizer__lowercase=True, featureunion__tfidfvectorizer__max_features=None, randomforestclassifier__class_weight=None, score=0.6479862228102586, total= 1.2min\n",
      "[CV] featureunion__countvectorizer__binary=True, featureunion__tfidfvectorizer__lowercase=True, featureunion__tfidfvectorizer__max_features=None, randomforestclassifier__class_weight=None \n"
     ]
    },
    {
     "name": "stderr",
     "output_type": "stream",
     "text": [
      "/home/quontas/anaconda3/lib/python3.7/site-packages/sklearn/ensemble/forest.py:248: FutureWarning: The default value of n_estimators will change from 10 in version 0.20 to 100 in 0.22.\n",
      "  \"10 in version 0.20 to 100 in 0.22.\", FutureWarning)\n"
     ]
    },
    {
     "name": "stdout",
     "output_type": "stream",
     "text": [
      "[CV]  featureunion__countvectorizer__binary=True, featureunion__tfidfvectorizer__lowercase=True, featureunion__tfidfvectorizer__max_features=None, randomforestclassifier__class_weight=None, score=0.6312917748958865, total= 1.1min\n",
      "[CV] featureunion__countvectorizer__binary=True, featureunion__tfidfvectorizer__lowercase=True, featureunion__tfidfvectorizer__max_features=None, randomforestclassifier__class_weight=balanced \n"
     ]
    },
    {
     "name": "stderr",
     "output_type": "stream",
     "text": [
      "/home/quontas/anaconda3/lib/python3.7/site-packages/sklearn/ensemble/forest.py:248: FutureWarning: The default value of n_estimators will change from 10 in version 0.20 to 100 in 0.22.\n",
      "  \"10 in version 0.20 to 100 in 0.22.\", FutureWarning)\n"
     ]
    },
    {
     "name": "stdout",
     "output_type": "stream",
     "text": [
      "[CV]  featureunion__countvectorizer__binary=True, featureunion__tfidfvectorizer__lowercase=True, featureunion__tfidfvectorizer__max_features=None, randomforestclassifier__class_weight=balanced, score=0.47449103360020034, total= 1.4min\n",
      "[CV] featureunion__countvectorizer__binary=True, featureunion__tfidfvectorizer__lowercase=True, featureunion__tfidfvectorizer__max_features=None, randomforestclassifier__class_weight=balanced \n"
     ]
    },
    {
     "name": "stderr",
     "output_type": "stream",
     "text": [
      "/home/quontas/anaconda3/lib/python3.7/site-packages/sklearn/ensemble/forest.py:248: FutureWarning: The default value of n_estimators will change from 10 in version 0.20 to 100 in 0.22.\n",
      "  \"10 in version 0.20 to 100 in 0.22.\", FutureWarning)\n"
     ]
    },
    {
     "name": "stdout",
     "output_type": "stream",
     "text": [
      "[CV]  featureunion__countvectorizer__binary=True, featureunion__tfidfvectorizer__lowercase=True, featureunion__tfidfvectorizer__max_features=None, randomforestclassifier__class_weight=balanced, score=0.5005639107443073, total= 1.2min\n",
      "[CV] featureunion__countvectorizer__binary=True, featureunion__tfidfvectorizer__lowercase=True, featureunion__tfidfvectorizer__max_features=None, randomforestclassifier__class_weight=balanced \n"
     ]
    },
    {
     "name": "stderr",
     "output_type": "stream",
     "text": [
      "/home/quontas/anaconda3/lib/python3.7/site-packages/sklearn/ensemble/forest.py:248: FutureWarning: The default value of n_estimators will change from 10 in version 0.20 to 100 in 0.22.\n",
      "  \"10 in version 0.20 to 100 in 0.22.\", FutureWarning)\n"
     ]
    },
    {
     "name": "stdout",
     "output_type": "stream",
     "text": [
      "[CV]  featureunion__countvectorizer__binary=True, featureunion__tfidfvectorizer__lowercase=True, featureunion__tfidfvectorizer__max_features=None, randomforestclassifier__class_weight=balanced, score=0.4389303502339801, total= 1.1min\n",
      "[CV] featureunion__countvectorizer__binary=True, featureunion__tfidfvectorizer__lowercase=False, featureunion__tfidfvectorizer__max_features=1000, randomforestclassifier__class_weight=None \n"
     ]
    },
    {
     "name": "stderr",
     "output_type": "stream",
     "text": [
      "/home/quontas/anaconda3/lib/python3.7/site-packages/sklearn/ensemble/forest.py:248: FutureWarning: The default value of n_estimators will change from 10 in version 0.20 to 100 in 0.22.\n",
      "  \"10 in version 0.20 to 100 in 0.22.\", FutureWarning)\n"
     ]
    },
    {
     "name": "stdout",
     "output_type": "stream",
     "text": [
      "[CV]  featureunion__countvectorizer__binary=True, featureunion__tfidfvectorizer__lowercase=False, featureunion__tfidfvectorizer__max_features=1000, randomforestclassifier__class_weight=None, score=0.6083492134235435, total=  37.3s\n",
      "[CV] featureunion__countvectorizer__binary=True, featureunion__tfidfvectorizer__lowercase=False, featureunion__tfidfvectorizer__max_features=1000, randomforestclassifier__class_weight=None \n"
     ]
    },
    {
     "name": "stderr",
     "output_type": "stream",
     "text": [
      "/home/quontas/anaconda3/lib/python3.7/site-packages/sklearn/ensemble/forest.py:248: FutureWarning: The default value of n_estimators will change from 10 in version 0.20 to 100 in 0.22.\n",
      "  \"10 in version 0.20 to 100 in 0.22.\", FutureWarning)\n"
     ]
    },
    {
     "name": "stdout",
     "output_type": "stream",
     "text": [
      "[CV]  featureunion__countvectorizer__binary=True, featureunion__tfidfvectorizer__lowercase=False, featureunion__tfidfvectorizer__max_features=1000, randomforestclassifier__class_weight=None, score=0.6232980662742857, total=  37.7s\n",
      "[CV] featureunion__countvectorizer__binary=True, featureunion__tfidfvectorizer__lowercase=False, featureunion__tfidfvectorizer__max_features=1000, randomforestclassifier__class_weight=None \n"
     ]
    },
    {
     "name": "stderr",
     "output_type": "stream",
     "text": [
      "/home/quontas/anaconda3/lib/python3.7/site-packages/sklearn/ensemble/forest.py:248: FutureWarning: The default value of n_estimators will change from 10 in version 0.20 to 100 in 0.22.\n",
      "  \"10 in version 0.20 to 100 in 0.22.\", FutureWarning)\n"
     ]
    },
    {
     "name": "stdout",
     "output_type": "stream",
     "text": [
      "[CV]  featureunion__countvectorizer__binary=True, featureunion__tfidfvectorizer__lowercase=False, featureunion__tfidfvectorizer__max_features=1000, randomforestclassifier__class_weight=None, score=0.6074622246015257, total=  29.3s\n",
      "[CV] featureunion__countvectorizer__binary=True, featureunion__tfidfvectorizer__lowercase=False, featureunion__tfidfvectorizer__max_features=1000, randomforestclassifier__class_weight=balanced \n"
     ]
    },
    {
     "name": "stderr",
     "output_type": "stream",
     "text": [
      "/home/quontas/anaconda3/lib/python3.7/site-packages/sklearn/ensemble/forest.py:248: FutureWarning: The default value of n_estimators will change from 10 in version 0.20 to 100 in 0.22.\n",
      "  \"10 in version 0.20 to 100 in 0.22.\", FutureWarning)\n"
     ]
    },
    {
     "name": "stdout",
     "output_type": "stream",
     "text": [
      "[CV]  featureunion__countvectorizer__binary=True, featureunion__tfidfvectorizer__lowercase=False, featureunion__tfidfvectorizer__max_features=1000, randomforestclassifier__class_weight=balanced, score=0.44745719539816525, total=  25.6s\n",
      "[CV] featureunion__countvectorizer__binary=True, featureunion__tfidfvectorizer__lowercase=False, featureunion__tfidfvectorizer__max_features=1000, randomforestclassifier__class_weight=balanced \n"
     ]
    },
    {
     "name": "stderr",
     "output_type": "stream",
     "text": [
      "/home/quontas/anaconda3/lib/python3.7/site-packages/sklearn/ensemble/forest.py:248: FutureWarning: The default value of n_estimators will change from 10 in version 0.20 to 100 in 0.22.\n",
      "  \"10 in version 0.20 to 100 in 0.22.\", FutureWarning)\n"
     ]
    },
    {
     "name": "stdout",
     "output_type": "stream",
     "text": [
      "[CV]  featureunion__countvectorizer__binary=True, featureunion__tfidfvectorizer__lowercase=False, featureunion__tfidfvectorizer__max_features=1000, randomforestclassifier__class_weight=balanced, score=0.4233253186587818, total=  30.5s\n",
      "[CV] featureunion__countvectorizer__binary=True, featureunion__tfidfvectorizer__lowercase=False, featureunion__tfidfvectorizer__max_features=1000, randomforestclassifier__class_weight=balanced \n"
     ]
    },
    {
     "name": "stderr",
     "output_type": "stream",
     "text": [
      "/home/quontas/anaconda3/lib/python3.7/site-packages/sklearn/ensemble/forest.py:248: FutureWarning: The default value of n_estimators will change from 10 in version 0.20 to 100 in 0.22.\n",
      "  \"10 in version 0.20 to 100 in 0.22.\", FutureWarning)\n"
     ]
    },
    {
     "name": "stdout",
     "output_type": "stream",
     "text": [
      "[CV]  featureunion__countvectorizer__binary=True, featureunion__tfidfvectorizer__lowercase=False, featureunion__tfidfvectorizer__max_features=1000, randomforestclassifier__class_weight=balanced, score=0.4416884889487729, total=  28.0s\n",
      "[CV] featureunion__countvectorizer__binary=True, featureunion__tfidfvectorizer__lowercase=False, featureunion__tfidfvectorizer__max_features=5000, randomforestclassifier__class_weight=None \n"
     ]
    },
    {
     "name": "stderr",
     "output_type": "stream",
     "text": [
      "/home/quontas/anaconda3/lib/python3.7/site-packages/sklearn/ensemble/forest.py:248: FutureWarning: The default value of n_estimators will change from 10 in version 0.20 to 100 in 0.22.\n",
      "  \"10 in version 0.20 to 100 in 0.22.\", FutureWarning)\n"
     ]
    },
    {
     "name": "stdout",
     "output_type": "stream",
     "text": [
      "[CV]  featureunion__countvectorizer__binary=True, featureunion__tfidfvectorizer__lowercase=False, featureunion__tfidfvectorizer__max_features=5000, randomforestclassifier__class_weight=None, score=0.6386339457551139, total=  34.3s\n",
      "[CV] featureunion__countvectorizer__binary=True, featureunion__tfidfvectorizer__lowercase=False, featureunion__tfidfvectorizer__max_features=5000, randomforestclassifier__class_weight=None \n"
     ]
    },
    {
     "name": "stderr",
     "output_type": "stream",
     "text": [
      "/home/quontas/anaconda3/lib/python3.7/site-packages/sklearn/ensemble/forest.py:248: FutureWarning: The default value of n_estimators will change from 10 in version 0.20 to 100 in 0.22.\n",
      "  \"10 in version 0.20 to 100 in 0.22.\", FutureWarning)\n"
     ]
    },
    {
     "name": "stdout",
     "output_type": "stream",
     "text": [
      "[CV]  featureunion__countvectorizer__binary=True, featureunion__tfidfvectorizer__lowercase=False, featureunion__tfidfvectorizer__max_features=5000, randomforestclassifier__class_weight=None, score=0.6394152133989152, total=  30.8s\n",
      "[CV] featureunion__countvectorizer__binary=True, featureunion__tfidfvectorizer__lowercase=False, featureunion__tfidfvectorizer__max_features=5000, randomforestclassifier__class_weight=None \n"
     ]
    },
    {
     "name": "stderr",
     "output_type": "stream",
     "text": [
      "/home/quontas/anaconda3/lib/python3.7/site-packages/sklearn/ensemble/forest.py:248: FutureWarning: The default value of n_estimators will change from 10 in version 0.20 to 100 in 0.22.\n",
      "  \"10 in version 0.20 to 100 in 0.22.\", FutureWarning)\n"
     ]
    },
    {
     "name": "stdout",
     "output_type": "stream",
     "text": [
      "[CV]  featureunion__countvectorizer__binary=True, featureunion__tfidfvectorizer__lowercase=False, featureunion__tfidfvectorizer__max_features=5000, randomforestclassifier__class_weight=None, score=0.6229280659458416, total=  38.5s\n",
      "[CV] featureunion__countvectorizer__binary=True, featureunion__tfidfvectorizer__lowercase=False, featureunion__tfidfvectorizer__max_features=5000, randomforestclassifier__class_weight=balanced \n"
     ]
    },
    {
     "name": "stderr",
     "output_type": "stream",
     "text": [
      "/home/quontas/anaconda3/lib/python3.7/site-packages/sklearn/ensemble/forest.py:248: FutureWarning: The default value of n_estimators will change from 10 in version 0.20 to 100 in 0.22.\n",
      "  \"10 in version 0.20 to 100 in 0.22.\", FutureWarning)\n"
     ]
    },
    {
     "name": "stdout",
     "output_type": "stream",
     "text": [
      "[CV]  featureunion__countvectorizer__binary=True, featureunion__tfidfvectorizer__lowercase=False, featureunion__tfidfvectorizer__max_features=5000, randomforestclassifier__class_weight=balanced, score=0.47610830263232956, total=  34.7s\n",
      "[CV] featureunion__countvectorizer__binary=True, featureunion__tfidfvectorizer__lowercase=False, featureunion__tfidfvectorizer__max_features=5000, randomforestclassifier__class_weight=balanced \n"
     ]
    },
    {
     "name": "stderr",
     "output_type": "stream",
     "text": [
      "/home/quontas/anaconda3/lib/python3.7/site-packages/sklearn/ensemble/forest.py:248: FutureWarning: The default value of n_estimators will change from 10 in version 0.20 to 100 in 0.22.\n",
      "  \"10 in version 0.20 to 100 in 0.22.\", FutureWarning)\n"
     ]
    },
    {
     "name": "stdout",
     "output_type": "stream",
     "text": [
      "[CV]  featureunion__countvectorizer__binary=True, featureunion__tfidfvectorizer__lowercase=False, featureunion__tfidfvectorizer__max_features=5000, randomforestclassifier__class_weight=balanced, score=0.46243089427731887, total=  29.6s\n",
      "[CV] featureunion__countvectorizer__binary=True, featureunion__tfidfvectorizer__lowercase=False, featureunion__tfidfvectorizer__max_features=5000, randomforestclassifier__class_weight=balanced \n"
     ]
    },
    {
     "name": "stderr",
     "output_type": "stream",
     "text": [
      "/home/quontas/anaconda3/lib/python3.7/site-packages/sklearn/ensemble/forest.py:248: FutureWarning: The default value of n_estimators will change from 10 in version 0.20 to 100 in 0.22.\n",
      "  \"10 in version 0.20 to 100 in 0.22.\", FutureWarning)\n"
     ]
    },
    {
     "name": "stdout",
     "output_type": "stream",
     "text": [
      "[CV]  featureunion__countvectorizer__binary=True, featureunion__tfidfvectorizer__lowercase=False, featureunion__tfidfvectorizer__max_features=5000, randomforestclassifier__class_weight=balanced, score=0.4586724082441788, total=  29.8s\n",
      "[CV] featureunion__countvectorizer__binary=True, featureunion__tfidfvectorizer__lowercase=False, featureunion__tfidfvectorizer__max_features=10000, randomforestclassifier__class_weight=None \n"
     ]
    },
    {
     "name": "stderr",
     "output_type": "stream",
     "text": [
      "/home/quontas/anaconda3/lib/python3.7/site-packages/sklearn/ensemble/forest.py:248: FutureWarning: The default value of n_estimators will change from 10 in version 0.20 to 100 in 0.22.\n",
      "  \"10 in version 0.20 to 100 in 0.22.\", FutureWarning)\n"
     ]
    },
    {
     "name": "stdout",
     "output_type": "stream",
     "text": [
      "[CV]  featureunion__countvectorizer__binary=True, featureunion__tfidfvectorizer__lowercase=False, featureunion__tfidfvectorizer__max_features=10000, randomforestclassifier__class_weight=None, score=0.6396913547502036, total=  33.9s\n",
      "[CV] featureunion__countvectorizer__binary=True, featureunion__tfidfvectorizer__lowercase=False, featureunion__tfidfvectorizer__max_features=10000, randomforestclassifier__class_weight=None \n"
     ]
    },
    {
     "name": "stderr",
     "output_type": "stream",
     "text": [
      "/home/quontas/anaconda3/lib/python3.7/site-packages/sklearn/ensemble/forest.py:248: FutureWarning: The default value of n_estimators will change from 10 in version 0.20 to 100 in 0.22.\n",
      "  \"10 in version 0.20 to 100 in 0.22.\", FutureWarning)\n"
     ]
    },
    {
     "name": "stdout",
     "output_type": "stream",
     "text": [
      "[CV]  featureunion__countvectorizer__binary=True, featureunion__tfidfvectorizer__lowercase=False, featureunion__tfidfvectorizer__max_features=10000, randomforestclassifier__class_weight=None, score=0.6497207763252957, total=  38.2s\n",
      "[CV] featureunion__countvectorizer__binary=True, featureunion__tfidfvectorizer__lowercase=False, featureunion__tfidfvectorizer__max_features=10000, randomforestclassifier__class_weight=None \n"
     ]
    },
    {
     "name": "stderr",
     "output_type": "stream",
     "text": [
      "/home/quontas/anaconda3/lib/python3.7/site-packages/sklearn/ensemble/forest.py:248: FutureWarning: The default value of n_estimators will change from 10 in version 0.20 to 100 in 0.22.\n",
      "  \"10 in version 0.20 to 100 in 0.22.\", FutureWarning)\n"
     ]
    },
    {
     "name": "stdout",
     "output_type": "stream",
     "text": [
      "[CV]  featureunion__countvectorizer__binary=True, featureunion__tfidfvectorizer__lowercase=False, featureunion__tfidfvectorizer__max_features=10000, randomforestclassifier__class_weight=None, score=0.6273540649845956, total=  32.7s\n",
      "[CV] featureunion__countvectorizer__binary=True, featureunion__tfidfvectorizer__lowercase=False, featureunion__tfidfvectorizer__max_features=10000, randomforestclassifier__class_weight=balanced \n"
     ]
    },
    {
     "name": "stderr",
     "output_type": "stream",
     "text": [
      "/home/quontas/anaconda3/lib/python3.7/site-packages/sklearn/ensemble/forest.py:248: FutureWarning: The default value of n_estimators will change from 10 in version 0.20 to 100 in 0.22.\n",
      "  \"10 in version 0.20 to 100 in 0.22.\", FutureWarning)\n"
     ]
    },
    {
     "name": "stdout",
     "output_type": "stream",
     "text": [
      "[CV]  featureunion__countvectorizer__binary=True, featureunion__tfidfvectorizer__lowercase=False, featureunion__tfidfvectorizer__max_features=10000, randomforestclassifier__class_weight=balanced, score=0.46170685663453126, total=  31.5s\n",
      "[CV] featureunion__countvectorizer__binary=True, featureunion__tfidfvectorizer__lowercase=False, featureunion__tfidfvectorizer__max_features=10000, randomforestclassifier__class_weight=balanced \n"
     ]
    },
    {
     "name": "stderr",
     "output_type": "stream",
     "text": [
      "/home/quontas/anaconda3/lib/python3.7/site-packages/sklearn/ensemble/forest.py:248: FutureWarning: The default value of n_estimators will change from 10 in version 0.20 to 100 in 0.22.\n",
      "  \"10 in version 0.20 to 100 in 0.22.\", FutureWarning)\n"
     ]
    },
    {
     "name": "stdout",
     "output_type": "stream",
     "text": [
      "[CV]  featureunion__countvectorizer__binary=True, featureunion__tfidfvectorizer__lowercase=False, featureunion__tfidfvectorizer__max_features=10000, randomforestclassifier__class_weight=balanced, score=0.4377645409265773, total=  29.6s\n",
      "[CV] featureunion__countvectorizer__binary=True, featureunion__tfidfvectorizer__lowercase=False, featureunion__tfidfvectorizer__max_features=10000, randomforestclassifier__class_weight=balanced \n"
     ]
    },
    {
     "name": "stderr",
     "output_type": "stream",
     "text": [
      "/home/quontas/anaconda3/lib/python3.7/site-packages/sklearn/ensemble/forest.py:248: FutureWarning: The default value of n_estimators will change from 10 in version 0.20 to 100 in 0.22.\n",
      "  \"10 in version 0.20 to 100 in 0.22.\", FutureWarning)\n"
     ]
    },
    {
     "name": "stdout",
     "output_type": "stream",
     "text": [
      "[CV]  featureunion__countvectorizer__binary=True, featureunion__tfidfvectorizer__lowercase=False, featureunion__tfidfvectorizer__max_features=10000, randomforestclassifier__class_weight=balanced, score=0.4467275597611248, total=  31.8s\n",
      "[CV] featureunion__countvectorizer__binary=True, featureunion__tfidfvectorizer__lowercase=False, featureunion__tfidfvectorizer__max_features=None, randomforestclassifier__class_weight=None \n"
     ]
    },
    {
     "name": "stderr",
     "output_type": "stream",
     "text": [
      "/home/quontas/anaconda3/lib/python3.7/site-packages/sklearn/ensemble/forest.py:248: FutureWarning: The default value of n_estimators will change from 10 in version 0.20 to 100 in 0.22.\n",
      "  \"10 in version 0.20 to 100 in 0.22.\", FutureWarning)\n"
     ]
    },
    {
     "name": "stdout",
     "output_type": "stream",
     "text": [
      "[CV]  featureunion__countvectorizer__binary=True, featureunion__tfidfvectorizer__lowercase=False, featureunion__tfidfvectorizer__max_features=None, randomforestclassifier__class_weight=None, score=0.6190938927805254, total=  51.8s\n",
      "[CV] featureunion__countvectorizer__binary=True, featureunion__tfidfvectorizer__lowercase=False, featureunion__tfidfvectorizer__max_features=None, randomforestclassifier__class_weight=None \n"
     ]
    },
    {
     "name": "stderr",
     "output_type": "stream",
     "text": [
      "/home/quontas/anaconda3/lib/python3.7/site-packages/sklearn/ensemble/forest.py:248: FutureWarning: The default value of n_estimators will change from 10 in version 0.20 to 100 in 0.22.\n",
      "  \"10 in version 0.20 to 100 in 0.22.\", FutureWarning)\n"
     ]
    },
    {
     "name": "stdout",
     "output_type": "stream",
     "text": [
      "[CV]  featureunion__countvectorizer__binary=True, featureunion__tfidfvectorizer__lowercase=False, featureunion__tfidfvectorizer__max_features=None, randomforestclassifier__class_weight=None, score=0.6246649185476956, total= 1.1min\n",
      "[CV] featureunion__countvectorizer__binary=True, featureunion__tfidfvectorizer__lowercase=False, featureunion__tfidfvectorizer__max_features=None, randomforestclassifier__class_weight=None \n"
     ]
    },
    {
     "name": "stderr",
     "output_type": "stream",
     "text": [
      "/home/quontas/anaconda3/lib/python3.7/site-packages/sklearn/ensemble/forest.py:248: FutureWarning: The default value of n_estimators will change from 10 in version 0.20 to 100 in 0.22.\n",
      "  \"10 in version 0.20 to 100 in 0.22.\", FutureWarning)\n"
     ]
    },
    {
     "name": "stdout",
     "output_type": "stream",
     "text": [
      "[CV]  featureunion__countvectorizer__binary=True, featureunion__tfidfvectorizer__lowercase=False, featureunion__tfidfvectorizer__max_features=None, randomforestclassifier__class_weight=None, score=0.6045848729668517, total= 1.0min\n",
      "[CV] featureunion__countvectorizer__binary=True, featureunion__tfidfvectorizer__lowercase=False, featureunion__tfidfvectorizer__max_features=None, randomforestclassifier__class_weight=balanced \n"
     ]
    },
    {
     "name": "stderr",
     "output_type": "stream",
     "text": [
      "/home/quontas/anaconda3/lib/python3.7/site-packages/sklearn/ensemble/forest.py:248: FutureWarning: The default value of n_estimators will change from 10 in version 0.20 to 100 in 0.22.\n",
      "  \"10 in version 0.20 to 100 in 0.22.\", FutureWarning)\n"
     ]
    },
    {
     "name": "stdout",
     "output_type": "stream",
     "text": [
      "[CV]  featureunion__countvectorizer__binary=True, featureunion__tfidfvectorizer__lowercase=False, featureunion__tfidfvectorizer__max_features=None, randomforestclassifier__class_weight=balanced, score=0.44522388992400086, total= 1.0min\n",
      "[CV] featureunion__countvectorizer__binary=True, featureunion__tfidfvectorizer__lowercase=False, featureunion__tfidfvectorizer__max_features=None, randomforestclassifier__class_weight=balanced \n"
     ]
    },
    {
     "name": "stderr",
     "output_type": "stream",
     "text": [
      "/home/quontas/anaconda3/lib/python3.7/site-packages/sklearn/ensemble/forest.py:248: FutureWarning: The default value of n_estimators will change from 10 in version 0.20 to 100 in 0.22.\n",
      "  \"10 in version 0.20 to 100 in 0.22.\", FutureWarning)\n"
     ]
    },
    {
     "name": "stdout",
     "output_type": "stream",
     "text": [
      "[CV]  featureunion__countvectorizer__binary=True, featureunion__tfidfvectorizer__lowercase=False, featureunion__tfidfvectorizer__max_features=None, randomforestclassifier__class_weight=balanced, score=0.4613362811015859, total=  58.6s\n",
      "[CV] featureunion__countvectorizer__binary=True, featureunion__tfidfvectorizer__lowercase=False, featureunion__tfidfvectorizer__max_features=None, randomforestclassifier__class_weight=balanced \n"
     ]
    },
    {
     "name": "stderr",
     "output_type": "stream",
     "text": [
      "/home/quontas/anaconda3/lib/python3.7/site-packages/sklearn/ensemble/forest.py:248: FutureWarning: The default value of n_estimators will change from 10 in version 0.20 to 100 in 0.22.\n",
      "  \"10 in version 0.20 to 100 in 0.22.\", FutureWarning)\n"
     ]
    },
    {
     "name": "stdout",
     "output_type": "stream",
     "text": [
      "[CV]  featureunion__countvectorizer__binary=True, featureunion__tfidfvectorizer__lowercase=False, featureunion__tfidfvectorizer__max_features=None, randomforestclassifier__class_weight=balanced, score=0.4579795662782954, total=  57.3s\n",
      "[CV] featureunion__countvectorizer__binary=False, featureunion__tfidfvectorizer__lowercase=True, featureunion__tfidfvectorizer__max_features=1000, randomforestclassifier__class_weight=None \n"
     ]
    },
    {
     "name": "stderr",
     "output_type": "stream",
     "text": [
      "/home/quontas/anaconda3/lib/python3.7/site-packages/sklearn/ensemble/forest.py:248: FutureWarning: The default value of n_estimators will change from 10 in version 0.20 to 100 in 0.22.\n",
      "  \"10 in version 0.20 to 100 in 0.22.\", FutureWarning)\n"
     ]
    },
    {
     "name": "stdout",
     "output_type": "stream",
     "text": [
      "[CV]  featureunion__countvectorizer__binary=False, featureunion__tfidfvectorizer__lowercase=True, featureunion__tfidfvectorizer__max_features=1000, randomforestclassifier__class_weight=None, score=0.6429517016145532, total=  28.1s\n",
      "[CV] featureunion__countvectorizer__binary=False, featureunion__tfidfvectorizer__lowercase=True, featureunion__tfidfvectorizer__max_features=1000, randomforestclassifier__class_weight=None \n"
     ]
    },
    {
     "name": "stderr",
     "output_type": "stream",
     "text": [
      "/home/quontas/anaconda3/lib/python3.7/site-packages/sklearn/ensemble/forest.py:248: FutureWarning: The default value of n_estimators will change from 10 in version 0.20 to 100 in 0.22.\n",
      "  \"10 in version 0.20 to 100 in 0.22.\", FutureWarning)\n"
     ]
    },
    {
     "name": "stdout",
     "output_type": "stream",
     "text": [
      "[CV]  featureunion__countvectorizer__binary=False, featureunion__tfidfvectorizer__lowercase=True, featureunion__tfidfvectorizer__max_features=1000, randomforestclassifier__class_weight=None, score=0.6518655670956987, total=  26.5s\n",
      "[CV] featureunion__countvectorizer__binary=False, featureunion__tfidfvectorizer__lowercase=True, featureunion__tfidfvectorizer__max_features=1000, randomforestclassifier__class_weight=None \n"
     ]
    },
    {
     "name": "stderr",
     "output_type": "stream",
     "text": [
      "/home/quontas/anaconda3/lib/python3.7/site-packages/sklearn/ensemble/forest.py:248: FutureWarning: The default value of n_estimators will change from 10 in version 0.20 to 100 in 0.22.\n",
      "  \"10 in version 0.20 to 100 in 0.22.\", FutureWarning)\n"
     ]
    },
    {
     "name": "stdout",
     "output_type": "stream",
     "text": [
      "[CV]  featureunion__countvectorizer__binary=False, featureunion__tfidfvectorizer__lowercase=True, featureunion__tfidfvectorizer__max_features=1000, randomforestclassifier__class_weight=None, score=0.6351832662119312, total=  27.0s\n",
      "[CV] featureunion__countvectorizer__binary=False, featureunion__tfidfvectorizer__lowercase=True, featureunion__tfidfvectorizer__max_features=1000, randomforestclassifier__class_weight=balanced \n"
     ]
    },
    {
     "name": "stderr",
     "output_type": "stream",
     "text": [
      "/home/quontas/anaconda3/lib/python3.7/site-packages/sklearn/ensemble/forest.py:248: FutureWarning: The default value of n_estimators will change from 10 in version 0.20 to 100 in 0.22.\n",
      "  \"10 in version 0.20 to 100 in 0.22.\", FutureWarning)\n"
     ]
    },
    {
     "name": "stdout",
     "output_type": "stream",
     "text": [
      "[CV]  featureunion__countvectorizer__binary=False, featureunion__tfidfvectorizer__lowercase=True, featureunion__tfidfvectorizer__max_features=1000, randomforestclassifier__class_weight=balanced, score=0.48251088904071615, total=  25.8s\n",
      "[CV] featureunion__countvectorizer__binary=False, featureunion__tfidfvectorizer__lowercase=True, featureunion__tfidfvectorizer__max_features=1000, randomforestclassifier__class_weight=balanced \n"
     ]
    },
    {
     "name": "stderr",
     "output_type": "stream",
     "text": [
      "/home/quontas/anaconda3/lib/python3.7/site-packages/sklearn/ensemble/forest.py:248: FutureWarning: The default value of n_estimators will change from 10 in version 0.20 to 100 in 0.22.\n",
      "  \"10 in version 0.20 to 100 in 0.22.\", FutureWarning)\n"
     ]
    },
    {
     "name": "stdout",
     "output_type": "stream",
     "text": [
      "[CV]  featureunion__countvectorizer__binary=False, featureunion__tfidfvectorizer__lowercase=True, featureunion__tfidfvectorizer__max_features=1000, randomforestclassifier__class_weight=balanced, score=0.46327221233196025, total=  25.8s\n",
      "[CV] featureunion__countvectorizer__binary=False, featureunion__tfidfvectorizer__lowercase=True, featureunion__tfidfvectorizer__max_features=1000, randomforestclassifier__class_weight=balanced \n"
     ]
    },
    {
     "name": "stderr",
     "output_type": "stream",
     "text": [
      "/home/quontas/anaconda3/lib/python3.7/site-packages/sklearn/ensemble/forest.py:248: FutureWarning: The default value of n_estimators will change from 10 in version 0.20 to 100 in 0.22.\n",
      "  \"10 in version 0.20 to 100 in 0.22.\", FutureWarning)\n"
     ]
    },
    {
     "name": "stdout",
     "output_type": "stream",
     "text": [
      "[CV]  featureunion__countvectorizer__binary=False, featureunion__tfidfvectorizer__lowercase=True, featureunion__tfidfvectorizer__max_features=1000, randomforestclassifier__class_weight=balanced, score=0.4430940743995946, total=  25.7s\n",
      "[CV] featureunion__countvectorizer__binary=False, featureunion__tfidfvectorizer__lowercase=True, featureunion__tfidfvectorizer__max_features=5000, randomforestclassifier__class_weight=None \n"
     ]
    },
    {
     "name": "stderr",
     "output_type": "stream",
     "text": [
      "/home/quontas/anaconda3/lib/python3.7/site-packages/sklearn/ensemble/forest.py:248: FutureWarning: The default value of n_estimators will change from 10 in version 0.20 to 100 in 0.22.\n",
      "  \"10 in version 0.20 to 100 in 0.22.\", FutureWarning)\n"
     ]
    },
    {
     "name": "stdout",
     "output_type": "stream",
     "text": [
      "[CV]  featureunion__countvectorizer__binary=False, featureunion__tfidfvectorizer__lowercase=True, featureunion__tfidfvectorizer__max_features=5000, randomforestclassifier__class_weight=None, score=0.6478433407647521, total=  31.4s\n",
      "[CV] featureunion__countvectorizer__binary=False, featureunion__tfidfvectorizer__lowercase=True, featureunion__tfidfvectorizer__max_features=5000, randomforestclassifier__class_weight=None \n"
     ]
    },
    {
     "name": "stderr",
     "output_type": "stream",
     "text": [
      "/home/quontas/anaconda3/lib/python3.7/site-packages/sklearn/ensemble/forest.py:248: FutureWarning: The default value of n_estimators will change from 10 in version 0.20 to 100 in 0.22.\n",
      "  \"10 in version 0.20 to 100 in 0.22.\", FutureWarning)\n"
     ]
    },
    {
     "name": "stdout",
     "output_type": "stream",
     "text": [
      "[CV]  featureunion__countvectorizer__binary=False, featureunion__tfidfvectorizer__lowercase=True, featureunion__tfidfvectorizer__max_features=5000, randomforestclassifier__class_weight=None, score=0.6607707173710055, total=  31.8s\n",
      "[CV] featureunion__countvectorizer__binary=False, featureunion__tfidfvectorizer__lowercase=True, featureunion__tfidfvectorizer__max_features=5000, randomforestclassifier__class_weight=None \n"
     ]
    },
    {
     "name": "stderr",
     "output_type": "stream",
     "text": [
      "/home/quontas/anaconda3/lib/python3.7/site-packages/sklearn/ensemble/forest.py:248: FutureWarning: The default value of n_estimators will change from 10 in version 0.20 to 100 in 0.22.\n",
      "  \"10 in version 0.20 to 100 in 0.22.\", FutureWarning)\n"
     ]
    },
    {
     "name": "stdout",
     "output_type": "stream",
     "text": [
      "[CV]  featureunion__countvectorizer__binary=False, featureunion__tfidfvectorizer__lowercase=True, featureunion__tfidfvectorizer__max_features=5000, randomforestclassifier__class_weight=None, score=0.6487562317025386, total=  30.7s\n",
      "[CV] featureunion__countvectorizer__binary=False, featureunion__tfidfvectorizer__lowercase=True, featureunion__tfidfvectorizer__max_features=5000, randomforestclassifier__class_weight=balanced \n"
     ]
    },
    {
     "name": "stderr",
     "output_type": "stream",
     "text": [
      "/home/quontas/anaconda3/lib/python3.7/site-packages/sklearn/ensemble/forest.py:248: FutureWarning: The default value of n_estimators will change from 10 in version 0.20 to 100 in 0.22.\n",
      "  \"10 in version 0.20 to 100 in 0.22.\", FutureWarning)\n"
     ]
    },
    {
     "name": "stdout",
     "output_type": "stream",
     "text": [
      "[CV]  featureunion__countvectorizer__binary=False, featureunion__tfidfvectorizer__lowercase=True, featureunion__tfidfvectorizer__max_features=5000, randomforestclassifier__class_weight=balanced, score=0.4651175621829224, total=  29.5s\n",
      "[CV] featureunion__countvectorizer__binary=False, featureunion__tfidfvectorizer__lowercase=True, featureunion__tfidfvectorizer__max_features=5000, randomforestclassifier__class_weight=balanced \n"
     ]
    },
    {
     "name": "stderr",
     "output_type": "stream",
     "text": [
      "/home/quontas/anaconda3/lib/python3.7/site-packages/sklearn/ensemble/forest.py:248: FutureWarning: The default value of n_estimators will change from 10 in version 0.20 to 100 in 0.22.\n",
      "  \"10 in version 0.20 to 100 in 0.22.\", FutureWarning)\n"
     ]
    },
    {
     "name": "stdout",
     "output_type": "stream",
     "text": [
      "[CV]  featureunion__countvectorizer__binary=False, featureunion__tfidfvectorizer__lowercase=True, featureunion__tfidfvectorizer__max_features=5000, randomforestclassifier__class_weight=balanced, score=0.434439329600827, total=  28.4s\n",
      "[CV] featureunion__countvectorizer__binary=False, featureunion__tfidfvectorizer__lowercase=True, featureunion__tfidfvectorizer__max_features=5000, randomforestclassifier__class_weight=balanced \n"
     ]
    },
    {
     "name": "stderr",
     "output_type": "stream",
     "text": [
      "/home/quontas/anaconda3/lib/python3.7/site-packages/sklearn/ensemble/forest.py:248: FutureWarning: The default value of n_estimators will change from 10 in version 0.20 to 100 in 0.22.\n",
      "  \"10 in version 0.20 to 100 in 0.22.\", FutureWarning)\n"
     ]
    },
    {
     "name": "stdout",
     "output_type": "stream",
     "text": [
      "[CV]  featureunion__countvectorizer__binary=False, featureunion__tfidfvectorizer__lowercase=True, featureunion__tfidfvectorizer__max_features=5000, randomforestclassifier__class_weight=balanced, score=0.43773659901248424, total=  28.2s\n",
      "[CV] featureunion__countvectorizer__binary=False, featureunion__tfidfvectorizer__lowercase=True, featureunion__tfidfvectorizer__max_features=10000, randomforestclassifier__class_weight=None \n"
     ]
    },
    {
     "name": "stderr",
     "output_type": "stream",
     "text": [
      "/home/quontas/anaconda3/lib/python3.7/site-packages/sklearn/ensemble/forest.py:248: FutureWarning: The default value of n_estimators will change from 10 in version 0.20 to 100 in 0.22.\n",
      "  \"10 in version 0.20 to 100 in 0.22.\", FutureWarning)\n"
     ]
    },
    {
     "name": "stdout",
     "output_type": "stream",
     "text": [
      "[CV]  featureunion__countvectorizer__binary=False, featureunion__tfidfvectorizer__lowercase=True, featureunion__tfidfvectorizer__max_features=10000, randomforestclassifier__class_weight=None, score=0.655764664320409, total=  33.0s\n",
      "[CV] featureunion__countvectorizer__binary=False, featureunion__tfidfvectorizer__lowercase=True, featureunion__tfidfvectorizer__max_features=10000, randomforestclassifier__class_weight=None \n"
     ]
    },
    {
     "name": "stderr",
     "output_type": "stream",
     "text": [
      "/home/quontas/anaconda3/lib/python3.7/site-packages/sklearn/ensemble/forest.py:248: FutureWarning: The default value of n_estimators will change from 10 in version 0.20 to 100 in 0.22.\n",
      "  \"10 in version 0.20 to 100 in 0.22.\", FutureWarning)\n"
     ]
    },
    {
     "name": "stdout",
     "output_type": "stream",
     "text": [
      "[CV]  featureunion__countvectorizer__binary=False, featureunion__tfidfvectorizer__lowercase=True, featureunion__tfidfvectorizer__max_features=10000, randomforestclassifier__class_weight=None, score=0.6571267853839469, total=  31.4s\n",
      "[CV] featureunion__countvectorizer__binary=False, featureunion__tfidfvectorizer__lowercase=True, featureunion__tfidfvectorizer__max_features=10000, randomforestclassifier__class_weight=None \n"
     ]
    },
    {
     "name": "stderr",
     "output_type": "stream",
     "text": [
      "/home/quontas/anaconda3/lib/python3.7/site-packages/sklearn/ensemble/forest.py:248: FutureWarning: The default value of n_estimators will change from 10 in version 0.20 to 100 in 0.22.\n",
      "  \"10 in version 0.20 to 100 in 0.22.\", FutureWarning)\n"
     ]
    },
    {
     "name": "stdout",
     "output_type": "stream",
     "text": [
      "[CV]  featureunion__countvectorizer__binary=False, featureunion__tfidfvectorizer__lowercase=True, featureunion__tfidfvectorizer__max_features=10000, randomforestclassifier__class_weight=None, score=0.6392609154472283, total=  36.9s\n",
      "[CV] featureunion__countvectorizer__binary=False, featureunion__tfidfvectorizer__lowercase=True, featureunion__tfidfvectorizer__max_features=10000, randomforestclassifier__class_weight=balanced \n"
     ]
    },
    {
     "name": "stderr",
     "output_type": "stream",
     "text": [
      "/home/quontas/anaconda3/lib/python3.7/site-packages/sklearn/ensemble/forest.py:248: FutureWarning: The default value of n_estimators will change from 10 in version 0.20 to 100 in 0.22.\n",
      "  \"10 in version 0.20 to 100 in 0.22.\", FutureWarning)\n"
     ]
    },
    {
     "name": "stdout",
     "output_type": "stream",
     "text": [
      "[CV]  featureunion__countvectorizer__binary=False, featureunion__tfidfvectorizer__lowercase=True, featureunion__tfidfvectorizer__max_features=10000, randomforestclassifier__class_weight=balanced, score=0.4612988279588064, total=  33.7s\n",
      "[CV] featureunion__countvectorizer__binary=False, featureunion__tfidfvectorizer__lowercase=True, featureunion__tfidfvectorizer__max_features=10000, randomforestclassifier__class_weight=balanced \n"
     ]
    },
    {
     "name": "stderr",
     "output_type": "stream",
     "text": [
      "/home/quontas/anaconda3/lib/python3.7/site-packages/sklearn/ensemble/forest.py:248: FutureWarning: The default value of n_estimators will change from 10 in version 0.20 to 100 in 0.22.\n",
      "  \"10 in version 0.20 to 100 in 0.22.\", FutureWarning)\n"
     ]
    },
    {
     "name": "stdout",
     "output_type": "stream",
     "text": [
      "[CV]  featureunion__countvectorizer__binary=False, featureunion__tfidfvectorizer__lowercase=True, featureunion__tfidfvectorizer__max_features=10000, randomforestclassifier__class_weight=balanced, score=0.4554058663443946, total=  30.1s\n",
      "[CV] featureunion__countvectorizer__binary=False, featureunion__tfidfvectorizer__lowercase=True, featureunion__tfidfvectorizer__max_features=10000, randomforestclassifier__class_weight=balanced \n"
     ]
    },
    {
     "name": "stderr",
     "output_type": "stream",
     "text": [
      "/home/quontas/anaconda3/lib/python3.7/site-packages/sklearn/ensemble/forest.py:248: FutureWarning: The default value of n_estimators will change from 10 in version 0.20 to 100 in 0.22.\n",
      "  \"10 in version 0.20 to 100 in 0.22.\", FutureWarning)\n"
     ]
    },
    {
     "name": "stdout",
     "output_type": "stream",
     "text": [
      "[CV]  featureunion__countvectorizer__binary=False, featureunion__tfidfvectorizer__lowercase=True, featureunion__tfidfvectorizer__max_features=10000, randomforestclassifier__class_weight=balanced, score=0.453739773246354, total=  32.7s\n",
      "[CV] featureunion__countvectorizer__binary=False, featureunion__tfidfvectorizer__lowercase=True, featureunion__tfidfvectorizer__max_features=None, randomforestclassifier__class_weight=None \n"
     ]
    },
    {
     "name": "stderr",
     "output_type": "stream",
     "text": [
      "/home/quontas/anaconda3/lib/python3.7/site-packages/sklearn/ensemble/forest.py:248: FutureWarning: The default value of n_estimators will change from 10 in version 0.20 to 100 in 0.22.\n",
      "  \"10 in version 0.20 to 100 in 0.22.\", FutureWarning)\n"
     ]
    },
    {
     "name": "stdout",
     "output_type": "stream",
     "text": [
      "[CV]  featureunion__countvectorizer__binary=False, featureunion__tfidfvectorizer__lowercase=True, featureunion__tfidfvectorizer__max_features=None, randomforestclassifier__class_weight=None, score=0.6478538778628238, total=  52.7s\n",
      "[CV] featureunion__countvectorizer__binary=False, featureunion__tfidfvectorizer__lowercase=True, featureunion__tfidfvectorizer__max_features=None, randomforestclassifier__class_weight=None \n"
     ]
    },
    {
     "name": "stderr",
     "output_type": "stream",
     "text": [
      "/home/quontas/anaconda3/lib/python3.7/site-packages/sklearn/ensemble/forest.py:248: FutureWarning: The default value of n_estimators will change from 10 in version 0.20 to 100 in 0.22.\n",
      "  \"10 in version 0.20 to 100 in 0.22.\", FutureWarning)\n"
     ]
    },
    {
     "name": "stdout",
     "output_type": "stream",
     "text": [
      "[CV]  featureunion__countvectorizer__binary=False, featureunion__tfidfvectorizer__lowercase=True, featureunion__tfidfvectorizer__max_features=None, randomforestclassifier__class_weight=None, score=0.6476838499214437, total=  50.3s\n",
      "[CV] featureunion__countvectorizer__binary=False, featureunion__tfidfvectorizer__lowercase=True, featureunion__tfidfvectorizer__max_features=None, randomforestclassifier__class_weight=None \n"
     ]
    },
    {
     "name": "stderr",
     "output_type": "stream",
     "text": [
      "/home/quontas/anaconda3/lib/python3.7/site-packages/sklearn/ensemble/forest.py:248: FutureWarning: The default value of n_estimators will change from 10 in version 0.20 to 100 in 0.22.\n",
      "  \"10 in version 0.20 to 100 in 0.22.\", FutureWarning)\n"
     ]
    },
    {
     "name": "stdout",
     "output_type": "stream",
     "text": [
      "[CV]  featureunion__countvectorizer__binary=False, featureunion__tfidfvectorizer__lowercase=True, featureunion__tfidfvectorizer__max_features=None, randomforestclassifier__class_weight=None, score=0.6330651896518386, total=  52.0s\n",
      "[CV] featureunion__countvectorizer__binary=False, featureunion__tfidfvectorizer__lowercase=True, featureunion__tfidfvectorizer__max_features=None, randomforestclassifier__class_weight=balanced \n"
     ]
    },
    {
     "name": "stderr",
     "output_type": "stream",
     "text": [
      "/home/quontas/anaconda3/lib/python3.7/site-packages/sklearn/ensemble/forest.py:248: FutureWarning: The default value of n_estimators will change from 10 in version 0.20 to 100 in 0.22.\n",
      "  \"10 in version 0.20 to 100 in 0.22.\", FutureWarning)\n"
     ]
    },
    {
     "name": "stdout",
     "output_type": "stream",
     "text": [
      "[CV]  featureunion__countvectorizer__binary=False, featureunion__tfidfvectorizer__lowercase=True, featureunion__tfidfvectorizer__max_features=None, randomforestclassifier__class_weight=balanced, score=0.47241715721768857, total=  53.0s\n",
      "[CV] featureunion__countvectorizer__binary=False, featureunion__tfidfvectorizer__lowercase=True, featureunion__tfidfvectorizer__max_features=None, randomforestclassifier__class_weight=balanced \n"
     ]
    },
    {
     "name": "stderr",
     "output_type": "stream",
     "text": [
      "/home/quontas/anaconda3/lib/python3.7/site-packages/sklearn/ensemble/forest.py:248: FutureWarning: The default value of n_estimators will change from 10 in version 0.20 to 100 in 0.22.\n",
      "  \"10 in version 0.20 to 100 in 0.22.\", FutureWarning)\n"
     ]
    },
    {
     "name": "stdout",
     "output_type": "stream",
     "text": [
      "[CV]  featureunion__countvectorizer__binary=False, featureunion__tfidfvectorizer__lowercase=True, featureunion__tfidfvectorizer__max_features=None, randomforestclassifier__class_weight=balanced, score=0.4612099430883905, total=  51.1s\n",
      "[CV] featureunion__countvectorizer__binary=False, featureunion__tfidfvectorizer__lowercase=True, featureunion__tfidfvectorizer__max_features=None, randomforestclassifier__class_weight=balanced \n"
     ]
    },
    {
     "name": "stderr",
     "output_type": "stream",
     "text": [
      "/home/quontas/anaconda3/lib/python3.7/site-packages/sklearn/ensemble/forest.py:248: FutureWarning: The default value of n_estimators will change from 10 in version 0.20 to 100 in 0.22.\n",
      "  \"10 in version 0.20 to 100 in 0.22.\", FutureWarning)\n"
     ]
    },
    {
     "name": "stdout",
     "output_type": "stream",
     "text": [
      "[CV]  featureunion__countvectorizer__binary=False, featureunion__tfidfvectorizer__lowercase=True, featureunion__tfidfvectorizer__max_features=None, randomforestclassifier__class_weight=balanced, score=0.4885820808058575, total=  51.3s\n",
      "[CV] featureunion__countvectorizer__binary=False, featureunion__tfidfvectorizer__lowercase=False, featureunion__tfidfvectorizer__max_features=1000, randomforestclassifier__class_weight=None \n"
     ]
    },
    {
     "name": "stderr",
     "output_type": "stream",
     "text": [
      "/home/quontas/anaconda3/lib/python3.7/site-packages/sklearn/ensemble/forest.py:248: FutureWarning: The default value of n_estimators will change from 10 in version 0.20 to 100 in 0.22.\n",
      "  \"10 in version 0.20 to 100 in 0.22.\", FutureWarning)\n"
     ]
    },
    {
     "name": "stdout",
     "output_type": "stream",
     "text": [
      "[CV]  featureunion__countvectorizer__binary=False, featureunion__tfidfvectorizer__lowercase=False, featureunion__tfidfvectorizer__max_features=1000, randomforestclassifier__class_weight=None, score=0.6114808140192334, total=  24.9s\n",
      "[CV] featureunion__countvectorizer__binary=False, featureunion__tfidfvectorizer__lowercase=False, featureunion__tfidfvectorizer__max_features=1000, randomforestclassifier__class_weight=None \n"
     ]
    },
    {
     "name": "stderr",
     "output_type": "stream",
     "text": [
      "/home/quontas/anaconda3/lib/python3.7/site-packages/sklearn/ensemble/forest.py:248: FutureWarning: The default value of n_estimators will change from 10 in version 0.20 to 100 in 0.22.\n",
      "  \"10 in version 0.20 to 100 in 0.22.\", FutureWarning)\n"
     ]
    },
    {
     "name": "stdout",
     "output_type": "stream",
     "text": [
      "[CV]  featureunion__countvectorizer__binary=False, featureunion__tfidfvectorizer__lowercase=False, featureunion__tfidfvectorizer__max_features=1000, randomforestclassifier__class_weight=None, score=0.6165532522073709, total=  25.7s\n",
      "[CV] featureunion__countvectorizer__binary=False, featureunion__tfidfvectorizer__lowercase=False, featureunion__tfidfvectorizer__max_features=1000, randomforestclassifier__class_weight=None \n"
     ]
    },
    {
     "name": "stderr",
     "output_type": "stream",
     "text": [
      "/home/quontas/anaconda3/lib/python3.7/site-packages/sklearn/ensemble/forest.py:248: FutureWarning: The default value of n_estimators will change from 10 in version 0.20 to 100 in 0.22.\n",
      "  \"10 in version 0.20 to 100 in 0.22.\", FutureWarning)\n"
     ]
    },
    {
     "name": "stdout",
     "output_type": "stream",
     "text": [
      "[CV]  featureunion__countvectorizer__binary=False, featureunion__tfidfvectorizer__lowercase=False, featureunion__tfidfvectorizer__max_features=1000, randomforestclassifier__class_weight=None, score=0.6061521718927705, total=  26.3s\n",
      "[CV] featureunion__countvectorizer__binary=False, featureunion__tfidfvectorizer__lowercase=False, featureunion__tfidfvectorizer__max_features=1000, randomforestclassifier__class_weight=balanced \n"
     ]
    },
    {
     "name": "stderr",
     "output_type": "stream",
     "text": [
      "/home/quontas/anaconda3/lib/python3.7/site-packages/sklearn/ensemble/forest.py:248: FutureWarning: The default value of n_estimators will change from 10 in version 0.20 to 100 in 0.22.\n",
      "  \"10 in version 0.20 to 100 in 0.22.\", FutureWarning)\n"
     ]
    },
    {
     "name": "stdout",
     "output_type": "stream",
     "text": [
      "[CV]  featureunion__countvectorizer__binary=False, featureunion__tfidfvectorizer__lowercase=False, featureunion__tfidfvectorizer__max_features=1000, randomforestclassifier__class_weight=balanced, score=0.44843952308595353, total=  25.1s\n",
      "[CV] featureunion__countvectorizer__binary=False, featureunion__tfidfvectorizer__lowercase=False, featureunion__tfidfvectorizer__max_features=1000, randomforestclassifier__class_weight=balanced \n"
     ]
    },
    {
     "name": "stderr",
     "output_type": "stream",
     "text": [
      "/home/quontas/anaconda3/lib/python3.7/site-packages/sklearn/ensemble/forest.py:248: FutureWarning: The default value of n_estimators will change from 10 in version 0.20 to 100 in 0.22.\n",
      "  \"10 in version 0.20 to 100 in 0.22.\", FutureWarning)\n"
     ]
    },
    {
     "name": "stdout",
     "output_type": "stream",
     "text": [
      "[CV]  featureunion__countvectorizer__binary=False, featureunion__tfidfvectorizer__lowercase=False, featureunion__tfidfvectorizer__max_features=1000, randomforestclassifier__class_weight=balanced, score=0.42446232365700753, total=  28.0s\n",
      "[CV] featureunion__countvectorizer__binary=False, featureunion__tfidfvectorizer__lowercase=False, featureunion__tfidfvectorizer__max_features=1000, randomforestclassifier__class_weight=balanced \n"
     ]
    },
    {
     "name": "stderr",
     "output_type": "stream",
     "text": [
      "/home/quontas/anaconda3/lib/python3.7/site-packages/sklearn/ensemble/forest.py:248: FutureWarning: The default value of n_estimators will change from 10 in version 0.20 to 100 in 0.22.\n",
      "  \"10 in version 0.20 to 100 in 0.22.\", FutureWarning)\n"
     ]
    },
    {
     "name": "stdout",
     "output_type": "stream",
     "text": [
      "[CV]  featureunion__countvectorizer__binary=False, featureunion__tfidfvectorizer__lowercase=False, featureunion__tfidfvectorizer__max_features=1000, randomforestclassifier__class_weight=balanced, score=0.4381518617914897, total=  44.8s\n",
      "[CV] featureunion__countvectorizer__binary=False, featureunion__tfidfvectorizer__lowercase=False, featureunion__tfidfvectorizer__max_features=5000, randomforestclassifier__class_weight=None \n"
     ]
    },
    {
     "name": "stderr",
     "output_type": "stream",
     "text": [
      "/home/quontas/anaconda3/lib/python3.7/site-packages/sklearn/ensemble/forest.py:248: FutureWarning: The default value of n_estimators will change from 10 in version 0.20 to 100 in 0.22.\n",
      "  \"10 in version 0.20 to 100 in 0.22.\", FutureWarning)\n"
     ]
    },
    {
     "name": "stdout",
     "output_type": "stream",
     "text": [
      "[CV]  featureunion__countvectorizer__binary=False, featureunion__tfidfvectorizer__lowercase=False, featureunion__tfidfvectorizer__max_features=5000, randomforestclassifier__class_weight=None, score=0.6377552888722484, total=  33.6s\n",
      "[CV] featureunion__countvectorizer__binary=False, featureunion__tfidfvectorizer__lowercase=False, featureunion__tfidfvectorizer__max_features=5000, randomforestclassifier__class_weight=None \n"
     ]
    },
    {
     "name": "stderr",
     "output_type": "stream",
     "text": [
      "/home/quontas/anaconda3/lib/python3.7/site-packages/sklearn/ensemble/forest.py:248: FutureWarning: The default value of n_estimators will change from 10 in version 0.20 to 100 in 0.22.\n",
      "  \"10 in version 0.20 to 100 in 0.22.\", FutureWarning)\n"
     ]
    },
    {
     "name": "stdout",
     "output_type": "stream",
     "text": [
      "[CV]  featureunion__countvectorizer__binary=False, featureunion__tfidfvectorizer__lowercase=False, featureunion__tfidfvectorizer__max_features=5000, randomforestclassifier__class_weight=None, score=0.6446853661071985, total=  33.6s\n",
      "[CV] featureunion__countvectorizer__binary=False, featureunion__tfidfvectorizer__lowercase=False, featureunion__tfidfvectorizer__max_features=5000, randomforestclassifier__class_weight=None \n"
     ]
    },
    {
     "name": "stderr",
     "output_type": "stream",
     "text": [
      "/home/quontas/anaconda3/lib/python3.7/site-packages/sklearn/ensemble/forest.py:248: FutureWarning: The default value of n_estimators will change from 10 in version 0.20 to 100 in 0.22.\n",
      "  \"10 in version 0.20 to 100 in 0.22.\", FutureWarning)\n"
     ]
    },
    {
     "name": "stdout",
     "output_type": "stream",
     "text": [
      "[CV]  featureunion__countvectorizer__binary=False, featureunion__tfidfvectorizer__lowercase=False, featureunion__tfidfvectorizer__max_features=5000, randomforestclassifier__class_weight=None, score=0.6251584364842648, total=  32.9s\n",
      "[CV] featureunion__countvectorizer__binary=False, featureunion__tfidfvectorizer__lowercase=False, featureunion__tfidfvectorizer__max_features=5000, randomforestclassifier__class_weight=balanced \n"
     ]
    },
    {
     "name": "stderr",
     "output_type": "stream",
     "text": [
      "/home/quontas/anaconda3/lib/python3.7/site-packages/sklearn/ensemble/forest.py:248: FutureWarning: The default value of n_estimators will change from 10 in version 0.20 to 100 in 0.22.\n",
      "  \"10 in version 0.20 to 100 in 0.22.\", FutureWarning)\n"
     ]
    },
    {
     "name": "stdout",
     "output_type": "stream",
     "text": [
      "[CV]  featureunion__countvectorizer__binary=False, featureunion__tfidfvectorizer__lowercase=False, featureunion__tfidfvectorizer__max_features=5000, randomforestclassifier__class_weight=balanced, score=0.4531158039228794, total=  30.4s\n",
      "[CV] featureunion__countvectorizer__binary=False, featureunion__tfidfvectorizer__lowercase=False, featureunion__tfidfvectorizer__max_features=5000, randomforestclassifier__class_weight=balanced \n"
     ]
    },
    {
     "name": "stderr",
     "output_type": "stream",
     "text": [
      "/home/quontas/anaconda3/lib/python3.7/site-packages/sklearn/ensemble/forest.py:248: FutureWarning: The default value of n_estimators will change from 10 in version 0.20 to 100 in 0.22.\n",
      "  \"10 in version 0.20 to 100 in 0.22.\", FutureWarning)\n"
     ]
    },
    {
     "name": "stdout",
     "output_type": "stream",
     "text": [
      "[CV]  featureunion__countvectorizer__binary=False, featureunion__tfidfvectorizer__lowercase=False, featureunion__tfidfvectorizer__max_features=5000, randomforestclassifier__class_weight=balanced, score=0.4338767717469834, total=  29.2s\n",
      "[CV] featureunion__countvectorizer__binary=False, featureunion__tfidfvectorizer__lowercase=False, featureunion__tfidfvectorizer__max_features=5000, randomforestclassifier__class_weight=balanced \n"
     ]
    },
    {
     "name": "stderr",
     "output_type": "stream",
     "text": [
      "/home/quontas/anaconda3/lib/python3.7/site-packages/sklearn/ensemble/forest.py:248: FutureWarning: The default value of n_estimators will change from 10 in version 0.20 to 100 in 0.22.\n",
      "  \"10 in version 0.20 to 100 in 0.22.\", FutureWarning)\n"
     ]
    },
    {
     "name": "stdout",
     "output_type": "stream",
     "text": [
      "[CV]  featureunion__countvectorizer__binary=False, featureunion__tfidfvectorizer__lowercase=False, featureunion__tfidfvectorizer__max_features=5000, randomforestclassifier__class_weight=balanced, score=0.447197250467632, total=  32.6s\n",
      "[CV] featureunion__countvectorizer__binary=False, featureunion__tfidfvectorizer__lowercase=False, featureunion__tfidfvectorizer__max_features=10000, randomforestclassifier__class_weight=None \n"
     ]
    },
    {
     "name": "stderr",
     "output_type": "stream",
     "text": [
      "/home/quontas/anaconda3/lib/python3.7/site-packages/sklearn/ensemble/forest.py:248: FutureWarning: The default value of n_estimators will change from 10 in version 0.20 to 100 in 0.22.\n",
      "  \"10 in version 0.20 to 100 in 0.22.\", FutureWarning)\n"
     ]
    },
    {
     "name": "stdout",
     "output_type": "stream",
     "text": [
      "[CV]  featureunion__countvectorizer__binary=False, featureunion__tfidfvectorizer__lowercase=False, featureunion__tfidfvectorizer__max_features=10000, randomforestclassifier__class_weight=None, score=0.6404312637046028, total=  36.0s\n",
      "[CV] featureunion__countvectorizer__binary=False, featureunion__tfidfvectorizer__lowercase=False, featureunion__tfidfvectorizer__max_features=10000, randomforestclassifier__class_weight=None \n"
     ]
    },
    {
     "name": "stderr",
     "output_type": "stream",
     "text": [
      "/home/quontas/anaconda3/lib/python3.7/site-packages/sklearn/ensemble/forest.py:248: FutureWarning: The default value of n_estimators will change from 10 in version 0.20 to 100 in 0.22.\n",
      "  \"10 in version 0.20 to 100 in 0.22.\", FutureWarning)\n"
     ]
    },
    {
     "name": "stdout",
     "output_type": "stream",
     "text": [
      "[CV]  featureunion__countvectorizer__binary=False, featureunion__tfidfvectorizer__lowercase=False, featureunion__tfidfvectorizer__max_features=10000, randomforestclassifier__class_weight=None, score=0.640096418708613, total=  32.4s\n",
      "[CV] featureunion__countvectorizer__binary=False, featureunion__tfidfvectorizer__lowercase=False, featureunion__tfidfvectorizer__max_features=10000, randomforestclassifier__class_weight=None \n"
     ]
    },
    {
     "name": "stderr",
     "output_type": "stream",
     "text": [
      "/home/quontas/anaconda3/lib/python3.7/site-packages/sklearn/ensemble/forest.py:248: FutureWarning: The default value of n_estimators will change from 10 in version 0.20 to 100 in 0.22.\n",
      "  \"10 in version 0.20 to 100 in 0.22.\", FutureWarning)\n"
     ]
    },
    {
     "name": "stdout",
     "output_type": "stream",
     "text": [
      "[CV]  featureunion__countvectorizer__binary=False, featureunion__tfidfvectorizer__lowercase=False, featureunion__tfidfvectorizer__max_features=10000, randomforestclassifier__class_weight=None, score=0.6344659235522182, total=  34.0s\n",
      "[CV] featureunion__countvectorizer__binary=False, featureunion__tfidfvectorizer__lowercase=False, featureunion__tfidfvectorizer__max_features=10000, randomforestclassifier__class_weight=balanced \n"
     ]
    },
    {
     "name": "stderr",
     "output_type": "stream",
     "text": [
      "/home/quontas/anaconda3/lib/python3.7/site-packages/sklearn/ensemble/forest.py:248: FutureWarning: The default value of n_estimators will change from 10 in version 0.20 to 100 in 0.22.\n",
      "  \"10 in version 0.20 to 100 in 0.22.\", FutureWarning)\n"
     ]
    },
    {
     "name": "stdout",
     "output_type": "stream",
     "text": [
      "[CV]  featureunion__countvectorizer__binary=False, featureunion__tfidfvectorizer__lowercase=False, featureunion__tfidfvectorizer__max_features=10000, randomforestclassifier__class_weight=balanced, score=0.45423483960578076, total=  31.6s\n",
      "[CV] featureunion__countvectorizer__binary=False, featureunion__tfidfvectorizer__lowercase=False, featureunion__tfidfvectorizer__max_features=10000, randomforestclassifier__class_weight=balanced \n"
     ]
    },
    {
     "name": "stderr",
     "output_type": "stream",
     "text": [
      "/home/quontas/anaconda3/lib/python3.7/site-packages/sklearn/ensemble/forest.py:248: FutureWarning: The default value of n_estimators will change from 10 in version 0.20 to 100 in 0.22.\n",
      "  \"10 in version 0.20 to 100 in 0.22.\", FutureWarning)\n"
     ]
    },
    {
     "name": "stdout",
     "output_type": "stream",
     "text": [
      "[CV]  featureunion__countvectorizer__binary=False, featureunion__tfidfvectorizer__lowercase=False, featureunion__tfidfvectorizer__max_features=10000, randomforestclassifier__class_weight=balanced, score=0.4531333673973906, total=  32.2s\n",
      "[CV] featureunion__countvectorizer__binary=False, featureunion__tfidfvectorizer__lowercase=False, featureunion__tfidfvectorizer__max_features=10000, randomforestclassifier__class_weight=balanced \n"
     ]
    },
    {
     "name": "stderr",
     "output_type": "stream",
     "text": [
      "/home/quontas/anaconda3/lib/python3.7/site-packages/sklearn/ensemble/forest.py:248: FutureWarning: The default value of n_estimators will change from 10 in version 0.20 to 100 in 0.22.\n",
      "  \"10 in version 0.20 to 100 in 0.22.\", FutureWarning)\n"
     ]
    },
    {
     "name": "stdout",
     "output_type": "stream",
     "text": [
      "[CV]  featureunion__countvectorizer__binary=False, featureunion__tfidfvectorizer__lowercase=False, featureunion__tfidfvectorizer__max_features=10000, randomforestclassifier__class_weight=balanced, score=0.44438288908450335, total=  35.4s\n",
      "[CV] featureunion__countvectorizer__binary=False, featureunion__tfidfvectorizer__lowercase=False, featureunion__tfidfvectorizer__max_features=None, randomforestclassifier__class_weight=None \n"
     ]
    },
    {
     "name": "stderr",
     "output_type": "stream",
     "text": [
      "/home/quontas/anaconda3/lib/python3.7/site-packages/sklearn/ensemble/forest.py:248: FutureWarning: The default value of n_estimators will change from 10 in version 0.20 to 100 in 0.22.\n",
      "  \"10 in version 0.20 to 100 in 0.22.\", FutureWarning)\n"
     ]
    },
    {
     "name": "stdout",
     "output_type": "stream",
     "text": [
      "[CV]  featureunion__countvectorizer__binary=False, featureunion__tfidfvectorizer__lowercase=False, featureunion__tfidfvectorizer__max_features=None, randomforestclassifier__class_weight=None, score=0.6264736934584856, total= 1.1min\n",
      "[CV] featureunion__countvectorizer__binary=False, featureunion__tfidfvectorizer__lowercase=False, featureunion__tfidfvectorizer__max_features=None, randomforestclassifier__class_weight=None \n"
     ]
    },
    {
     "name": "stderr",
     "output_type": "stream",
     "text": [
      "/home/quontas/anaconda3/lib/python3.7/site-packages/sklearn/ensemble/forest.py:248: FutureWarning: The default value of n_estimators will change from 10 in version 0.20 to 100 in 0.22.\n",
      "  \"10 in version 0.20 to 100 in 0.22.\", FutureWarning)\n"
     ]
    },
    {
     "name": "stdout",
     "output_type": "stream",
     "text": [
      "[CV]  featureunion__countvectorizer__binary=False, featureunion__tfidfvectorizer__lowercase=False, featureunion__tfidfvectorizer__max_features=None, randomforestclassifier__class_weight=None, score=0.623949005745362, total=  59.5s\n",
      "[CV] featureunion__countvectorizer__binary=False, featureunion__tfidfvectorizer__lowercase=False, featureunion__tfidfvectorizer__max_features=None, randomforestclassifier__class_weight=None \n"
     ]
    },
    {
     "name": "stderr",
     "output_type": "stream",
     "text": [
      "/home/quontas/anaconda3/lib/python3.7/site-packages/sklearn/ensemble/forest.py:248: FutureWarning: The default value of n_estimators will change from 10 in version 0.20 to 100 in 0.22.\n",
      "  \"10 in version 0.20 to 100 in 0.22.\", FutureWarning)\n"
     ]
    },
    {
     "name": "stdout",
     "output_type": "stream",
     "text": [
      "[CV]  featureunion__countvectorizer__binary=False, featureunion__tfidfvectorizer__lowercase=False, featureunion__tfidfvectorizer__max_features=None, randomforestclassifier__class_weight=None, score=0.6095435719116686, total=  55.3s\n",
      "[CV] featureunion__countvectorizer__binary=False, featureunion__tfidfvectorizer__lowercase=False, featureunion__tfidfvectorizer__max_features=None, randomforestclassifier__class_weight=balanced \n"
     ]
    },
    {
     "name": "stderr",
     "output_type": "stream",
     "text": [
      "/home/quontas/anaconda3/lib/python3.7/site-packages/sklearn/ensemble/forest.py:248: FutureWarning: The default value of n_estimators will change from 10 in version 0.20 to 100 in 0.22.\n",
      "  \"10 in version 0.20 to 100 in 0.22.\", FutureWarning)\n"
     ]
    },
    {
     "name": "stdout",
     "output_type": "stream",
     "text": [
      "[CV]  featureunion__countvectorizer__binary=False, featureunion__tfidfvectorizer__lowercase=False, featureunion__tfidfvectorizer__max_features=None, randomforestclassifier__class_weight=balanced, score=0.45629814329174206, total=  55.5s\n",
      "[CV] featureunion__countvectorizer__binary=False, featureunion__tfidfvectorizer__lowercase=False, featureunion__tfidfvectorizer__max_features=None, randomforestclassifier__class_weight=balanced \n"
     ]
    },
    {
     "name": "stderr",
     "output_type": "stream",
     "text": [
      "/home/quontas/anaconda3/lib/python3.7/site-packages/sklearn/ensemble/forest.py:248: FutureWarning: The default value of n_estimators will change from 10 in version 0.20 to 100 in 0.22.\n",
      "  \"10 in version 0.20 to 100 in 0.22.\", FutureWarning)\n"
     ]
    },
    {
     "name": "stdout",
     "output_type": "stream",
     "text": [
      "[CV]  featureunion__countvectorizer__binary=False, featureunion__tfidfvectorizer__lowercase=False, featureunion__tfidfvectorizer__max_features=None, randomforestclassifier__class_weight=balanced, score=0.4624154642399889, total=  54.3s\n",
      "[CV] featureunion__countvectorizer__binary=False, featureunion__tfidfvectorizer__lowercase=False, featureunion__tfidfvectorizer__max_features=None, randomforestclassifier__class_weight=balanced \n"
     ]
    },
    {
     "name": "stderr",
     "output_type": "stream",
     "text": [
      "/home/quontas/anaconda3/lib/python3.7/site-packages/sklearn/ensemble/forest.py:248: FutureWarning: The default value of n_estimators will change from 10 in version 0.20 to 100 in 0.22.\n",
      "  \"10 in version 0.20 to 100 in 0.22.\", FutureWarning)\n"
     ]
    },
    {
     "name": "stdout",
     "output_type": "stream",
     "text": [
      "[CV]  featureunion__countvectorizer__binary=False, featureunion__tfidfvectorizer__lowercase=False, featureunion__tfidfvectorizer__max_features=None, randomforestclassifier__class_weight=balanced, score=0.4467570793450672, total= 1.1min\n"
     ]
    },
    {
     "name": "stderr",
     "output_type": "stream",
     "text": [
      "[Parallel(n_jobs=1)]: Done  96 out of  96 | elapsed: 75.1min finished\n",
      "/home/quontas/anaconda3/lib/python3.7/site-packages/sklearn/ensemble/forest.py:248: FutureWarning: The default value of n_estimators will change from 10 in version 0.20 to 100 in 0.22.\n",
      "  \"10 in version 0.20 to 100 in 0.22.\", FutureWarning)\n"
     ]
    },
    {
     "data": {
      "text/plain": [
       "GridSearchCV(cv='warn', error_score='raise-deprecating',\n",
       "       estimator=Pipeline(memory=None,\n",
       "     steps=[('featureunion', FeatureUnion(n_jobs=None,\n",
       "       transformer_list=[('tfidfvectorizer', TfidfVectorizer(analyzer='word', binary=False, decode_error='strict',\n",
       "        dtype=<class 'numpy.float64'>, encoding='utf-8', input='content',\n",
       "        lowercase=True, max_df=1.0, max_features=None, min_df...obs=None,\n",
       "            oob_score=False, random_state=None, verbose=0,\n",
       "            warm_start=False))]),\n",
       "       fit_params=None, iid='warn', n_jobs=None,\n",
       "       param_grid={'featureunion__tfidfvectorizer__lowercase': [True, False], 'featureunion__tfidfvectorizer__max_features': [1000, 5000, 10000, None], 'featureunion__countvectorizer__binary': [True, False], 'randomforestclassifier__class_weight': [None, 'balanced']},\n",
       "       pre_dispatch='2*n_jobs', refit=True, return_train_score='warn',\n",
       "       scoring='f1_weighted', verbose=3)"
      ]
     },
     "execution_count": 5,
     "metadata": {},
     "output_type": "execute_result"
    }
   ],
   "source": [
    "clf = RandomForestClassifier()\n",
    "\n",
    "tfidf = TfidfVectorizer(lowercase=True, stop_words='english')\n",
    "bad_word_counter = CountVectorizer(vocabulary=BAD_WORDS)\n",
    "\n",
    "union = make_union(tfidf, bad_word_counter)\n",
    "\n",
    "pipeline = make_pipeline(union, clf)\n",
    "\n",
    "optimizer = pipeline\n",
    "\n",
    "print('Would you like to perform an exhaustive search? NOTE: This will take several hours.')\n",
    "autotune_hyperparameters = input('Please enter \"yes\" or \"no\".')\n",
    "\n",
    "\n",
    "# Auto-tune hyperparameters\n",
    "while autotune_hyperparameters.lower() not in ['yes', 'no']:\n",
    "    autotune_hyperparameters = input('Please enter \"yes\" or \"no\".')\n",
    "if autotune_hyperparameters == 'yes':\n",
    "    parameters = {\n",
    "        'featureunion__tfidfvectorizer__lowercase': [True, False],\n",
    "        'featureunion__tfidfvectorizer__max_features': [1000, 5000, 10000, None],\n",
    "        'featureunion__countvectorizer__binary': [True, False],\n",
    "        'randomforestclassifier__class_weight': [None, 'balanced'],\n",
    "    }\n",
    "    optimizer = GridSearchCV(pipeline, parameters, scoring='f1_weighted', verbose=3)\n",
    "fit_params = {\n",
    "    'randomforestclassifier__sample_weights': compute_sample_weight('balanced', y_train)\n",
    "}\n",
    "optimizer.fit(X_train, y_train)"
   ]
  },
  {
   "cell_type": "code",
   "execution_count": 6,
   "metadata": {},
   "outputs": [
    {
     "name": "stdout",
     "output_type": "stream",
     "text": [
      "(63829, 6) (63829, 6)\n"
     ]
    }
   ],
   "source": [
    "y_predictions = optimizer.predict(X_valid)\n",
    "print(y_predictions.shape, y_valid.shape)\n",
    "# best_estimator_ = optimizer.best_estimator_"
   ]
  },
  {
   "cell_type": "code",
   "execution_count": 7,
   "metadata": {},
   "outputs": [
    {
     "data": {
      "text/plain": [
       "0.6874419647275994"
      ]
     },
     "execution_count": 7,
     "metadata": {},
     "output_type": "execute_result"
    }
   ],
   "source": [
    "metrics.roc_auc_score(y_valid, y_predictions)"
   ]
  },
  {
   "cell_type": "code",
   "execution_count": 8,
   "metadata": {},
   "outputs": [
    {
     "name": "stdout",
     "output_type": "stream",
     "text": [
      "TESTING RESULTS:\n",
      "\n",
      "               precision    recall  f1-score   support\n",
      "\n",
      "        toxic       0.55      0.78      0.64      6090\n",
      " severe_toxic       0.17      0.10      0.12       367\n",
      "      obscene       0.56      0.72      0.63      3691\n",
      "       threat       0.29      0.13      0.18       211\n",
      "       insult       0.52      0.57      0.55      3427\n",
      "identity_hate       0.59      0.15      0.24       712\n",
      "\n",
      "    micro avg       0.54      0.66      0.59     14498\n",
      "    macro avg       0.45      0.41      0.39     14498\n",
      " weighted avg       0.53      0.66      0.58     14498\n",
      "  samples avg       0.07      0.06      0.06     14498\n",
      "\n",
      "Class-wise AUC-ROC (Kaggle) [0.85496713 0.54635554 0.84020997 0.56345569 0.77155785 0.57455562]\n",
      "Overall AUC-ROC (Kaggle) 0.6918502981032894\n"
     ]
    },
    {
     "name": "stderr",
     "output_type": "stream",
     "text": [
      "/home/quontas/anaconda3/lib/python3.7/site-packages/sklearn/metrics/classification.py:1143: UndefinedMetricWarning: Precision and F-score are ill-defined and being set to 0.0 in samples with no predicted labels.\n",
      "  'precision', 'predicted', average, warn_for)\n",
      "/home/quontas/anaconda3/lib/python3.7/site-packages/sklearn/metrics/classification.py:1145: UndefinedMetricWarning: Recall and F-score are ill-defined and being set to 0.0 in samples with no true labels.\n",
      "  'recall', 'true', average, warn_for)\n"
     ]
    }
   ],
   "source": [
    "test_data = build_data_path('test.csv')\n",
    "\n",
    "data_df = pd.read_csv(test_data)\n",
    "\n",
    "test_labels = build_data_path('test_labels.csv')\n",
    "label_df = pd.read_csv(test_labels)\n",
    "\n",
    "test_df = data_df.set_index('id').join(label_df.set_index('id'))\n",
    "CONDITIONS = [f'{label} != -1' for label in LABEL_COLS]\n",
    "QUERY_STRING = ' & '.join(CONDITIONS)\n",
    "test_df = test_df.query(QUERY_STRING)\n",
    "X_test = test_df['comment_text']\n",
    "y_test = test_df[LABEL_COLS]\n",
    "\n",
    "y_predictions = optimizer.predict(X_test)\n",
    "\n",
    "print_report(y_test, y_predictions, data_type='TESTING')"
   ]
  }
 ],
 "metadata": {
  "kernelspec": {
   "display_name": "Python 3",
   "language": "python",
   "name": "python3"
  },
  "language_info": {
   "codemirror_mode": {
    "name": "ipython",
    "version": 3
   },
   "file_extension": ".py",
   "mimetype": "text/x-python",
   "name": "python",
   "nbconvert_exporter": "python",
   "pygments_lexer": "ipython3",
   "version": "3.6.7"
  },
  "nbTranslate": {
   "displayLangs": [
    "*"
   ],
   "hotkey": "alt-t",
   "langInMainMenu": true,
   "sourceLang": "en",
   "targetLang": "fr",
   "useGoogleTranslate": true
  },
  "varInspector": {
   "cols": {
    "lenName": 16,
    "lenType": 16,
    "lenVar": 40
   },
   "kernels_config": {
    "python": {
     "delete_cmd_postfix": "",
     "delete_cmd_prefix": "del ",
     "library": "var_list.py",
     "varRefreshCmd": "print(var_dic_list())"
    },
    "r": {
     "delete_cmd_postfix": ") ",
     "delete_cmd_prefix": "rm(",
     "library": "var_list.r",
     "varRefreshCmd": "cat(var_dic_list()) "
    }
   },
   "types_to_exclude": [
    "module",
    "function",
    "builtin_function_or_method",
    "instance",
    "_Feature"
   ],
   "window_display": false
  }
 },
 "nbformat": 4,
 "nbformat_minor": 2
}
