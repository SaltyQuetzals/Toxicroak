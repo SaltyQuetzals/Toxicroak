{
 "cells": [
  {
   "cell_type": "code",
   "execution_count": 1,
   "metadata": {},
   "outputs": [],
   "source": [
    "from os import path\n",
    "\n",
    "from matplotlib import pyplot as plt\n",
    "import pandas as pd\n",
    "\n",
    "from sklearn.feature_extraction.text import TfidfVectorizer, CountVectorizer\n",
    "from sklearn.ensemble import RandomForestClassifier\n",
    "from sklearn.pipeline import make_pipeline, make_union\n",
    "from sklearn.model_selection import train_test_split, GridSearchCV\n",
    "from sklearn import metrics\n",
    "\n",
    "from functions import load_bad_words, build_data_path, print_report\n",
    "from constants import LABEL_COLS"
   ]
  },
  {
   "cell_type": "code",
   "execution_count": 2,
   "metadata": {},
   "outputs": [],
   "source": [
    "BAD_WORDS = load_bad_words()\n",
    "training_data_path = build_data_path('train.csv')"
   ]
  },
  {
   "cell_type": "code",
   "execution_count": 3,
   "metadata": {},
   "outputs": [],
   "source": [
    "df = pd.read_csv(training_data_path)\n",
    "X = df['comment_text']\n",
    "y = df[LABEL_COLS]"
   ]
  },
  {
   "cell_type": "code",
   "execution_count": 4,
   "metadata": {},
   "outputs": [],
   "source": [
    "X_train, X_valid, y_train, y_valid = train_test_split(X, y, test_size=0.4)"
   ]
  },
  {
   "cell_type": "code",
   "execution_count": null,
   "metadata": {
    "scrolled": true
   },
   "outputs": [
    {
     "name": "stdout",
     "output_type": "stream",
     "text": [
      "Would you like to perform an exhaustive search? NOTE: This will take several hours.\n",
      "Please enter \"yes\" or \"no\".yes\n"
     ]
    },
    {
     "name": "stderr",
     "output_type": "stream",
     "text": [
      "/home/quontas/anaconda3/lib/python3.7/site-packages/sklearn/model_selection/_split.py:1943: FutureWarning: You should specify a value for 'cv' instead of relying on the default value. The default value will change from 3 to 5 in version 0.22.\n",
      "  warnings.warn(CV_WARNING, FutureWarning)\n",
      "[Parallel(n_jobs=1)]: Using backend SequentialBackend with 1 concurrent workers.\n"
     ]
    },
    {
     "name": "stdout",
     "output_type": "stream",
     "text": [
      "Fitting 3 folds for each of 16 candidates, totalling 48 fits\n",
      "[CV] featureunion__countvectorizer__binary=True, featureunion__tfidfvectorizer__lowercase=True, featureunion__tfidfvectorizer__max_features=1000, randomforestclassifier__warm_start=True \n",
      "[CV]  featureunion__countvectorizer__binary=True, featureunion__tfidfvectorizer__lowercase=True, featureunion__tfidfvectorizer__max_features=1000, randomforestclassifier__warm_start=True, score=0.6561136381213841, total= 2.8min\n",
      "[CV] featureunion__countvectorizer__binary=True, featureunion__tfidfvectorizer__lowercase=True, featureunion__tfidfvectorizer__max_features=1000, randomforestclassifier__warm_start=True \n"
     ]
    },
    {
     "name": "stderr",
     "output_type": "stream",
     "text": [
      "[Parallel(n_jobs=1)]: Done   1 out of   1 | elapsed:  3.0min remaining:    0.0s\n"
     ]
    },
    {
     "name": "stdout",
     "output_type": "stream",
     "text": [
      "[CV]  featureunion__countvectorizer__binary=True, featureunion__tfidfvectorizer__lowercase=True, featureunion__tfidfvectorizer__max_features=1000, randomforestclassifier__warm_start=True, score=0.6351628280073291, total= 2.9min\n",
      "[CV] featureunion__countvectorizer__binary=True, featureunion__tfidfvectorizer__lowercase=True, featureunion__tfidfvectorizer__max_features=1000, randomforestclassifier__warm_start=True \n"
     ]
    },
    {
     "name": "stderr",
     "output_type": "stream",
     "text": [
      "[Parallel(n_jobs=1)]: Done   2 out of   2 | elapsed:  6.1min remaining:    0.0s\n"
     ]
    },
    {
     "name": "stdout",
     "output_type": "stream",
     "text": [
      "[CV]  featureunion__countvectorizer__binary=True, featureunion__tfidfvectorizer__lowercase=True, featureunion__tfidfvectorizer__max_features=1000, randomforestclassifier__warm_start=True, score=0.6663785404025739, total= 2.8min\n",
      "[CV] featureunion__countvectorizer__binary=True, featureunion__tfidfvectorizer__lowercase=True, featureunion__tfidfvectorizer__max_features=5000, randomforestclassifier__warm_start=True \n",
      "[CV]  featureunion__countvectorizer__binary=True, featureunion__tfidfvectorizer__lowercase=True, featureunion__tfidfvectorizer__max_features=5000, randomforestclassifier__warm_start=True, score=0.6729463934274613, total= 3.6min\n",
      "[CV] featureunion__countvectorizer__binary=True, featureunion__tfidfvectorizer__lowercase=True, featureunion__tfidfvectorizer__max_features=5000, randomforestclassifier__warm_start=True \n",
      "[CV]  featureunion__countvectorizer__binary=True, featureunion__tfidfvectorizer__lowercase=True, featureunion__tfidfvectorizer__max_features=5000, randomforestclassifier__warm_start=True, score=0.66758087226074, total= 3.5min\n",
      "[CV] featureunion__countvectorizer__binary=True, featureunion__tfidfvectorizer__lowercase=True, featureunion__tfidfvectorizer__max_features=5000, randomforestclassifier__warm_start=True \n",
      "[CV]  featureunion__countvectorizer__binary=True, featureunion__tfidfvectorizer__lowercase=True, featureunion__tfidfvectorizer__max_features=5000, randomforestclassifier__warm_start=True, score=0.6795633583228059, total= 3.7min\n",
      "[CV] featureunion__countvectorizer__binary=True, featureunion__tfidfvectorizer__lowercase=True, featureunion__tfidfvectorizer__max_features=10000, randomforestclassifier__warm_start=True \n",
      "[CV]  featureunion__countvectorizer__binary=True, featureunion__tfidfvectorizer__lowercase=True, featureunion__tfidfvectorizer__max_features=10000, randomforestclassifier__warm_start=True, score=0.67799562770456, total= 3.4min\n",
      "[CV] featureunion__countvectorizer__binary=True, featureunion__tfidfvectorizer__lowercase=True, featureunion__tfidfvectorizer__max_features=10000, randomforestclassifier__warm_start=True \n",
      "[CV]  featureunion__countvectorizer__binary=True, featureunion__tfidfvectorizer__lowercase=True, featureunion__tfidfvectorizer__max_features=10000, randomforestclassifier__warm_start=True, score=0.6722678632052713, total= 3.4min\n",
      "[CV] featureunion__countvectorizer__binary=True, featureunion__tfidfvectorizer__lowercase=True, featureunion__tfidfvectorizer__max_features=10000, randomforestclassifier__warm_start=True \n",
      "[CV]  featureunion__countvectorizer__binary=True, featureunion__tfidfvectorizer__lowercase=True, featureunion__tfidfvectorizer__max_features=10000, randomforestclassifier__warm_start=True, score=0.682365425497477, total= 3.4min\n",
      "[CV] featureunion__countvectorizer__binary=True, featureunion__tfidfvectorizer__lowercase=True, featureunion__tfidfvectorizer__max_features=None, randomforestclassifier__warm_start=True \n",
      "[CV]  featureunion__countvectorizer__binary=True, featureunion__tfidfvectorizer__lowercase=True, featureunion__tfidfvectorizer__max_features=None, randomforestclassifier__warm_start=True, score=0.666254131504815, total= 5.7min\n",
      "[CV] featureunion__countvectorizer__binary=True, featureunion__tfidfvectorizer__lowercase=True, featureunion__tfidfvectorizer__max_features=None, randomforestclassifier__warm_start=True \n",
      "[CV]  featureunion__countvectorizer__binary=True, featureunion__tfidfvectorizer__lowercase=True, featureunion__tfidfvectorizer__max_features=None, randomforestclassifier__warm_start=True, score=0.6633875134749829, total= 5.7min\n",
      "[CV] featureunion__countvectorizer__binary=True, featureunion__tfidfvectorizer__lowercase=True, featureunion__tfidfvectorizer__max_features=None, randomforestclassifier__warm_start=True \n",
      "[CV]  featureunion__countvectorizer__binary=True, featureunion__tfidfvectorizer__lowercase=True, featureunion__tfidfvectorizer__max_features=None, randomforestclassifier__warm_start=True, score=0.6785231135771322, total= 5.7min\n",
      "[CV] featureunion__countvectorizer__binary=True, featureunion__tfidfvectorizer__lowercase=False, featureunion__tfidfvectorizer__max_features=1000, randomforestclassifier__warm_start=True \n",
      "[CV]  featureunion__countvectorizer__binary=True, featureunion__tfidfvectorizer__lowercase=False, featureunion__tfidfvectorizer__max_features=1000, randomforestclassifier__warm_start=True, score=0.6291283145148263, total= 2.6min\n",
      "[CV] featureunion__countvectorizer__binary=True, featureunion__tfidfvectorizer__lowercase=False, featureunion__tfidfvectorizer__max_features=1000, randomforestclassifier__warm_start=True \n",
      "[CV]  featureunion__countvectorizer__binary=True, featureunion__tfidfvectorizer__lowercase=False, featureunion__tfidfvectorizer__max_features=1000, randomforestclassifier__warm_start=True, score=0.617032942228184, total= 2.6min\n",
      "[CV] featureunion__countvectorizer__binary=True, featureunion__tfidfvectorizer__lowercase=False, featureunion__tfidfvectorizer__max_features=1000, randomforestclassifier__warm_start=True \n",
      "[CV]  featureunion__countvectorizer__binary=True, featureunion__tfidfvectorizer__lowercase=False, featureunion__tfidfvectorizer__max_features=1000, randomforestclassifier__warm_start=True, score=0.6378583817526207, total= 2.6min\n",
      "[CV] featureunion__countvectorizer__binary=True, featureunion__tfidfvectorizer__lowercase=False, featureunion__tfidfvectorizer__max_features=5000, randomforestclassifier__warm_start=True \n",
      "[CV]  featureunion__countvectorizer__binary=True, featureunion__tfidfvectorizer__lowercase=False, featureunion__tfidfvectorizer__max_features=5000, randomforestclassifier__warm_start=True, score=0.661475478036073, total= 3.3min\n",
      "[CV] featureunion__countvectorizer__binary=True, featureunion__tfidfvectorizer__lowercase=False, featureunion__tfidfvectorizer__max_features=5000, randomforestclassifier__warm_start=True \n",
      "[CV]  featureunion__countvectorizer__binary=True, featureunion__tfidfvectorizer__lowercase=False, featureunion__tfidfvectorizer__max_features=5000, randomforestclassifier__warm_start=True, score=0.6486871350371914, total= 3.4min\n",
      "[CV] featureunion__countvectorizer__binary=True, featureunion__tfidfvectorizer__lowercase=False, featureunion__tfidfvectorizer__max_features=5000, randomforestclassifier__warm_start=True \n",
      "[CV]  featureunion__countvectorizer__binary=True, featureunion__tfidfvectorizer__lowercase=False, featureunion__tfidfvectorizer__max_features=5000, randomforestclassifier__warm_start=True, score=0.6638300524229109, total= 3.5min\n",
      "[CV] featureunion__countvectorizer__binary=True, featureunion__tfidfvectorizer__lowercase=False, featureunion__tfidfvectorizer__max_features=10000, randomforestclassifier__warm_start=True \n",
      "[CV]  featureunion__countvectorizer__binary=True, featureunion__tfidfvectorizer__lowercase=False, featureunion__tfidfvectorizer__max_features=10000, randomforestclassifier__warm_start=True, score=0.6726997902234784, total= 3.4min\n",
      "[CV] featureunion__countvectorizer__binary=True, featureunion__tfidfvectorizer__lowercase=False, featureunion__tfidfvectorizer__max_features=10000, randomforestclassifier__warm_start=True \n",
      "[CV]  featureunion__countvectorizer__binary=True, featureunion__tfidfvectorizer__lowercase=False, featureunion__tfidfvectorizer__max_features=10000, randomforestclassifier__warm_start=True, score=0.6604790261408786, total= 3.4min\n",
      "[CV] featureunion__countvectorizer__binary=True, featureunion__tfidfvectorizer__lowercase=False, featureunion__tfidfvectorizer__max_features=10000, randomforestclassifier__warm_start=True \n",
      "[CV]  featureunion__countvectorizer__binary=True, featureunion__tfidfvectorizer__lowercase=False, featureunion__tfidfvectorizer__max_features=10000, randomforestclassifier__warm_start=True, score=0.6701511092388913, total= 3.3min\n",
      "[CV] featureunion__countvectorizer__binary=True, featureunion__tfidfvectorizer__lowercase=False, featureunion__tfidfvectorizer__max_features=None, randomforestclassifier__warm_start=True \n",
      "[CV]  featureunion__countvectorizer__binary=True, featureunion__tfidfvectorizer__lowercase=False, featureunion__tfidfvectorizer__max_features=None, randomforestclassifier__warm_start=True, score=0.660074461340559, total= 5.5min\n",
      "[CV] featureunion__countvectorizer__binary=True, featureunion__tfidfvectorizer__lowercase=False, featureunion__tfidfvectorizer__max_features=None, randomforestclassifier__warm_start=True \n"
     ]
    },
    {
     "name": "stdout",
     "output_type": "stream",
     "text": [
      "[CV]  featureunion__countvectorizer__binary=True, featureunion__tfidfvectorizer__lowercase=False, featureunion__tfidfvectorizer__max_features=None, randomforestclassifier__warm_start=True, score=0.651108863450771, total= 5.5min\n",
      "[CV] featureunion__countvectorizer__binary=True, featureunion__tfidfvectorizer__lowercase=False, featureunion__tfidfvectorizer__max_features=None, randomforestclassifier__warm_start=True \n",
      "[CV]  featureunion__countvectorizer__binary=True, featureunion__tfidfvectorizer__lowercase=False, featureunion__tfidfvectorizer__max_features=None, randomforestclassifier__warm_start=True, score=0.6594911579994146, total= 5.4min\n",
      "[CV] featureunion__countvectorizer__binary=False, featureunion__tfidfvectorizer__lowercase=True, featureunion__tfidfvectorizer__max_features=1000, randomforestclassifier__warm_start=True \n",
      "[CV]  featureunion__countvectorizer__binary=False, featureunion__tfidfvectorizer__lowercase=True, featureunion__tfidfvectorizer__max_features=1000, randomforestclassifier__warm_start=True, score=0.6560389886599832, total= 2.5min\n",
      "[CV] featureunion__countvectorizer__binary=False, featureunion__tfidfvectorizer__lowercase=True, featureunion__tfidfvectorizer__max_features=1000, randomforestclassifier__warm_start=True \n",
      "[CV]  featureunion__countvectorizer__binary=False, featureunion__tfidfvectorizer__lowercase=True, featureunion__tfidfvectorizer__max_features=1000, randomforestclassifier__warm_start=True, score=0.6378530470101651, total= 2.5min\n",
      "[CV] featureunion__countvectorizer__binary=False, featureunion__tfidfvectorizer__lowercase=True, featureunion__tfidfvectorizer__max_features=1000, randomforestclassifier__warm_start=True \n",
      "[CV]  featureunion__countvectorizer__binary=False, featureunion__tfidfvectorizer__lowercase=True, featureunion__tfidfvectorizer__max_features=1000, randomforestclassifier__warm_start=True, score=0.6678086197609739, total= 2.5min\n",
      "[CV] featureunion__countvectorizer__binary=False, featureunion__tfidfvectorizer__lowercase=True, featureunion__tfidfvectorizer__max_features=5000, randomforestclassifier__warm_start=True \n",
      "[CV]  featureunion__countvectorizer__binary=False, featureunion__tfidfvectorizer__lowercase=True, featureunion__tfidfvectorizer__max_features=5000, randomforestclassifier__warm_start=True, score=0.6761660273260928, total= 3.2min\n",
      "[CV] featureunion__countvectorizer__binary=False, featureunion__tfidfvectorizer__lowercase=True, featureunion__tfidfvectorizer__max_features=5000, randomforestclassifier__warm_start=True \n",
      "[CV]  featureunion__countvectorizer__binary=False, featureunion__tfidfvectorizer__lowercase=True, featureunion__tfidfvectorizer__max_features=5000, randomforestclassifier__warm_start=True, score=0.6659520584969533, total= 3.2min\n",
      "[CV] featureunion__countvectorizer__binary=False, featureunion__tfidfvectorizer__lowercase=True, featureunion__tfidfvectorizer__max_features=5000, randomforestclassifier__warm_start=True \n",
      "[CV]  featureunion__countvectorizer__binary=False, featureunion__tfidfvectorizer__lowercase=True, featureunion__tfidfvectorizer__max_features=5000, randomforestclassifier__warm_start=True, score=0.6795129574441925, total= 3.1min\n",
      "[CV] featureunion__countvectorizer__binary=False, featureunion__tfidfvectorizer__lowercase=True, featureunion__tfidfvectorizer__max_features=10000, randomforestclassifier__warm_start=True \n",
      "[CV]  featureunion__countvectorizer__binary=False, featureunion__tfidfvectorizer__lowercase=True, featureunion__tfidfvectorizer__max_features=10000, randomforestclassifier__warm_start=True, score=0.6794877499829586, total= 3.2min\n",
      "[CV] featureunion__countvectorizer__binary=False, featureunion__tfidfvectorizer__lowercase=True, featureunion__tfidfvectorizer__max_features=10000, randomforestclassifier__warm_start=True \n",
      "[CV]  featureunion__countvectorizer__binary=False, featureunion__tfidfvectorizer__lowercase=True, featureunion__tfidfvectorizer__max_features=10000, randomforestclassifier__warm_start=True, score=0.6702178189234171, total= 3.2min\n",
      "[CV] featureunion__countvectorizer__binary=False, featureunion__tfidfvectorizer__lowercase=True, featureunion__tfidfvectorizer__max_features=10000, randomforestclassifier__warm_start=True \n",
      "[CV]  featureunion__countvectorizer__binary=False, featureunion__tfidfvectorizer__lowercase=True, featureunion__tfidfvectorizer__max_features=10000, randomforestclassifier__warm_start=True, score=0.6828490466054361, total= 3.3min\n",
      "[CV] featureunion__countvectorizer__binary=False, featureunion__tfidfvectorizer__lowercase=True, featureunion__tfidfvectorizer__max_features=None, randomforestclassifier__warm_start=True \n",
      "[CV]  featureunion__countvectorizer__binary=False, featureunion__tfidfvectorizer__lowercase=True, featureunion__tfidfvectorizer__max_features=None, randomforestclassifier__warm_start=True, score=0.6714205086811663, total= 5.3min\n",
      "[CV] featureunion__countvectorizer__binary=False, featureunion__tfidfvectorizer__lowercase=True, featureunion__tfidfvectorizer__max_features=None, randomforestclassifier__warm_start=True \n",
      "[CV]  featureunion__countvectorizer__binary=False, featureunion__tfidfvectorizer__lowercase=True, featureunion__tfidfvectorizer__max_features=None, randomforestclassifier__warm_start=True, score=0.6627787027738601, total= 5.3min\n",
      "[CV] featureunion__countvectorizer__binary=False, featureunion__tfidfvectorizer__lowercase=True, featureunion__tfidfvectorizer__max_features=None, randomforestclassifier__warm_start=True \n",
      "[CV]  featureunion__countvectorizer__binary=False, featureunion__tfidfvectorizer__lowercase=True, featureunion__tfidfvectorizer__max_features=None, randomforestclassifier__warm_start=True, score=0.6747466714253315, total= 5.4min\n",
      "[CV] featureunion__countvectorizer__binary=False, featureunion__tfidfvectorizer__lowercase=False, featureunion__tfidfvectorizer__max_features=1000, randomforestclassifier__warm_start=True \n",
      "[CV]  featureunion__countvectorizer__binary=False, featureunion__tfidfvectorizer__lowercase=False, featureunion__tfidfvectorizer__max_features=1000, randomforestclassifier__warm_start=True, score=0.6246764364696921, total= 2.7min\n",
      "[CV] featureunion__countvectorizer__binary=False, featureunion__tfidfvectorizer__lowercase=False, featureunion__tfidfvectorizer__max_features=1000, randomforestclassifier__warm_start=True \n",
      "[CV]  featureunion__countvectorizer__binary=False, featureunion__tfidfvectorizer__lowercase=False, featureunion__tfidfvectorizer__max_features=1000, randomforestclassifier__warm_start=True, score=0.6204957264169464, total= 2.7min\n",
      "[CV] featureunion__countvectorizer__binary=False, featureunion__tfidfvectorizer__lowercase=False, featureunion__tfidfvectorizer__max_features=1000, randomforestclassifier__warm_start=True \n",
      "[CV]  featureunion__countvectorizer__binary=False, featureunion__tfidfvectorizer__lowercase=False, featureunion__tfidfvectorizer__max_features=1000, randomforestclassifier__warm_start=True, score=0.636796800382623, total= 2.6min\n",
      "[CV] featureunion__countvectorizer__binary=False, featureunion__tfidfvectorizer__lowercase=False, featureunion__tfidfvectorizer__max_features=5000, randomforestclassifier__warm_start=True \n"
     ]
    }
   ],
   "source": [
    "clf = RandomForestClassifier(n_estimators=100, warm_start=True)\n",
    "\n",
    "tfidf = TfidfVectorizer(lowercase=True, stop_words='english')\n",
    "bad_word_counter = CountVectorizer(vocabulary=BAD_WORDS)\n",
    "\n",
    "union = make_union(tfidf, bad_word_counter)\n",
    "\n",
    "pipeline = make_pipeline(union, clf)\n",
    "\n",
    "optimizer = pipeline\n",
    "\n",
    "print('Would you like to perform an exhaustive search? NOTE: This will take several hours.')\n",
    "autotune_hyperparameters = input('Please enter \"yes\" or \"no\".')\n",
    "\n",
    "\n",
    "# Auto-tune hyperparameters\n",
    "while autotune_hyperparameters.lower() not in ['yes', 'no']:\n",
    "    autotune_hyperparameters = input('Please enter \"yes\" or \"no\".')\n",
    "if autotune_hyperparameters == 'yes':\n",
    "    parameters = {\n",
    "        'featureunion__tfidfvectorizer__lowercase': [True, False],\n",
    "        'featureunion__tfidfvectorizer__max_features': [1000, 5000, 10000, None],\n",
    "        'featureunion__countvectorizer__binary': [True, False],\n",
    "        'randomforestclassifier__warm_start': [True]\n",
    "    }\n",
    "    optimizer = GridSearchCV(pipeline, parameters, scoring='f1_weighted', verbose=3)\n",
    "\n",
    "optimizer.fit(X_train, y_train)"
   ]
  },
  {
   "cell_type": "code",
   "execution_count": null,
   "metadata": {},
   "outputs": [],
   "source": [
    "y_predictions = optimizer.predict(X_valid)\n",
    "\n",
    "# best_estimator_ = optimizer.best_estimator_"
   ]
  },
  {
   "cell_type": "code",
   "execution_count": null,
   "metadata": {},
   "outputs": [],
   "source": [
    "print_report(y_valid, y_predictions)"
   ]
  },
  {
   "cell_type": "code",
   "execution_count": null,
   "metadata": {},
   "outputs": [],
   "source": [
    "# test_data = build_data_path('test.csv')\n",
    "\n",
    "# data_df = pd.read_csv(test_data)\n",
    "\n",
    "# test_labels = build_data_path('test_labels.csv')\n",
    "# label_df = pd.read_csv(test_labels)\n",
    "\n",
    "# test_df = data_df.set_index('id').join(label_df.set_index('id'))\n",
    "# CONDITIONS = [f'{label} != -1' for label in LABEL_COLS]\n",
    "# QUERY_STRING = ' & '.join(CONDITIONS)\n",
    "# test_df = test_df.query(QUERY_STRING)\n",
    "# X_test = test_df['comment_text']\n",
    "# y_test = test_df[LABEL_COLS]\n",
    "\n",
    "# y_predictions = optimizer.predict(X_test)\n",
    "\n",
    "# print_report(y_test, y_predictions, data_type='TESTING')"
   ]
  }
 ],
 "metadata": {
  "kernelspec": {
   "display_name": "Python 3",
   "language": "python",
   "name": "python3"
  },
  "language_info": {
   "codemirror_mode": {
    "name": "ipython",
    "version": 3
   },
   "file_extension": ".py",
   "mimetype": "text/x-python",
   "name": "python",
   "nbconvert_exporter": "python",
   "pygments_lexer": "ipython3",
   "version": "3.6.6"
  },
  "nbTranslate": {
   "displayLangs": [
    "*"
   ],
   "hotkey": "alt-t",
   "langInMainMenu": true,
   "sourceLang": "en",
   "targetLang": "fr",
   "useGoogleTranslate": true
  },
  "varInspector": {
   "cols": {
    "lenName": 16,
    "lenType": 16,
    "lenVar": 40
   },
   "kernels_config": {
    "python": {
     "delete_cmd_postfix": "",
     "delete_cmd_prefix": "del ",
     "library": "var_list.py",
     "varRefreshCmd": "print(var_dic_list())"
    },
    "r": {
     "delete_cmd_postfix": ") ",
     "delete_cmd_prefix": "rm(",
     "library": "var_list.r",
     "varRefreshCmd": "cat(var_dic_list()) "
    }
   },
   "types_to_exclude": [
    "module",
    "function",
    "builtin_function_or_method",
    "instance",
    "_Feature"
   ],
   "window_display": false
  }
 },
 "nbformat": 4,
 "nbformat_minor": 2
}
