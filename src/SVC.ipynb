{
 "cells": [
  {
   "cell_type": "code",
   "execution_count": 1,
   "metadata": {},
   "outputs": [],
   "source": [
    "from os import path\n",
    "\n",
    "from matplotlib import pyplot as plt\n",
    "import pandas as pd\n",
    "\n",
    "from sklearn.feature_extraction.text import TfidfVectorizer, CountVectorizer\n",
    "from sklearn.pipeline import make_pipeline, make_union\n",
    "from sklearn.model_selection import train_test_split, GridSearchCV\n",
    "from sklearn.svm import SVC\n",
    "from sklearn.multiclass import OneVsRestClassifier\n",
    "from sklearn import metrics\n",
    "\n",
    "from functions import load_bad_words, build_data_path\n",
    "from constants import LABEL_COLS"
   ]
  },
  {
   "cell_type": "code",
   "execution_count": 4,
   "metadata": {},
   "outputs": [],
   "source": [
    "training_data_path = build_data_path('train.csv')"
   ]
  },
  {
   "cell_type": "code",
   "execution_count": 5,
   "metadata": {},
   "outputs": [],
   "source": [
    "df = pd.read_csv(training_data_path)\n",
    "X = df['comment_text']\n",
    "# df['not_toxic'] = df[LABEL_COLS].apply(not_toxic, axis=1)\n",
    "# LABEL_COLS.append('not_toxic')\n",
    "y = df[LABEL_COLS]"
   ]
  },
  {
   "cell_type": "code",
   "execution_count": 7,
   "metadata": {},
   "outputs": [],
   "source": [
    "X_train, X_valid, y_train, y_valid = train_test_split(X, y, test_size=0.33)"
   ]
  },
  {
   "cell_type": "code",
   "execution_count": 8,
   "metadata": {},
   "outputs": [],
   "source": [
    "clf = OneVsRestClassifier(SVC(gamma='scale'))\n",
    "\n",
    "tfidf = TfidfVectorizer(lowercase=True, stop_words='english')\n",
    "\n",
    "pipeline = make_pipeline(tfidf, clf)\n",
    "\n",
    "pipeline.fit(X_train, y_train)\n",
    "\n",
    "y_predictions = pipeline.predict(X_valid)"
   ]
  },
  {
   "cell_type": "code",
   "execution_count": 9,
   "metadata": {},
   "outputs": [
    {
     "name": "stdout",
     "output_type": "stream",
     "text": [
      "Hamming loss (lower is better): 0.02594365002500364\n",
      "Jaccard similarity (higher is better): 0.9210622432379397\n",
      "\n",
      "               precision    recall  f1-score   support\n",
      "\n",
      "        toxic       0.91      0.33      0.48      5004\n",
      " severe_toxic       0.00      0.00      0.00       521\n",
      "      obscene       0.91      0.47      0.62      2781\n",
      "       threat       0.00      0.00      0.00       161\n",
      "       insult       0.75      0.35      0.48      2535\n",
      "identity_hate       0.00      0.00      0.00       452\n",
      "\n",
      "    micro avg       0.87      0.34      0.48     11454\n",
      "    macro avg       0.43      0.19      0.26     11454\n",
      " weighted avg       0.78      0.34      0.47     11454\n",
      "  samples avg       0.03      0.03      0.03     11454\n",
      "\n"
     ]
    },
    {
     "name": "stderr",
     "output_type": "stream",
     "text": [
      "/home/quontas/anaconda3/lib/python3.7/site-packages/sklearn/metrics/classification.py:1143: UndefinedMetricWarning: Precision and F-score are ill-defined and being set to 0.0 in labels with no predicted samples.\n",
      "  'precision', 'predicted', average, warn_for)\n",
      "/home/quontas/anaconda3/lib/python3.7/site-packages/sklearn/metrics/classification.py:1143: UndefinedMetricWarning: Precision and F-score are ill-defined and being set to 0.0 in samples with no predicted labels.\n",
      "  'precision', 'predicted', average, warn_for)\n",
      "/home/quontas/anaconda3/lib/python3.7/site-packages/sklearn/metrics/classification.py:1145: UndefinedMetricWarning: Recall and F-score are ill-defined and being set to 0.0 in samples with no true labels.\n",
      "  'recall', 'true', average, warn_for)\n"
     ]
    }
   ],
   "source": [
    "hamming_loss = metrics.hamming_loss(y_valid, y_predictions, labels=LABEL_COLS)\n",
    "jaccard = metrics.jaccard_similarity_score(y_valid, y_predictions)\n",
    "print(f'Hamming loss (lower is better): {hamming_loss}')\n",
    "print(f'Jaccard similarity (higher is better): {jaccard}')\n",
    "print()\n",
    "print(metrics.classification_report(y_valid, y_predictions, target_names=LABEL_COLS))"
   ]
  }
 ],
 "metadata": {
  "kernelspec": {
   "display_name": "Python 3",
   "language": "python",
   "name": "python3"
  },
  "language_info": {
   "codemirror_mode": {
    "name": "ipython",
    "version": 3
   },
   "file_extension": ".py",
   "mimetype": "text/x-python",
   "name": "python",
   "nbconvert_exporter": "python",
   "pygments_lexer": "ipython3",
   "version": "3.7.0"
  }
 },
 "nbformat": 4,
 "nbformat_minor": 2
}
